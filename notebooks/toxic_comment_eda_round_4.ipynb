{
 "cells": [
  {
   "cell_type": "code",
   "execution_count": 2,
   "metadata": {
    "collapsed": true
   },
   "outputs": [],
   "source": [
    "import pandas as pd\n",
    "import numpy as np\n",
    "import matplotlib.pyplot as plt\n",
    "%matplotlib inline\n",
    "\n",
    "import string\n",
    "from nltk.corpus import stopwords\n",
    "stopWords = set(stopwords.words(\"english\"))\n",
    "stopWords.add(\"im\")"
   ]
  },
  {
   "cell_type": "code",
   "execution_count": 3,
   "metadata": {
    "collapsed": true
   },
   "outputs": [],
   "source": [
    "train = pd.read_csv(\"../data/train.csv\")"
   ]
  },
  {
   "cell_type": "code",
   "execution_count": 4,
   "metadata": {},
   "outputs": [
    {
     "data": {
      "text/html": [
       "<div>\n",
       "<style>\n",
       "    .dataframe thead tr:only-child th {\n",
       "        text-align: right;\n",
       "    }\n",
       "\n",
       "    .dataframe thead th {\n",
       "        text-align: left;\n",
       "    }\n",
       "\n",
       "    .dataframe tbody tr th {\n",
       "        vertical-align: top;\n",
       "    }\n",
       "</style>\n",
       "<table border=\"1\" class=\"dataframe\">\n",
       "  <thead>\n",
       "    <tr style=\"text-align: right;\">\n",
       "      <th></th>\n",
       "      <th>id</th>\n",
       "      <th>comment_text</th>\n",
       "      <th>toxic</th>\n",
       "      <th>severe_toxic</th>\n",
       "      <th>obscene</th>\n",
       "      <th>threat</th>\n",
       "      <th>insult</th>\n",
       "      <th>identity_hate</th>\n",
       "    </tr>\n",
       "  </thead>\n",
       "  <tbody>\n",
       "    <tr>\n",
       "      <th>0</th>\n",
       "      <td>0000997932d777bf</td>\n",
       "      <td>Explanation\\nWhy the edits made under my usern...</td>\n",
       "      <td>0</td>\n",
       "      <td>0</td>\n",
       "      <td>0</td>\n",
       "      <td>0</td>\n",
       "      <td>0</td>\n",
       "      <td>0</td>\n",
       "    </tr>\n",
       "    <tr>\n",
       "      <th>1</th>\n",
       "      <td>000103f0d9cfb60f</td>\n",
       "      <td>D'aww! He matches this background colour I'm s...</td>\n",
       "      <td>0</td>\n",
       "      <td>0</td>\n",
       "      <td>0</td>\n",
       "      <td>0</td>\n",
       "      <td>0</td>\n",
       "      <td>0</td>\n",
       "    </tr>\n",
       "    <tr>\n",
       "      <th>2</th>\n",
       "      <td>000113f07ec002fd</td>\n",
       "      <td>Hey man, I'm really not trying to edit war. It...</td>\n",
       "      <td>0</td>\n",
       "      <td>0</td>\n",
       "      <td>0</td>\n",
       "      <td>0</td>\n",
       "      <td>0</td>\n",
       "      <td>0</td>\n",
       "    </tr>\n",
       "    <tr>\n",
       "      <th>3</th>\n",
       "      <td>0001b41b1c6bb37e</td>\n",
       "      <td>\"\\nMore\\nI can't make any real suggestions on ...</td>\n",
       "      <td>0</td>\n",
       "      <td>0</td>\n",
       "      <td>0</td>\n",
       "      <td>0</td>\n",
       "      <td>0</td>\n",
       "      <td>0</td>\n",
       "    </tr>\n",
       "    <tr>\n",
       "      <th>4</th>\n",
       "      <td>0001d958c54c6e35</td>\n",
       "      <td>You, sir, are my hero. Any chance you remember...</td>\n",
       "      <td>0</td>\n",
       "      <td>0</td>\n",
       "      <td>0</td>\n",
       "      <td>0</td>\n",
       "      <td>0</td>\n",
       "      <td>0</td>\n",
       "    </tr>\n",
       "  </tbody>\n",
       "</table>\n",
       "</div>"
      ],
      "text/plain": [
       "                 id                                       comment_text  toxic  \\\n",
       "0  0000997932d777bf  Explanation\\nWhy the edits made under my usern...      0   \n",
       "1  000103f0d9cfb60f  D'aww! He matches this background colour I'm s...      0   \n",
       "2  000113f07ec002fd  Hey man, I'm really not trying to edit war. It...      0   \n",
       "3  0001b41b1c6bb37e  \"\\nMore\\nI can't make any real suggestions on ...      0   \n",
       "4  0001d958c54c6e35  You, sir, are my hero. Any chance you remember...      0   \n",
       "\n",
       "   severe_toxic  obscene  threat  insult  identity_hate  \n",
       "0             0        0       0       0              0  \n",
       "1             0        0       0       0              0  \n",
       "2             0        0       0       0              0  \n",
       "3             0        0       0       0              0  \n",
       "4             0        0       0       0              0  "
      ]
     },
     "execution_count": 4,
     "metadata": {},
     "output_type": "execute_result"
    }
   ],
   "source": [
    "train.head()"
   ]
  },
  {
   "cell_type": "markdown",
   "metadata": {
    "collapsed": true
   },
   "source": [
    "### some simple word processing functions"
   ]
  },
  {
   "cell_type": "code",
   "execution_count": 171,
   "metadata": {},
   "outputs": [
    {
     "name": "stdout",
     "output_type": "stream",
     "text": [
      "!\"#$%&'()*+,-./:;<=>?@[\\]^_`{|}~\n"
     ]
    }
   ],
   "source": [
    "punct = set(string.punctuation)\n",
    "print(string.punctuation)\n",
    "\n",
    "def loudness(line):\n",
    "    '''\n",
    "    unstripped line\n",
    "    '''\n",
    "    uppers = set(string.ascii_uppercase)\n",
    "    all_chars = set(string.ascii_letters)\n",
    "    \n",
    "    upper_count = 0\n",
    "    all_count = 0\n",
    "    for ch in line:\n",
    "        if ch in all_chars:\n",
    "            all_count += 1\n",
    "            \n",
    "            if ch in uppers:\n",
    "                upper_count += 1\n",
    "    \n",
    "#     print(\"loudness: {:0.4f}\".format(upper_count / (all_count * 1.0)))\n",
    "    return upper_count / (all_count * 1.0 + 0.000001)  # make compatible with python 2.7 if others use\n",
    "\n",
    "def repeating(line):\n",
    "    '''\n",
    "    stripped line prob works best\n",
    "    '''\n",
    "    \n",
    "    temp = line.split()\n",
    "    \n",
    "    return 1.0 - (len(set(temp)) / (len(temp) * 1.0 + 0.000001))\n",
    "\n",
    "def build_vocab(line, v_dict, swords):\n",
    "    '''\n",
    "    parse the current line and add to v_dict counts\n",
    "    '''\n",
    "    \n",
    "    word_list = line.split()\n",
    "    \n",
    "    # figure out how repetitious a line is so if it repeats a lot only add the first 10 words\n",
    "    # so that one comment with something repeated 500 times doesn't blow out the vocab count\n",
    "    if repeating(line) > 0.95:\n",
    "        word_list = word_list[:10]\n",
    "    \n",
    "    # for each word in the line\n",
    "    for word in word_list:\n",
    "        \n",
    "        # skip stop words for frequency count type stuff\n",
    "        if word not in swords and len(word) > 1:\n",
    "\n",
    "            # see if the word is in the vocab, if so increment\n",
    "            if word in v_dict:\n",
    "                v_dict[word] += 1\n",
    "\n",
    "            # otherwise add word to dict with count of 1\n",
    "            else:\n",
    "                v_dict[word] = 1\n",
    "        \n",
    "\n",
    "def repeating_strip_line(line):\n",
    "    rep = repeating(line)\n",
    "    \n",
    "    # if the sentence is very repetitive\n",
    "    if rep > 0.9:\n",
    "        \n",
    "        # chop it and return the chopped version\n",
    "        return line[:40]\n",
    "    \n",
    "    else:\n",
    "        return line\n",
    "    \n",
    "def strip_line(line):\n",
    "    line = line.replace(\",\", \" \").replace(\"\\n\", \" \")\n",
    "    line = line.replace(\"..\", \" \").replace(\"??\", \" \").replace(\"!!\", \" \")\n",
    "    line = line.replace(\". \", \" EOS \").replace(\"? \", \" EOS \").replace(\"! \", \" EOS \")\n",
    "    line = \"\".join([_c if _c not in punct else \" \" for _c in line])\n",
    "    \n",
    "    word_list = line.lower().split()\n",
    "    \n",
    "    # if a sentence doesn't have eos add it?\n",
    "    # might want to remove this when evaluating, not having terminating punctuation\n",
    "    # is probably signal\n",
    "    if word_list[-1] != \"eos\":\n",
    "        word_list.append(\"eos\")\n",
    "        \n",
    "    line = \" \".join(word_list)\n",
    "#     print(line)\n",
    "    \n",
    "#     if \"yourselfgo\" in line:\n",
    "#         print(\"#########\", line)\n",
    "    \n",
    "    return line\n",
    "\n",
    "def punctuation_ratio(line):\n",
    "    punct = set(string.punctuation)\n",
    "    \n",
    "    _c = 0\n",
    "    \n",
    "    for ch in line:\n",
    "        if ch in punct:\n",
    "            _c += 1\n",
    "            \n",
    "    return _c / (len(line.split()) + 0.000001)\n",
    "\n",
    "def urgency_ratio(line):\n",
    "    _c = line.count(\"!\")\n",
    "    return _c / (len(line.split()) + 0.000001)\n",
    "\n",
    "def question_ratio(line):\n",
    "    _c = line.count(\"?\")\n",
    "    return _c / (len(line.split()) + 0.000001)\n",
    "    \n",
    "def period_ratio(line):\n",
    "    _c = line.count(\".\")\n",
    "    return _c / (len(line.split()) + 0.000001)\n",
    "\n",
    "# might be some pattern in length of messages?\n",
    "def count_words(line):\n",
    "    return len(line.split())\n",
    "\n"
   ]
  },
  {
   "cell_type": "code",
   "execution_count": 172,
   "metadata": {},
   "outputs": [
    {
     "data": {
      "text/html": [
       "<div>\n",
       "<style>\n",
       "    .dataframe thead tr:only-child th {\n",
       "        text-align: right;\n",
       "    }\n",
       "\n",
       "    .dataframe thead th {\n",
       "        text-align: left;\n",
       "    }\n",
       "\n",
       "    .dataframe tbody tr th {\n",
       "        vertical-align: top;\n",
       "    }\n",
       "</style>\n",
       "<table border=\"1\" class=\"dataframe\">\n",
       "  <thead>\n",
       "    <tr style=\"text-align: right;\">\n",
       "      <th></th>\n",
       "      <th>id</th>\n",
       "      <th>comment_text</th>\n",
       "      <th>toxic</th>\n",
       "      <th>severe_toxic</th>\n",
       "      <th>obscene</th>\n",
       "      <th>threat</th>\n",
       "      <th>insult</th>\n",
       "      <th>identity_hate</th>\n",
       "    </tr>\n",
       "  </thead>\n",
       "  <tbody>\n",
       "    <tr>\n",
       "      <th>0</th>\n",
       "      <td>0000997932d777bf</td>\n",
       "      <td>Explanation\\nWhy the edits made under my usern...</td>\n",
       "      <td>0</td>\n",
       "      <td>0</td>\n",
       "      <td>0</td>\n",
       "      <td>0</td>\n",
       "      <td>0</td>\n",
       "      <td>0</td>\n",
       "    </tr>\n",
       "    <tr>\n",
       "      <th>1</th>\n",
       "      <td>000103f0d9cfb60f</td>\n",
       "      <td>D'aww! He matches this background colour I'm s...</td>\n",
       "      <td>0</td>\n",
       "      <td>0</td>\n",
       "      <td>0</td>\n",
       "      <td>0</td>\n",
       "      <td>0</td>\n",
       "      <td>0</td>\n",
       "    </tr>\n",
       "    <tr>\n",
       "      <th>2</th>\n",
       "      <td>000113f07ec002fd</td>\n",
       "      <td>Hey man, I'm really not trying to edit war. It...</td>\n",
       "      <td>0</td>\n",
       "      <td>0</td>\n",
       "      <td>0</td>\n",
       "      <td>0</td>\n",
       "      <td>0</td>\n",
       "      <td>0</td>\n",
       "    </tr>\n",
       "    <tr>\n",
       "      <th>3</th>\n",
       "      <td>0001b41b1c6bb37e</td>\n",
       "      <td>\"\\nMore\\nI can't make any real suggestions on ...</td>\n",
       "      <td>0</td>\n",
       "      <td>0</td>\n",
       "      <td>0</td>\n",
       "      <td>0</td>\n",
       "      <td>0</td>\n",
       "      <td>0</td>\n",
       "    </tr>\n",
       "    <tr>\n",
       "      <th>4</th>\n",
       "      <td>0001d958c54c6e35</td>\n",
       "      <td>You, sir, are my hero. Any chance you remember...</td>\n",
       "      <td>0</td>\n",
       "      <td>0</td>\n",
       "      <td>0</td>\n",
       "      <td>0</td>\n",
       "      <td>0</td>\n",
       "      <td>0</td>\n",
       "    </tr>\n",
       "    <tr>\n",
       "      <th>5</th>\n",
       "      <td>00025465d4725e87</td>\n",
       "      <td>\"\\n\\nCongratulations from me as well, use the ...</td>\n",
       "      <td>0</td>\n",
       "      <td>0</td>\n",
       "      <td>0</td>\n",
       "      <td>0</td>\n",
       "      <td>0</td>\n",
       "      <td>0</td>\n",
       "    </tr>\n",
       "    <tr>\n",
       "      <th>7</th>\n",
       "      <td>00031b1e95af7921</td>\n",
       "      <td>Your vandalism to the Matt Shirvington article...</td>\n",
       "      <td>0</td>\n",
       "      <td>0</td>\n",
       "      <td>0</td>\n",
       "      <td>0</td>\n",
       "      <td>0</td>\n",
       "      <td>0</td>\n",
       "    </tr>\n",
       "    <tr>\n",
       "      <th>8</th>\n",
       "      <td>00037261f536c51d</td>\n",
       "      <td>Sorry if the word 'nonsense' was offensive to ...</td>\n",
       "      <td>0</td>\n",
       "      <td>0</td>\n",
       "      <td>0</td>\n",
       "      <td>0</td>\n",
       "      <td>0</td>\n",
       "      <td>0</td>\n",
       "    </tr>\n",
       "    <tr>\n",
       "      <th>9</th>\n",
       "      <td>00040093b2687caa</td>\n",
       "      <td>alignment on this subject and which are contra...</td>\n",
       "      <td>0</td>\n",
       "      <td>0</td>\n",
       "      <td>0</td>\n",
       "      <td>0</td>\n",
       "      <td>0</td>\n",
       "      <td>0</td>\n",
       "    </tr>\n",
       "    <tr>\n",
       "      <th>10</th>\n",
       "      <td>0005300084f90edc</td>\n",
       "      <td>\"\\nFair use rationale for Image:Wonju.jpg\\n\\nT...</td>\n",
       "      <td>0</td>\n",
       "      <td>0</td>\n",
       "      <td>0</td>\n",
       "      <td>0</td>\n",
       "      <td>0</td>\n",
       "      <td>0</td>\n",
       "    </tr>\n",
       "  </tbody>\n",
       "</table>\n",
       "</div>"
      ],
      "text/plain": [
       "                  id                                       comment_text  \\\n",
       "0   0000997932d777bf  Explanation\\nWhy the edits made under my usern...   \n",
       "1   000103f0d9cfb60f  D'aww! He matches this background colour I'm s...   \n",
       "2   000113f07ec002fd  Hey man, I'm really not trying to edit war. It...   \n",
       "3   0001b41b1c6bb37e  \"\\nMore\\nI can't make any real suggestions on ...   \n",
       "4   0001d958c54c6e35  You, sir, are my hero. Any chance you remember...   \n",
       "5   00025465d4725e87  \"\\n\\nCongratulations from me as well, use the ...   \n",
       "7   00031b1e95af7921  Your vandalism to the Matt Shirvington article...   \n",
       "8   00037261f536c51d  Sorry if the word 'nonsense' was offensive to ...   \n",
       "9   00040093b2687caa  alignment on this subject and which are contra...   \n",
       "10  0005300084f90edc  \"\\nFair use rationale for Image:Wonju.jpg\\n\\nT...   \n",
       "\n",
       "    toxic  severe_toxic  obscene  threat  insult  identity_hate  \n",
       "0       0             0        0       0       0              0  \n",
       "1       0             0        0       0       0              0  \n",
       "2       0             0        0       0       0              0  \n",
       "3       0             0        0       0       0              0  \n",
       "4       0             0        0       0       0              0  \n",
       "5       0             0        0       0       0              0  \n",
       "7       0             0        0       0       0              0  \n",
       "8       0             0        0       0       0              0  \n",
       "9       0             0        0       0       0              0  \n",
       "10      0             0        0       0       0              0  "
      ]
     },
     "execution_count": 172,
     "metadata": {},
     "output_type": "execute_result"
    }
   ],
   "source": [
    "good_stuff = train[np.sum(train.loc[:, [\"toxic\", \"severe_toxic\", \"obscene\", \"insult\", \"threat\", \"identity_hate\" ]], axis=1) == 0]\n",
    "\n",
    "good_stuff.head(10)"
   ]
  },
  {
   "cell_type": "code",
   "execution_count": 195,
   "metadata": {},
   "outputs": [
    {
     "data": {
      "text/html": [
       "<div>\n",
       "<style>\n",
       "    .dataframe thead tr:only-child th {\n",
       "        text-align: right;\n",
       "    }\n",
       "\n",
       "    .dataframe thead th {\n",
       "        text-align: left;\n",
       "    }\n",
       "\n",
       "    .dataframe tbody tr th {\n",
       "        vertical-align: top;\n",
       "    }\n",
       "</style>\n",
       "<table border=\"1\" class=\"dataframe\">\n",
       "  <thead>\n",
       "    <tr style=\"text-align: right;\">\n",
       "      <th></th>\n",
       "      <th>id</th>\n",
       "      <th>comment_text</th>\n",
       "      <th>toxic</th>\n",
       "      <th>severe_toxic</th>\n",
       "      <th>obscene</th>\n",
       "      <th>threat</th>\n",
       "      <th>insult</th>\n",
       "      <th>identity_hate</th>\n",
       "    </tr>\n",
       "  </thead>\n",
       "  <tbody>\n",
       "    <tr>\n",
       "      <th>6</th>\n",
       "      <td>0002bcb3da6cb337</td>\n",
       "      <td>COCKSUCKER BEFORE YOU PISS AROUND ON MY WORK</td>\n",
       "      <td>1</td>\n",
       "      <td>1</td>\n",
       "      <td>1</td>\n",
       "      <td>0</td>\n",
       "      <td>1</td>\n",
       "      <td>0</td>\n",
       "    </tr>\n",
       "    <tr>\n",
       "      <th>12</th>\n",
       "      <td>0005c987bdfc9d4b</td>\n",
       "      <td>Hey... what is it..\\n@ | talk .\\nWhat is it......</td>\n",
       "      <td>1</td>\n",
       "      <td>0</td>\n",
       "      <td>0</td>\n",
       "      <td>0</td>\n",
       "      <td>0</td>\n",
       "      <td>0</td>\n",
       "    </tr>\n",
       "    <tr>\n",
       "      <th>16</th>\n",
       "      <td>0007e25b2121310b</td>\n",
       "      <td>Bye! \\n\\nDon't look, come or think of comming ...</td>\n",
       "      <td>1</td>\n",
       "      <td>0</td>\n",
       "      <td>0</td>\n",
       "      <td>0</td>\n",
       "      <td>0</td>\n",
       "      <td>0</td>\n",
       "    </tr>\n",
       "    <tr>\n",
       "      <th>42</th>\n",
       "      <td>001810bf8c45bf5f</td>\n",
       "      <td>You are gay or antisemmitian? \\n\\nArchangel WH...</td>\n",
       "      <td>1</td>\n",
       "      <td>0</td>\n",
       "      <td>1</td>\n",
       "      <td>0</td>\n",
       "      <td>1</td>\n",
       "      <td>1</td>\n",
       "    </tr>\n",
       "    <tr>\n",
       "      <th>43</th>\n",
       "      <td>00190820581d90ce</td>\n",
       "      <td>FUCK YOUR FILTHY MOTHER IN THE ASS, DRY!</td>\n",
       "      <td>1</td>\n",
       "      <td>0</td>\n",
       "      <td>1</td>\n",
       "      <td>0</td>\n",
       "      <td>1</td>\n",
       "      <td>0</td>\n",
       "    </tr>\n",
       "    <tr>\n",
       "      <th>44</th>\n",
       "      <td>001956c382006abd</td>\n",
       "      <td>I'm Sorry \\n\\nI'm sorry I screwed around with ...</td>\n",
       "      <td>1</td>\n",
       "      <td>0</td>\n",
       "      <td>0</td>\n",
       "      <td>0</td>\n",
       "      <td>0</td>\n",
       "      <td>0</td>\n",
       "    </tr>\n",
       "    <tr>\n",
       "      <th>51</th>\n",
       "      <td>001dc38a83d420cf</td>\n",
       "      <td>GET FUCKED UP. GET FUCKEEED UP.  GOT A DRINK T...</td>\n",
       "      <td>1</td>\n",
       "      <td>0</td>\n",
       "      <td>1</td>\n",
       "      <td>0</td>\n",
       "      <td>0</td>\n",
       "      <td>0</td>\n",
       "    </tr>\n",
       "    <tr>\n",
       "      <th>55</th>\n",
       "      <td>0020e7119b96eeeb</td>\n",
       "      <td>Stupid peace of shit stop deleting my stuff as...</td>\n",
       "      <td>1</td>\n",
       "      <td>1</td>\n",
       "      <td>1</td>\n",
       "      <td>0</td>\n",
       "      <td>1</td>\n",
       "      <td>0</td>\n",
       "    </tr>\n",
       "    <tr>\n",
       "      <th>56</th>\n",
       "      <td>0020fd96ed3b8c8b</td>\n",
       "      <td>=Tony Sidaway is obviously a fistfuckee. He lo...</td>\n",
       "      <td>1</td>\n",
       "      <td>0</td>\n",
       "      <td>1</td>\n",
       "      <td>0</td>\n",
       "      <td>1</td>\n",
       "      <td>0</td>\n",
       "    </tr>\n",
       "    <tr>\n",
       "      <th>58</th>\n",
       "      <td>0021fe88bc4da3e6</td>\n",
       "      <td>My Band Page's deletion. You thought I was gon...</td>\n",
       "      <td>1</td>\n",
       "      <td>0</td>\n",
       "      <td>1</td>\n",
       "      <td>0</td>\n",
       "      <td>0</td>\n",
       "      <td>0</td>\n",
       "    </tr>\n",
       "  </tbody>\n",
       "</table>\n",
       "</div>"
      ],
      "text/plain": [
       "                  id                                       comment_text  \\\n",
       "6   0002bcb3da6cb337       COCKSUCKER BEFORE YOU PISS AROUND ON MY WORK   \n",
       "12  0005c987bdfc9d4b  Hey... what is it..\\n@ | talk .\\nWhat is it......   \n",
       "16  0007e25b2121310b  Bye! \\n\\nDon't look, come or think of comming ...   \n",
       "42  001810bf8c45bf5f  You are gay or antisemmitian? \\n\\nArchangel WH...   \n",
       "43  00190820581d90ce           FUCK YOUR FILTHY MOTHER IN THE ASS, DRY!   \n",
       "44  001956c382006abd  I'm Sorry \\n\\nI'm sorry I screwed around with ...   \n",
       "51  001dc38a83d420cf  GET FUCKED UP. GET FUCKEEED UP.  GOT A DRINK T...   \n",
       "55  0020e7119b96eeeb  Stupid peace of shit stop deleting my stuff as...   \n",
       "56  0020fd96ed3b8c8b  =Tony Sidaway is obviously a fistfuckee. He lo...   \n",
       "58  0021fe88bc4da3e6  My Band Page's deletion. You thought I was gon...   \n",
       "\n",
       "    toxic  severe_toxic  obscene  threat  insult  identity_hate  \n",
       "6       1             1        1       0       1              0  \n",
       "12      1             0        0       0       0              0  \n",
       "16      1             0        0       0       0              0  \n",
       "42      1             0        1       0       1              1  \n",
       "43      1             0        1       0       1              0  \n",
       "44      1             0        0       0       0              0  \n",
       "51      1             0        1       0       0              0  \n",
       "55      1             1        1       0       1              0  \n",
       "56      1             0        1       0       1              0  \n",
       "58      1             0        1       0       0              0  "
      ]
     },
     "execution_count": 195,
     "metadata": {},
     "output_type": "execute_result"
    }
   ],
   "source": [
    "bad_stuff = train[np.sum(train.loc[:, [\"toxic\", \"severe_toxic\", \"obscene\", \"insult\", \"threat\", \"identity_hate\" ]], axis=1) > 0]\n",
    "\n",
    "bad_stuff.head(10)"
   ]
  },
  {
   "cell_type": "markdown",
   "metadata": {},
   "source": [
    "### Accumulate feature data"
   ]
  },
  {
   "cell_type": "code",
   "execution_count": 174,
   "metadata": {},
   "outputs": [
    {
     "name": "stderr",
     "output_type": "stream",
     "text": [
      "/home/brian/anaconda3/lib/python3.6/site-packages/pandas/core/indexing.py:517: SettingWithCopyWarning: \n",
      "A value is trying to be set on a copy of a slice from a DataFrame.\n",
      "Try using .loc[row_indexer,col_indexer] = value instead\n",
      "\n",
      "See the caveats in the documentation: http://pandas.pydata.org/pandas-docs/stable/indexing.html#indexing-view-versus-copy\n",
      "  self.obj[item] = s\n",
      "/home/brian/anaconda3/lib/python3.6/site-packages/pandas/core/indexing.py:337: SettingWithCopyWarning: \n",
      "A value is trying to be set on a copy of a slice from a DataFrame.\n",
      "Try using .loc[row_indexer,col_indexer] = value instead\n",
      "\n",
      "See the caveats in the documentation: http://pandas.pydata.org/pandas-docs/stable/indexing.html#indexing-view-versus-copy\n",
      "  self.obj[key] = _infer_fill_value(value)\n",
      "/home/brian/anaconda3/lib/python3.6/site-packages/ipykernel_launcher.py:10: SettingWithCopyWarning: \n",
      "A value is trying to be set on a copy of a slice from a DataFrame.\n",
      "Try using .loc[row_indexer,col_indexer] = value instead\n",
      "\n",
      "See the caveats in the documentation: http://pandas.pydata.org/pandas-docs/stable/indexing.html#indexing-view-versus-copy\n",
      "  # Remove the CWD from sys.path while we load stuff.\n",
      "/home/brian/anaconda3/lib/python3.6/site-packages/ipykernel_launcher.py:11: SettingWithCopyWarning: \n",
      "A value is trying to be set on a copy of a slice from a DataFrame.\n",
      "Try using .loc[row_indexer,col_indexer] = value instead\n",
      "\n",
      "See the caveats in the documentation: http://pandas.pydata.org/pandas-docs/stable/indexing.html#indexing-view-versus-copy\n",
      "  # This is added back by InteractiveShellApp.init_path()\n"
     ]
    }
   ],
   "source": [
    "# see how things look if repetative comments are concatenated so that they have less influence\n",
    "good_stuff.loc[:, \"comment_text\"] = good_stuff.loc[:, \"comment_text\"].apply(repeating_strip_line)\n",
    "\n",
    "good_stuff.loc[:, \"loudness\"] = good_stuff.loc[:, \"comment_text\"].apply(loudness)\n",
    "good_stuff.loc[:, \"punc_ratio\"] = good_stuff.loc[:, \"comment_text\"].apply(punctuation_ratio)\n",
    "good_stuff.loc[:, \"urgency_r\"] = good_stuff.loc[:, \"comment_text\"].apply(urgency_ratio)\n",
    "good_stuff.loc[:, \"questioning_r\"] = good_stuff.loc[:, \"comment_text\"].apply(question_ratio)\n",
    "good_stuff.loc[:, \"dot_r\"] = good_stuff.loc[:, \"comment_text\"].apply(period_ratio)\n",
    "good_stuff.loc[:, \"word_count\"] = good_stuff.loc[:, \"comment_text\"].apply(count_words)\n",
    "good_stuff[\"stripped\"] = good_stuff.loc[:, \"comment_text\"].apply(strip_line)\n",
    "good_stuff[\"repeating\"] = good_stuff.loc[:, \"stripped\"].apply(repeating)"
   ]
  },
  {
   "cell_type": "code",
   "execution_count": 175,
   "metadata": {},
   "outputs": [
    {
     "data": {
      "text/html": [
       "<div>\n",
       "<style>\n",
       "    .dataframe thead tr:only-child th {\n",
       "        text-align: right;\n",
       "    }\n",
       "\n",
       "    .dataframe thead th {\n",
       "        text-align: left;\n",
       "    }\n",
       "\n",
       "    .dataframe tbody tr th {\n",
       "        vertical-align: top;\n",
       "    }\n",
       "</style>\n",
       "<table border=\"1\" class=\"dataframe\">\n",
       "  <thead>\n",
       "    <tr style=\"text-align: right;\">\n",
       "      <th></th>\n",
       "      <th>id</th>\n",
       "      <th>comment_text</th>\n",
       "      <th>toxic</th>\n",
       "      <th>severe_toxic</th>\n",
       "      <th>obscene</th>\n",
       "      <th>threat</th>\n",
       "      <th>insult</th>\n",
       "      <th>identity_hate</th>\n",
       "      <th>loudness</th>\n",
       "      <th>punc_ratio</th>\n",
       "      <th>urgency_r</th>\n",
       "      <th>questioning_r</th>\n",
       "      <th>dot_r</th>\n",
       "      <th>word_count</th>\n",
       "      <th>stripped</th>\n",
       "      <th>repeating</th>\n",
       "    </tr>\n",
       "  </thead>\n",
       "  <tbody>\n",
       "    <tr>\n",
       "      <th>0</th>\n",
       "      <td>0000997932d777bf</td>\n",
       "      <td>Explanation\\nWhy the edits made under my usern...</td>\n",
       "      <td>0</td>\n",
       "      <td>0</td>\n",
       "      <td>0</td>\n",
       "      <td>0</td>\n",
       "      <td>0</td>\n",
       "      <td>0</td>\n",
       "      <td>0.083744</td>\n",
       "      <td>0.232558</td>\n",
       "      <td>0.000000</td>\n",
       "      <td>0.023256</td>\n",
       "      <td>0.116279</td>\n",
       "      <td>43</td>\n",
       "      <td>explanation why the edits made under my userna...</td>\n",
       "      <td>0.113208</td>\n",
       "    </tr>\n",
       "    <tr>\n",
       "      <th>1</th>\n",
       "      <td>000103f0d9cfb60f</td>\n",
       "      <td>D'aww! He matches this background colour I'm s...</td>\n",
       "      <td>0</td>\n",
       "      <td>0</td>\n",
       "      <td>0</td>\n",
       "      <td>0</td>\n",
       "      <td>0</td>\n",
       "      <td>0</td>\n",
       "      <td>0.109589</td>\n",
       "      <td>0.705882</td>\n",
       "      <td>0.058824</td>\n",
       "      <td>0.000000</td>\n",
       "      <td>0.117647</td>\n",
       "      <td>17</td>\n",
       "      <td>d aww eos he matches this background colour i ...</td>\n",
       "      <td>0.125000</td>\n",
       "    </tr>\n",
       "    <tr>\n",
       "      <th>2</th>\n",
       "      <td>000113f07ec002fd</td>\n",
       "      <td>Hey man, I'm really not trying to edit war. It...</td>\n",
       "      <td>0</td>\n",
       "      <td>0</td>\n",
       "      <td>0</td>\n",
       "      <td>0</td>\n",
       "      <td>0</td>\n",
       "      <td>0</td>\n",
       "      <td>0.021505</td>\n",
       "      <td>0.142857</td>\n",
       "      <td>0.000000</td>\n",
       "      <td>0.000000</td>\n",
       "      <td>0.071429</td>\n",
       "      <td>42</td>\n",
       "      <td>hey man i m really not trying to edit war eos ...</td>\n",
       "      <td>0.106383</td>\n",
       "    </tr>\n",
       "    <tr>\n",
       "      <th>3</th>\n",
       "      <td>0001b41b1c6bb37e</td>\n",
       "      <td>\"\\nMore\\nI can't make any real suggestions on ...</td>\n",
       "      <td>0</td>\n",
       "      <td>0</td>\n",
       "      <td>0</td>\n",
       "      <td>0</td>\n",
       "      <td>0</td>\n",
       "      <td>0</td>\n",
       "      <td>0.022634</td>\n",
       "      <td>0.185841</td>\n",
       "      <td>0.000000</td>\n",
       "      <td>0.000000</td>\n",
       "      <td>0.026549</td>\n",
       "      <td>113</td>\n",
       "      <td>more i can t make any real suggestions on impr...</td>\n",
       "      <td>0.308333</td>\n",
       "    </tr>\n",
       "    <tr>\n",
       "      <th>4</th>\n",
       "      <td>0001d958c54c6e35</td>\n",
       "      <td>You, sir, are my hero. Any chance you remember...</td>\n",
       "      <td>0</td>\n",
       "      <td>0</td>\n",
       "      <td>0</td>\n",
       "      <td>0</td>\n",
       "      <td>0</td>\n",
       "      <td>0</td>\n",
       "      <td>0.040000</td>\n",
       "      <td>0.384615</td>\n",
       "      <td>0.000000</td>\n",
       "      <td>0.076923</td>\n",
       "      <td>0.076923</td>\n",
       "      <td>13</td>\n",
       "      <td>you sir are my hero eos any chance you remembe...</td>\n",
       "      <td>0.125000</td>\n",
       "    </tr>\n",
       "  </tbody>\n",
       "</table>\n",
       "</div>"
      ],
      "text/plain": [
       "                 id                                       comment_text  toxic  \\\n",
       "0  0000997932d777bf  Explanation\\nWhy the edits made under my usern...      0   \n",
       "1  000103f0d9cfb60f  D'aww! He matches this background colour I'm s...      0   \n",
       "2  000113f07ec002fd  Hey man, I'm really not trying to edit war. It...      0   \n",
       "3  0001b41b1c6bb37e  \"\\nMore\\nI can't make any real suggestions on ...      0   \n",
       "4  0001d958c54c6e35  You, sir, are my hero. Any chance you remember...      0   \n",
       "\n",
       "   severe_toxic  obscene  threat  insult  identity_hate  loudness  punc_ratio  \\\n",
       "0             0        0       0       0              0  0.083744    0.232558   \n",
       "1             0        0       0       0              0  0.109589    0.705882   \n",
       "2             0        0       0       0              0  0.021505    0.142857   \n",
       "3             0        0       0       0              0  0.022634    0.185841   \n",
       "4             0        0       0       0              0  0.040000    0.384615   \n",
       "\n",
       "   urgency_r  questioning_r     dot_r  word_count  \\\n",
       "0   0.000000       0.023256  0.116279          43   \n",
       "1   0.058824       0.000000  0.117647          17   \n",
       "2   0.000000       0.000000  0.071429          42   \n",
       "3   0.000000       0.000000  0.026549         113   \n",
       "4   0.000000       0.076923  0.076923          13   \n",
       "\n",
       "                                            stripped  repeating  \n",
       "0  explanation why the edits made under my userna...   0.113208  \n",
       "1  d aww eos he matches this background colour i ...   0.125000  \n",
       "2  hey man i m really not trying to edit war eos ...   0.106383  \n",
       "3  more i can t make any real suggestions on impr...   0.308333  \n",
       "4  you sir are my hero eos any chance you remembe...   0.125000  "
      ]
     },
     "execution_count": 175,
     "metadata": {},
     "output_type": "execute_result"
    }
   ],
   "source": [
    "good_stuff.head()"
   ]
  },
  {
   "cell_type": "code",
   "execution_count": 196,
   "metadata": {},
   "outputs": [
    {
     "name": "stderr",
     "output_type": "stream",
     "text": [
      "/home/brian/anaconda3/lib/python3.6/site-packages/ipykernel_launcher.py:2: SettingWithCopyWarning: \n",
      "A value is trying to be set on a copy of a slice from a DataFrame.\n",
      "Try using .loc[row_indexer,col_indexer] = value instead\n",
      "\n",
      "See the caveats in the documentation: http://pandas.pydata.org/pandas-docs/stable/indexing.html#indexing-view-versus-copy\n",
      "  \n",
      "/home/brian/anaconda3/lib/python3.6/site-packages/pandas/core/indexing.py:517: SettingWithCopyWarning: \n",
      "A value is trying to be set on a copy of a slice from a DataFrame.\n",
      "Try using .loc[row_indexer,col_indexer] = value instead\n",
      "\n",
      "See the caveats in the documentation: http://pandas.pydata.org/pandas-docs/stable/indexing.html#indexing-view-versus-copy\n",
      "  self.obj[item] = s\n",
      "/home/brian/anaconda3/lib/python3.6/site-packages/pandas/core/indexing.py:337: SettingWithCopyWarning: \n",
      "A value is trying to be set on a copy of a slice from a DataFrame.\n",
      "Try using .loc[row_indexer,col_indexer] = value instead\n",
      "\n",
      "See the caveats in the documentation: http://pandas.pydata.org/pandas-docs/stable/indexing.html#indexing-view-versus-copy\n",
      "  self.obj[key] = _infer_fill_value(value)\n"
     ]
    }
   ],
   "source": [
    "temp = bad_stuff.loc[:, \"comment_text\"].apply(strip_line)\n",
    "bad_stuff[\"repeating\"] = temp.apply(repeating)\n",
    "\n",
    "# see how things look if repetative comments are concatenated so that they have less influence\n",
    "bad_stuff.loc[:, \"comment_text\"] = bad_stuff.loc[:, \"comment_text\"].apply(repeating_strip_line)\n",
    "\n",
    "bad_stuff.loc[:, \"loudness\"] = bad_stuff.loc[:, \"comment_text\"].apply(loudness).values\n",
    "bad_stuff.loc[:, \"punc_ratio\"] = bad_stuff.loc[:, \"comment_text\"].apply(punctuation_ratio).values\n",
    "bad_stuff.loc[:, \"urgency_r\"] = bad_stuff.loc[:, \"comment_text\"].apply(urgency_ratio).values\n",
    "bad_stuff.loc[:, \"questioning_r\"] = bad_stuff.loc[:, \"comment_text\"].apply(question_ratio).values\n",
    "bad_stuff.loc[:, \"dot_r\"] = bad_stuff.loc[:, \"comment_text\"].apply(period_ratio).values\n",
    "bad_stuff.loc[:, \"word_count\"] = bad_stuff.loc[:, \"comment_text\"].apply(count_words).values\n",
    "# bad_stuff[\"stripped\"] = bad_stuff.loc[:, \"comment_text\"].apply(strip_line)\n",
    "# bad_stuff[\"repeating\"] = bad_stuff.loc[:, \"stripped\"].apply(repeating)"
   ]
  },
  {
   "cell_type": "code",
   "execution_count": 192,
   "metadata": {},
   "outputs": [
    {
     "data": {
      "text/html": [
       "<div>\n",
       "<style>\n",
       "    .dataframe thead tr:only-child th {\n",
       "        text-align: right;\n",
       "    }\n",
       "\n",
       "    .dataframe thead th {\n",
       "        text-align: left;\n",
       "    }\n",
       "\n",
       "    .dataframe tbody tr th {\n",
       "        vertical-align: top;\n",
       "    }\n",
       "</style>\n",
       "<table border=\"1\" class=\"dataframe\">\n",
       "  <thead>\n",
       "    <tr style=\"text-align: right;\">\n",
       "      <th></th>\n",
       "      <th>id</th>\n",
       "      <th>comment_text</th>\n",
       "      <th>toxic</th>\n",
       "      <th>severe_toxic</th>\n",
       "      <th>obscene</th>\n",
       "      <th>threat</th>\n",
       "      <th>insult</th>\n",
       "      <th>identity_hate</th>\n",
       "      <th>loudness</th>\n",
       "      <th>punc_ratio</th>\n",
       "      <th>urgency_r</th>\n",
       "      <th>questioning_r</th>\n",
       "      <th>dot_r</th>\n",
       "      <th>word_count</th>\n",
       "      <th>stripped</th>\n",
       "      <th>repeating</th>\n",
       "    </tr>\n",
       "  </thead>\n",
       "  <tbody>\n",
       "    <tr>\n",
       "      <th>6</th>\n",
       "      <td>0002bcb3da6cb337</td>\n",
       "      <td>COCKSUCKER BEFORE YOU PISS AROUND ON MY WORK</td>\n",
       "      <td>1</td>\n",
       "      <td>1</td>\n",
       "      <td>1</td>\n",
       "      <td>0</td>\n",
       "      <td>1</td>\n",
       "      <td>0</td>\n",
       "      <td>1.000000</td>\n",
       "      <td>0.000000</td>\n",
       "      <td>0.000000</td>\n",
       "      <td>0.000000</td>\n",
       "      <td>0.000000</td>\n",
       "      <td>8</td>\n",
       "      <td>cocksucker before you piss around on my work eos</td>\n",
       "      <td>1.111111e-07</td>\n",
       "    </tr>\n",
       "    <tr>\n",
       "      <th>12</th>\n",
       "      <td>0005c987bdfc9d4b</td>\n",
       "      <td>Hey... what is it..\\n@ | talk .\\nWhat is it......</td>\n",
       "      <td>1</td>\n",
       "      <td>0</td>\n",
       "      <td>0</td>\n",
       "      <td>0</td>\n",
       "      <td>0</td>\n",
       "      <td>0</td>\n",
       "      <td>0.177686</td>\n",
       "      <td>0.452830</td>\n",
       "      <td>0.000000</td>\n",
       "      <td>0.018868</td>\n",
       "      <td>0.283019</td>\n",
       "      <td>53</td>\n",
       "      <td>hey eos what is it talk eos what is it eos an ...</td>\n",
       "      <td>2.033898e-01</td>\n",
       "    </tr>\n",
       "    <tr>\n",
       "      <th>16</th>\n",
       "      <td>0007e25b2121310b</td>\n",
       "      <td>Bye! \\n\\nDon't look, come or think of comming ...</td>\n",
       "      <td>1</td>\n",
       "      <td>0</td>\n",
       "      <td>0</td>\n",
       "      <td>0</td>\n",
       "      <td>0</td>\n",
       "      <td>0</td>\n",
       "      <td>0.073171</td>\n",
       "      <td>0.500000</td>\n",
       "      <td>0.200000</td>\n",
       "      <td>0.000000</td>\n",
       "      <td>0.100000</td>\n",
       "      <td>10</td>\n",
       "      <td>bye eos don t look come or think of comming ba...</td>\n",
       "      <td>1.428572e-01</td>\n",
       "    </tr>\n",
       "    <tr>\n",
       "      <th>42</th>\n",
       "      <td>001810bf8c45bf5f</td>\n",
       "      <td>You are gay or antisemmitian? \\n\\nArchangel WH...</td>\n",
       "      <td>1</td>\n",
       "      <td>0</td>\n",
       "      <td>1</td>\n",
       "      <td>0</td>\n",
       "      <td>1</td>\n",
       "      <td>1</td>\n",
       "      <td>0.044715</td>\n",
       "      <td>0.239316</td>\n",
       "      <td>0.059829</td>\n",
       "      <td>0.008547</td>\n",
       "      <td>0.025641</td>\n",
       "      <td>117</td>\n",
       "      <td>you are gay or antisemmitian eos archangel whi...</td>\n",
       "      <td>2.890625e-01</td>\n",
       "    </tr>\n",
       "    <tr>\n",
       "      <th>43</th>\n",
       "      <td>00190820581d90ce</td>\n",
       "      <td>FUCK YOUR FILTHY MOTHER IN THE ASS, DRY!</td>\n",
       "      <td>1</td>\n",
       "      <td>0</td>\n",
       "      <td>1</td>\n",
       "      <td>0</td>\n",
       "      <td>1</td>\n",
       "      <td>0</td>\n",
       "      <td>1.000000</td>\n",
       "      <td>0.250000</td>\n",
       "      <td>0.125000</td>\n",
       "      <td>0.000000</td>\n",
       "      <td>0.000000</td>\n",
       "      <td>8</td>\n",
       "      <td>fuck your filthy mother in the ass dry eos</td>\n",
       "      <td>1.111111e-07</td>\n",
       "    </tr>\n",
       "  </tbody>\n",
       "</table>\n",
       "</div>"
      ],
      "text/plain": [
       "                  id                                       comment_text  \\\n",
       "6   0002bcb3da6cb337       COCKSUCKER BEFORE YOU PISS AROUND ON MY WORK   \n",
       "12  0005c987bdfc9d4b  Hey... what is it..\\n@ | talk .\\nWhat is it......   \n",
       "16  0007e25b2121310b  Bye! \\n\\nDon't look, come or think of comming ...   \n",
       "42  001810bf8c45bf5f  You are gay or antisemmitian? \\n\\nArchangel WH...   \n",
       "43  00190820581d90ce           FUCK YOUR FILTHY MOTHER IN THE ASS, DRY!   \n",
       "\n",
       "    toxic  severe_toxic  obscene  threat  insult  identity_hate  loudness  \\\n",
       "6       1             1        1       0       1              0  1.000000   \n",
       "12      1             0        0       0       0              0  0.177686   \n",
       "16      1             0        0       0       0              0  0.073171   \n",
       "42      1             0        1       0       1              1  0.044715   \n",
       "43      1             0        1       0       1              0  1.000000   \n",
       "\n",
       "    punc_ratio  urgency_r  questioning_r     dot_r  word_count  \\\n",
       "6     0.000000   0.000000       0.000000  0.000000           8   \n",
       "12    0.452830   0.000000       0.018868  0.283019          53   \n",
       "16    0.500000   0.200000       0.000000  0.100000          10   \n",
       "42    0.239316   0.059829       0.008547  0.025641         117   \n",
       "43    0.250000   0.125000       0.000000  0.000000           8   \n",
       "\n",
       "                                             stripped     repeating  \n",
       "6    cocksucker before you piss around on my work eos  1.111111e-07  \n",
       "12  hey eos what is it talk eos what is it eos an ...  2.033898e-01  \n",
       "16  bye eos don t look come or think of comming ba...  1.428572e-01  \n",
       "42  you are gay or antisemmitian eos archangel whi...  2.890625e-01  \n",
       "43         fuck your filthy mother in the ass dry eos  1.111111e-07  "
      ]
     },
     "execution_count": 192,
     "metadata": {},
     "output_type": "execute_result"
    }
   ],
   "source": [
    "bad_stuff.head()"
   ]
  },
  {
   "cell_type": "markdown",
   "metadata": {},
   "source": [
    "### Loudness:"
   ]
  },
  {
   "cell_type": "code",
   "execution_count": 197,
   "metadata": {},
   "outputs": [
    {
     "data": {
      "text/plain": [
       "Text(0.5,1,'Distribution of Loudness\\nToxic Comments')"
      ]
     },
     "execution_count": 197,
     "metadata": {},
     "output_type": "execute_result"
    },
    {
     "data": {
      "image/png": "[encoded data removed]",
      "text/plain": [
       "<matplotlib.figure.Figure at 0x7f9924995908>"
      ]
     },
     "metadata": {},
     "output_type": "display_data"
    }
   ],
   "source": [
    "fig, axs = plt.subplots(1, 2, figsize=(16, 8))\n",
    "\n",
    "_ = axs[0].hist(np.log(good_stuff.loc[:, \"loudness\"] + 0.005), bins=50, normed=True, color='blue', alpha=0.5, label=\"typical comment\")\n",
    "_ = axs[1].hist(np.log(bad_stuff.loc[:, \"loudness\"] + 0.005), bins=50, normed=True, color='green', alpha=0.5, label=\"toxic comment\")\n",
    "\n",
    "axs[0].legend(fontsize=12)\n",
    "axs[1].legend(fontsize=12)\n",
    "\n",
    "axs[0].set_xlabel(\"'Loudness' of comment\\n How many CAPS chars / all chars, ie 0 <= loudness <= 1.0\\n log transformation\", size=12)\n",
    "axs[1].set_xlabel(\"'Loudness' of comment\\n How many CAPS chars / all chars, range(0, 1), log transformation\", size=12)\n",
    "\n",
    "axs[0].set_ylabel(\"Percent of Sample\", size=12)\n",
    "axs[1].set_ylabel(\"Percent of Sample\", size=12)\n",
    "\n",
    "axs[0].set_xlim(-5.5, 0)\n",
    "axs[1].set_xlim(-5.5, 0)\n",
    "\n",
    "axs[0].set_title(\"Distribution of Loudness\\nTypical Comments\", size=14)\n",
    "axs[1].set_title(\"Distribution of Loudness\\nToxic Comments\", size=14)"
   ]
  },
  {
   "cell_type": "markdown",
   "metadata": {
    "collapsed": true
   },
   "source": [
    "### Repetitiveness:"
   ]
  },
  {
   "cell_type": "code",
   "execution_count": 198,
   "metadata": {},
   "outputs": [
    {
     "data": {
      "text/plain": [
       "Text(0.5,1,'Distribution of Repetition\\nToxic Comments')"
      ]
     },
     "execution_count": 198,
     "metadata": {},
     "output_type": "execute_result"
    },
    {
     "data": {
      "image/png": "[encoded data removed]",
      "text/plain": [
       "<matplotlib.figure.Figure at 0x7f99245d5e10>"
      ]
     },
     "metadata": {},
     "output_type": "display_data"
    }
   ],
   "source": [
    "fig, axs = plt.subplots(1, 2, figsize=(16, 8))\n",
    "\n",
    "_ = axs[0].hist(good_stuff.loc[:, \"repeating\"], bins=50, normed=True, color='blue', alpha=0.5, label=\"typical comment\")\n",
    "_ = axs[1].hist(bad_stuff.loc[:, \"repeating\"], bins=50, normed=True, color='green', alpha=0.5, label=\"toxic comment\")\n",
    "\n",
    "axs[0].legend(fontsize=12)\n",
    "axs[1].legend(fontsize=12)\n",
    "\n",
    "axs[0].set_xlabel(\"Repetition in Comment\\n 0 = All words unique\", size=12)\n",
    "axs[1].set_xlabel(\"Repetition in Comment\\n 0 = All words unique\", size=12)\n",
    "\n",
    "axs[0].set_ylabel(\"Fraction of Sample\", size=12)\n",
    "axs[1].set_ylabel(\"Fraction of Sample\", size=12)\n",
    "\n",
    "axs[0].set_xlim(0, 1.0)\n",
    "axs[1].set_xlim(0, 1.0)\n",
    "\n",
    "axs[0].set_title(\"Distribution of Repetition\\nTypical Comments\", size=14)\n",
    "axs[1].set_title(\"Distribution of Repetition\\nToxic Comments\", size=14)"
   ]
  },
  {
   "cell_type": "markdown",
   "metadata": {},
   "source": [
    "### Punctuation Ratio:  How much punctuation over how many words"
   ]
  },
  {
   "cell_type": "code",
   "execution_count": 180,
   "metadata": {},
   "outputs": [
    {
     "name": "stdout",
     "output_type": "stream",
     "text": [
      "705.999899143\n",
      "0.0\n",
      "0.388608162355\n"
     ]
    }
   ],
   "source": [
    "print(bad_stuff.loc[:, \"punc_ratio\"].values.max())\n",
    "print(bad_stuff.loc[:, \"punc_ratio\"].values.min())\n",
    "print(bad_stuff.loc[:, \"punc_ratio\"].values.mean())\n",
    "\n",
    "# Log transformation is needed, another log normal distribution"
   ]
  },
  {
   "cell_type": "code",
   "execution_count": 181,
   "metadata": {},
   "outputs": [
    {
     "data": {
      "text/plain": [
       "Text(0.5,1,'Distribution of Punctuation Used\\nToxic Comments')"
      ]
     },
     "execution_count": 181,
     "metadata": {},
     "output_type": "execute_result"
    },
    {
     "data": {
      "image/png": "[encoded data removed]",
      "text/plain": [
       "<matplotlib.figure.Figure at 0x7f9929de5978>"
      ]
     },
     "metadata": {},
     "output_type": "display_data"
    }
   ],
   "source": [
    "fig, axs = plt.subplots(1, 2, figsize=(16, 8))\n",
    "\n",
    "_ = axs[0].hist(np.log(good_stuff.loc[:, \"punc_ratio\"] + 0.0001), bins=50, normed=True, color='blue', alpha=0.5, label=\"typical comment\")\n",
    "_ = axs[1].hist(np.log(bad_stuff.loc[:, \"punc_ratio\"] + 0.0001), bins=50, normed=True, color='green', alpha=0.5, label=\"toxic comment\")\n",
    "\n",
    "axs[0].legend(fontsize=12)\n",
    "axs[1].legend(fontsize=12)\n",
    "\n",
    "axs[0].set_xlabel(\"Comment: Punctuation / Words\\nlog transformation\", size=12)\n",
    "axs[1].set_xlabel(\"Comment: Punctuation / Words\\nlog transformation\", size=12)\n",
    "\n",
    "axs[0].set_ylabel(\"Fraction of Sample\", size=12)\n",
    "axs[1].set_ylabel(\"Fraction of Sample\", size=12)\n",
    "\n",
    "axs[0].set_xlim(-10, 6.0)\n",
    "axs[1].set_xlim(-10, 6.0)\n",
    "\n",
    "axs[0].set_title(\"Distribution of Punctuation Used\\nTypical Comments\", size=14)\n",
    "axs[1].set_title(\"Distribution of Punctuation Used\\nToxic Comments\", size=14)"
   ]
  },
  {
   "cell_type": "markdown",
   "metadata": {},
   "source": [
    "### Urgency: How many exclamation points per word"
   ]
  },
  {
   "cell_type": "code",
   "execution_count": 182,
   "metadata": {},
   "outputs": [
    {
     "name": "stdout",
     "output_type": "stream",
     "text": [
      "705.999899143\n",
      "0.0\n",
      "0.12595678463\n",
      "Toxic: Percent with no exclamation point: 73.84%\n",
      "typical: Percent with no exclamation point: 87.06%\n"
     ]
    }
   ],
   "source": [
    "print(bad_stuff.loc[:, \"urgency_r\"].values.max())\n",
    "print(bad_stuff.loc[:, \"urgency_r\"].values.min())\n",
    "print(bad_stuff.loc[:, \"urgency_r\"].values.mean())\n",
    "\n",
    "print(\"Toxic: Percent with no exclamation point: {:2.2f}%\".format(\n",
    "    len(bad_stuff[bad_stuff.loc[:, \"urgency_r\"] ==0]) /  len(bad_stuff) * 100))\n",
    "\n",
    "print(\"typical: Percent with no exclamation point: {:2.2f}%\".format(\n",
    "    len(good_stuff[good_stuff.loc[:, \"urgency_r\"] ==0]) /  len(good_stuff) * 100))\n",
    "\n",
    "# Log transformation is needed, another log normal distribution"
   ]
  },
  {
   "cell_type": "code",
   "execution_count": 183,
   "metadata": {},
   "outputs": [
    {
     "data": {
      "text/plain": [
       "Text(0.5,1,\"Distribution of Exclamations Used ('!' >= 1)\\n73% of Toxic Comments Have no '!'\")"
      ]
     },
     "execution_count": 183,
     "metadata": {},
     "output_type": "execute_result"
    },
    {
     "data": {
      "image/png": "[encoded data removed]",
      "text/plain": [
       "<matplotlib.figure.Figure at 0x7f9929c2ac88>"
      ]
     },
     "metadata": {},
     "output_type": "display_data"
    }
   ],
   "source": [
    "fig, axs = plt.subplots(1, 2, figsize=(16, 8))\n",
    "\n",
    "_good = good_stuff[good_stuff.loc[:, \"urgency_r\"] != 0]\n",
    "_bad = bad_stuff[bad_stuff.loc[:, \"urgency_r\"] != 0]\n",
    "\n",
    "_ = axs[0].hist(np.log(_good.loc[:, \"urgency_r\"]), bins=50, normed=True, color='blue', alpha=0.5, label=\"typical comment\")\n",
    "_ = axs[1].hist(np.log(_bad.loc[:, \"urgency_r\"]), bins=50, normed=True, color='green', alpha=0.5, label=\"toxic comment\")\n",
    "\n",
    "axs[0].legend(fontsize=12)\n",
    "axs[1].legend(fontsize=12)\n",
    "\n",
    "axs[0].set_xlabel(\"Comment Urgency: Bangs (!) / Words\\nlog transformation\", size=12)\n",
    "axs[1].set_xlabel(\"Comment Urgency: Bangs (!) / Words\\nlog transformation\", size=12)\n",
    "\n",
    "axs[0].set_ylabel(\"Fraction of Subsample '!' >= 1\", size=12)\n",
    "axs[1].set_ylabel(\"Fraction of Subsample '!' >= 1\", size=12)\n",
    "\n",
    "axs[0].set_xlim(-8, 6.0)\n",
    "axs[1].set_xlim(-8, 6.0)\n",
    "\n",
    "axs[0].set_title(\"Distribution of Exclamations Used ('!' >= 1)\\n87% of Typical Comments Have no '!'\", size=14)\n",
    "axs[1].set_title(\"Distribution of Exclamations Used ('!' >= 1)\\n73% of Toxic Comments Have no '!'\", size=14)"
   ]
  },
  {
   "cell_type": "markdown",
   "metadata": {},
   "source": [
    "### Questioning: How many \"?\" per comment"
   ]
  },
  {
   "cell_type": "code",
   "execution_count": 184,
   "metadata": {},
   "outputs": [
    {
     "name": "stdout",
     "output_type": "stream",
     "text": [
      "6.14705864273\n",
      "0.0\n",
      "0.0168622049276\n",
      "Toxic: Percent with no '?': 74.73%\n",
      "Typical: Percent with no '?': 74.62%\n"
     ]
    }
   ],
   "source": [
    "print(bad_stuff.loc[:, \"questioning_r\"].values.max())\n",
    "print(bad_stuff.loc[:, \"questioning_r\"].values.min())\n",
    "print(bad_stuff.loc[:, \"questioning_r\"].values.mean())\n",
    "\n",
    "print(\"Toxic: Percent with no '?': {:2.2f}%\".format(\n",
    "    len(bad_stuff[bad_stuff.loc[:, \"questioning_r\"] ==0]) /  len(bad_stuff) * 100))\n",
    "\n",
    "print(\"Typical: Percent with no '?': {:2.2f}%\".format(\n",
    "    len(good_stuff[good_stuff.loc[:, \"questioning_r\"] ==0]) /  len(good_stuff) * 100))\n",
    "\n",
    "# Log transformation is needed, another log normal distribution"
   ]
  },
  {
   "cell_type": "code",
   "execution_count": 185,
   "metadata": {},
   "outputs": [
    {
     "data": {
      "text/plain": [
       "Text(0.5,1,\"Distribution of Question Marks Used ('?' >= 1)\\n74% of Typical and Toxic Comments Have no '?'\")"
      ]
     },
     "execution_count": 185,
     "metadata": {},
     "output_type": "execute_result"
    },
    {
     "data": {
      "image/png": "[encoded data removed]",
      "text/plain": [
       "<matplotlib.figure.Figure at 0x7f9929e5c5f8>"
      ]
     },
     "metadata": {},
     "output_type": "display_data"
    }
   ],
   "source": [
    "fig, axs = plt.subplots(figsize=(16, 8))\n",
    "\n",
    "_good = good_stuff[good_stuff.loc[:, \"questioning_r\"] != 0]\n",
    "_bad = bad_stuff[bad_stuff.loc[:, \"questioning_r\"] != 0]\n",
    "\n",
    "_ = axs.hist(np.log(_good.loc[:, \"questioning_r\"]), bins=50, normed=True, color='blue', alpha=0.3, label=\"typical comment\")\n",
    "_ = axs.hist(np.log(_bad.loc[:, \"questioning_r\"]), bins=50, normed=True, color='green', alpha=0.3, label=\"toxic comment\")\n",
    "\n",
    "axs.legend(fontsize=12)\n",
    "# axs[1].legend(fontsize=12)\n",
    "\n",
    "axs.set_xlabel(\"Comment Quereying: Questions (?) / Words\\nlog transformation\", size=12)\n",
    "# axs[1].set_xlabel(\"Comment Urgency: Questions (?) / Words\\nlog transformation\", size=12)\n",
    "\n",
    "axs.set_ylabel(\"Fraction of Subsample '?' >= 1\", size=12)\n",
    "# axs[1].set_ylabel(\"Fraction of Subsample '?' >= 1\", size=12)\n",
    "\n",
    "axs.set_xlim(-8, 2.0)\n",
    "# axs[1].set_xlim(-8, 6.0)\n",
    "\n",
    "axs.set_title(\"Distribution of Question Marks Used ('?' >= 1)\\n74% of Typical and Toxic Comments Have no '?'\", size=14)\n",
    "# axs[1].set_title(\"Distribution of Question Marks Used ('?' >= 1)\\n74.7% of Toxic Comments Have no '?'\", size=14)"
   ]
  },
  {
   "cell_type": "markdown",
   "metadata": {},
   "source": [
    "### Periods:  How many sentences and ellipsis?"
   ]
  },
  {
   "cell_type": "code",
   "execution_count": 186,
   "metadata": {},
   "outputs": [
    {
     "name": "stdout",
     "output_type": "stream",
     "text": [
      "32.3333297407\n",
      "0.0\n",
      "0.0973879134254\n",
      "Toxic: Percent with no '.': 28.83%\n",
      "Typical: Percent with no '.': 13.16%\n"
     ]
    }
   ],
   "source": [
    "print(bad_stuff.loc[:, \"dot_r\"].values.max())\n",
    "print(bad_stuff.loc[:, \"dot_r\"].values.min())\n",
    "print(bad_stuff.loc[:, \"dot_r\"].values.mean())\n",
    "\n",
    "print(\"Toxic: Percent with no '.': {:2.2f}%\".format(\n",
    "    len(bad_stuff[bad_stuff.loc[:, \"dot_r\"] ==0]) /  len(bad_stuff) * 100))\n",
    "\n",
    "print(\"Typical: Percent with no '.': {:2.2f}%\".format(\n",
    "    len(good_stuff[good_stuff.loc[:, \"dot_r\"] ==0]) /  len(good_stuff) * 100))\n",
    "\n",
    "# Log transformation is needed, another log normal distribution"
   ]
  },
  {
   "cell_type": "code",
   "execution_count": 187,
   "metadata": {},
   "outputs": [
    {
     "data": {
      "text/plain": [
       "Text(0.5,1,\"Distribution of Exclamations Used ('.' >= 1)\\n29% of Toxic Comments Have no '.'\")"
      ]
     },
     "execution_count": 187,
     "metadata": {},
     "output_type": "execute_result"
    },
    {
     "data": {
      "image/png": "[encoded data removed]",
      "text/plain": [
       "<matplotlib.figure.Figure at 0x7f99298b6780>"
      ]
     },
     "metadata": {},
     "output_type": "display_data"
    }
   ],
   "source": [
    "fig, axs = plt.subplots(1, 2, figsize=(16, 8))\n",
    "\n",
    "_good = good_stuff[good_stuff.loc[:, \"dot_r\"] != 0]\n",
    "_bad = bad_stuff[bad_stuff.loc[:, \"dot_r\"] != 0]\n",
    "\n",
    "_ = axs[0].hist(np.log(_good.loc[:, \"dot_r\"]), bins=50, normed=True, color='blue', alpha=0.5, label=\"typical comment\")\n",
    "_ = axs[1].hist(np.log(_bad.loc[:, \"dot_r\"]), bins=50, normed=True, color='green', alpha=0.5, label=\"toxic comment\")\n",
    "\n",
    "axs[0].legend(fontsize=12)\n",
    "axs[1].legend(fontsize=12)\n",
    "\n",
    "axs[0].set_xlabel(\"Comment Terminations and Pauses:  (., ...) / Words\\nlog transformation\", size=12)\n",
    "axs[1].set_xlabel(\"Comment Terminations and Pauses: (., ...) / Words\\nlog transformation\", size=12)\n",
    "\n",
    "axs[0].set_ylabel(\"Fraction of Subsample '.' >= 1\", size=12)\n",
    "axs[1].set_ylabel(\"Fraction of Subsample '.' >= 1\", size=12)\n",
    "\n",
    "axs[0].set_xlim(-6, 2.0)\n",
    "axs[1].set_xlim(-6, 2.0)\n",
    "\n",
    "axs[0].set_title(\"Distribution of Exclamations Used ('.' >= 1)\\n13% of Typical Comments Have no '.'\", size=14)\n",
    "axs[1].set_title(\"Distribution of Exclamations Used ('.' >= 1)\\n29% of Toxic Comments Have no '.'\", size=14)"
   ]
  },
  {
   "cell_type": "code",
   "execution_count": 188,
   "metadata": {},
   "outputs": [
    {
     "data": {
      "text/plain": [
       "Text(0.5,1,\"Distribution of Exclamations Used ('.' >= 1)\\n13% of Typical Comments and 29% of Toxic Comments Have no '.'\")"
      ]
     },
     "execution_count": 188,
     "metadata": {},
     "output_type": "execute_result"
    },
    {
     "data": {
      "image/png": "[encoded data removed]",
      "text/plain": [
       "<matplotlib.figure.Figure at 0x7f992993ba20>"
      ]
     },
     "metadata": {},
     "output_type": "display_data"
    }
   ],
   "source": [
    "fig, axs = plt.subplots(figsize=(16, 8))\n",
    "\n",
    "_good = good_stuff[good_stuff.loc[:, \"dot_r\"] != 0]\n",
    "_bad = bad_stuff[bad_stuff.loc[:, \"dot_r\"] != 0]\n",
    "\n",
    "_ = axs.hist(np.log(_good.loc[:, \"dot_r\"]), bins=50, normed=True, color='blue', alpha=0.3, label=\"typical comment\")\n",
    "_ = axs.hist(np.log(_bad.loc[:, \"dot_r\"]), bins=50, normed=True, color='green', alpha=0.3, label=\"toxic comment\")\n",
    "\n",
    "axs.legend(fontsize=12)\n",
    "# axs[1].legend(fontsize=12)\n",
    "\n",
    "axs.set_xlabel(\"Comment Terminations and Pauses:  (., ...) / Words\\nlog transformation\", size=12)\n",
    "# axs[1].set_xlabel(\"Comment Urgency: Questions (?) / Words\\nlog transformation\", size=12)\n",
    "\n",
    "axs.set_ylabel(\"Fraction of Subsample '.' >= 1\", size=12)\n",
    "# axs[1].set_ylabel(\"Fraction of Subsample '?' >= 1\", size=12)\n",
    "\n",
    "axs.set_xlim(-6, 2.0)\n",
    "# axs[1].set_xlim(-8, 6.0)\n",
    "\n",
    "axs.set_title(\"Distribution of Exclamations Used ('.' >= 1)\\n13% of Typical Comments and 29% of Toxic Comments Have no '.'\", size=14)\n",
    "# axs[1].set_title(\"Distribution of Question Marks Used ('?' >= 1)\\n74.7% of Toxic Comments Have no '?'\", size=14)"
   ]
  },
  {
   "cell_type": "markdown",
   "metadata": {},
   "source": [
    "### Comment Length:  Words per Comment"
   ]
  },
  {
   "cell_type": "code",
   "execution_count": 189,
   "metadata": {},
   "outputs": [
    {
     "data": {
      "text/plain": [
       "Text(0.5,1,'Distribution of Repetition\\nToxic Comments')"
      ]
     },
     "execution_count": 189,
     "metadata": {},
     "output_type": "execute_result"
    },
    {
     "data": {
      "image/png": "[encoded data removed]",
      "text/plain": [
       "<matplotlib.figure.Figure at 0x7f9921a7d588>"
      ]
     },
     "metadata": {},
     "output_type": "display_data"
    }
   ],
   "source": [
    "fig, axs = plt.subplots(1, 2, figsize=(16, 8))\n",
    "\n",
    "_ = axs[0].hist(good_stuff.loc[:, \"word_count\"], bins=50, normed=True, color='blue', alpha=0.5, label=\"typical comment\")\n",
    "_ = axs[1].hist(bad_stuff.loc[:, \"word_count\"], bins=50, normed=True, color='green', alpha=0.5, label=\"toxic comment\")\n",
    "\n",
    "axs[0].legend(fontsize=12)\n",
    "axs[1].legend(fontsize=12)\n",
    "\n",
    "axs[0].set_xlabel(\"Repetition in Comment\\n 0 = All words unique\", size=12)\n",
    "axs[1].set_xlabel(\"Repetition in Comment\\n 0 = All words unique\", size=12)\n",
    "\n",
    "axs[0].set_ylabel(\"Fraction of Sample\", size=12)\n",
    "axs[1].set_ylabel(\"Fraction of Sample\", size=12)\n",
    "\n",
    "# axs[0].set_xlim(0, 1.0)\n",
    "# axs[1].set_xlim(0, 1.0)\n",
    "\n",
    "axs[0].set_title(\"Distribution of Repetition\\nTypical Comments\", size=14)\n",
    "axs[1].set_title(\"Distribution of Repetition\\nToxic Comments\", size=14)"
   ]
  },
  {
   "cell_type": "code",
   "execution_count": 201,
   "metadata": {},
   "outputs": [
    {
     "data": {
      "text/plain": [
       "Text(0.5,1,'Distribution of Repetition\\nToxic Comments')"
      ]
     },
     "execution_count": 201,
     "metadata": {},
     "output_type": "execute_result"
    },
    {
     "data": {
      "image/png": "[encoded data removed]",
      "text/plain": [
       "<matplotlib.figure.Figure at 0x7f99245264a8>"
      ]
     },
     "metadata": {},
     "output_type": "display_data"
    }
   ],
   "source": [
    "fig, axs = plt.subplots(1, 2, figsize=(16, 8))\n",
    "\n",
    "_ = axs[0].hist(np.log10(good_stuff.loc[:, \"word_count\"]), bins=25, normed=True, color='blue', alpha=0.5, label=\"typical comment\")\n",
    "_ = axs[1].hist(np.log10(bad_stuff.loc[:, \"word_count\"]), bins=25, normed=True, color='green', alpha=0.5, label=\"toxic comment\")\n",
    "\n",
    "axs[0].legend(fontsize=12)\n",
    "axs[1].legend(fontsize=12)\n",
    "\n",
    "axs[0].set_xlabel(\"Word Count in Comment\\n log10\", size=12)\n",
    "axs[1].set_xlabel(\"Word Count in Comment\\n log10\", size=12)\n",
    "\n",
    "axs[0].set_ylabel(\"Fraction of Sample\", size=12)\n",
    "axs[1].set_ylabel(\"Fraction of Sample\", size=12)\n",
    "\n",
    "axs[0].set_xlim(0, 3.5)\n",
    "axs[1].set_xlim(0, 3.5)\n",
    "\n",
    "axs[0].set_title(\"Distribution of Repetition\\nTypical Comments\", size=14)\n",
    "axs[1].set_title(\"Distribution of Repetition\\nToxic Comments\", size=14)"
   ]
  },
  {
   "cell_type": "code",
   "execution_count": null,
   "metadata": {
    "collapsed": true
   },
   "outputs": [],
   "source": []
  },
  {
   "cell_type": "code",
   "execution_count": null,
   "metadata": {
    "collapsed": true
   },
   "outputs": [],
   "source": []
  }
 ],
 "metadata": {
  "kernelspec": {
   "display_name": "Python 3",
   "language": "python",
   "name": "python3"
  },
  "language_info": {
   "codemirror_mode": {
    "name": "ipython",
    "version": 3
   },
   "file_extension": ".py",
   "mimetype": "text/x-python",
   "name": "python",
   "nbconvert_exporter": "python",
   "pygments_lexer": "ipython3",
   "version": "3.6.3"
  }
 },
 "nbformat": 4,
 "nbformat_minor": 2
}

{
 "cells": [
  {
   "cell_type": "code",
   "execution_count": 29,
   "metadata": {},
   "outputs": [
    {
     "name": "stdout",
     "output_type": "stream",
     "text": [
      "[name: \"/cpu:0\"\n",
      "device_type: \"CPU\"\n",
      "memory_limit: 268435456\n",
      "locality {\n",
      "}\n",
      "incarnation: 15471890604045889725\n",
      ", name: \"/gpu:0\"\n",
      "device_type: \"GPU\"\n",
      "memory_limit: 456720384\n",
      "locality {\n",
      "  bus_id: 1\n",
      "}\n",
      "incarnation: 14796605945170394377\n",
      "physical_device_desc: \"device: 0, name: Graphics Device, pci bus id: 0000:01:00.0\"\n",
      "]\n"
     ]
    }
   ],
   "source": [
    "import numpy as np\n",
    "np.random.seed(1337)\n",
    "import pandas as pd\n",
    "\n",
    "from sklearn.model_selection import train_test_split\n",
    "from sklearn.metrics import roc_auc_score, roc_curve, auc\n",
    "\n",
    "from keras.models import Model\n",
    "from keras.layers import Input, Dense, Embedding, SpatialDropout1D, concatenate, Dropout\n",
    "from keras.layers import GRU, Bidirectional, GlobalAveragePooling1D, GlobalMaxPooling1D\n",
    "from keras.optimizers import Adam\n",
    "from keras.preprocessing import text, sequence\n",
    "from keras.callbacks import Callback\n",
    "\n",
    "from sklearn.model_selection import KFold, cross_val_score, train_test_split\n",
    "\n",
    "import warnings\n",
    "warnings.filterwarnings('ignore')\n",
    "\n",
    "from tensorflow.python.client import device_lib\n",
    "print(device_lib.list_local_devices())\n",
    "\n",
    "import os\n",
    "os.environ['OMP_NUM_THREADS'] = '10'\n",
    "\n",
    "import matplotlib.pyplot as plt\n",
    "%matplotlib inline\n",
    "\n",
    "import string\n",
    "from nltk.corpus import stopwords\n",
    "stopWords = set(stopwords.words(\"english\"))\n",
    "stopWords.add(\"im\")"
   ]
  },
  {
   "cell_type": "code",
   "execution_count": 4,
   "metadata": {
    "collapsed": true
   },
   "outputs": [],
   "source": [
    "EMBEDDING_FILE = '../../../../Downloads/fasttext/wiki.en.vec'\n",
    "\n",
    "train = pd.read_csv('../data/train.csv')\n",
    "test = pd.read_csv('../data/test.csv')\n"
   ]
  },
  {
   "cell_type": "code",
   "execution_count": 5,
   "metadata": {
    "collapsed": true
   },
   "outputs": [],
   "source": [
    "X_train = train[\"comment_text\"].fillna(\"fillna\")\n",
    "y_train = train[[\"toxic\", \"severe_toxic\", \"obscene\", \"threat\", \"insult\", \"identity_hate\"]].values\n",
    "X_test = test[\"comment_text\"].fillna(\"fillna\")"
   ]
  },
  {
   "cell_type": "markdown",
   "metadata": {},
   "source": [
    "### Add in some minor cleaning processing before words are vectorized/embedded"
   ]
  },
  {
   "cell_type": "code",
   "execution_count": 12,
   "metadata": {},
   "outputs": [],
   "source": [
    "def strip_line(line):\n",
    "    punct = set(string.punctuation)\n",
    "\n",
    "    line = line.replace(\",\", \" \").replace(\"\\n\", \" \")\n",
    "    line = line.replace(\"..\", \" \").replace(\"??\", \" \").replace(\"!!\", \" \")\n",
    "    line = line.replace(\". \", \" EOS \").replace(\"? \", \" EOS \").replace(\"! \", \" EOS \")\n",
    "    line = \"\".join([_c if _c not in punct else \" \" for _c in line])\n",
    "\n",
    "    word_list = line.lower().split()\n",
    "    \n",
    "    # in the case of an empty string\n",
    "    if len(word_list) > 0:\n",
    "        \n",
    "#         print(len(word_list))\n",
    "\n",
    "        # if a sentence doesn't have eos add it?\n",
    "        # might want to remove this when evaluating, not having terminating punctuation\n",
    "        # is probably signal\n",
    "        if word_list[-1] != \"eos\":\n",
    "            word_list.append(\"eos\")\n",
    "\n",
    "        line = \" \".join(word_list)\n",
    "    #     print(line)\n",
    "\n",
    "    #     if \"yourselfgo\" in line:\n",
    "    #         print(\"#########\", line)\n",
    "    \n",
    "    return line\n",
    "\n",
    "X_train = X_train.apply(strip_line)\n",
    "X_test = X_test.apply(strip_line)"
   ]
  },
  {
   "cell_type": "code",
   "execution_count": 13,
   "metadata": {
    "collapsed": true
   },
   "outputs": [],
   "source": [
    "max_features = 50000\n",
    "maxlen = 200\n",
    "embed_size = 300\n",
    "\n",
    "tokenizer = text.Tokenizer(num_words=max_features)\n",
    "tokenizer.fit_on_texts(list(X_train.values) + list(X_test.values))\n",
    "X_train = tokenizer.texts_to_sequences(X_train)\n",
    "X_test = tokenizer.texts_to_sequences(X_test)\n",
    "x_train = sequence.pad_sequences(X_train, maxlen=maxlen)\n",
    "x_test = sequence.pad_sequences(X_test, maxlen=maxlen)\n"
   ]
  },
  {
   "cell_type": "code",
   "execution_count": 14,
   "metadata": {
    "collapsed": true
   },
   "outputs": [],
   "source": [
    "def get_coefs(word, *arr): return word, np.asarray(arr, dtype='float32')\n",
    "embeddings_index = dict(get_coefs(*o.rstrip().rsplit(' ')) for o in open(EMBEDDING_FILE))\n",
    "\n",
    "word_index = tokenizer.word_index\n",
    "nb_words = min(max_features, len(word_index))\n",
    "embedding_matrix = np.zeros((nb_words, embed_size))\n",
    "for word, i in word_index.items():\n",
    "    if i >= max_features: continue\n",
    "    embedding_vector = embeddings_index.get(word)\n",
    "    if embedding_vector is not None: embedding_matrix[i] = embedding_vector\n",
    "\n"
   ]
  },
  {
   "cell_type": "code",
   "execution_count": 15,
   "metadata": {
    "collapsed": true
   },
   "outputs": [],
   "source": [
    "class RocAucEvaluation(Callback):\n",
    "    def __init__(self, validation_data=(), interval=1):\n",
    "        super(Callback, self).__init__()\n",
    "\n",
    "        self.interval = interval\n",
    "        self.X_val, self.y_val = validation_data\n",
    "\n",
    "    def on_epoch_end(self, epoch, logs={}):\n",
    "        if epoch % self.interval == 0:\n",
    "            y_pred = self.model.predict(self.X_val, verbose=0)\n",
    "            score = roc_auc_score(self.y_val, y_pred)\n",
    "            print(\"\\n ROC-AUC - epoch: %d - score: %.6f \\n\" % (epoch+1, score))\n",
    "\n",
    "            \n",
    "# https://stackoverflow.com/questions/41032551/how-to-compute-receiving-operating-characteristic-roc-and-auc-in-keras\n",
    "class roc_callback(Callback):\n",
    "    def __init__(self,training_data,validation_data):\n",
    "        self.x = training_data[0]\n",
    "        self.y = training_data[1]\n",
    "        self.x_val = validation_data[0]\n",
    "        self.y_val = validation_data[1]\n",
    "\n",
    "\n",
    "    def on_train_begin(self, logs={}):\n",
    "        return\n",
    "\n",
    "    def on_train_end(self, logs={}):\n",
    "        return\n",
    "\n",
    "    def on_epoch_begin(self, epoch, logs={}):\n",
    "        return\n",
    "\n",
    "    def on_epoch_end(self, epoch, logs={}):\n",
    "        y_pred = self.model.predict(self.x, batch_size=1024)\n",
    "        \n",
    "        roc = roc_auc_score(self.y, y_pred)\n",
    "        y_pred_val = self.model.predict(self.x_val, batch_size=1024)\n",
    "        roc_val = roc_auc_score(self.y_val, y_pred_val)\n",
    "        print('\\rroc-auc: %s - roc-auc_val: %s' % (str(round(roc,6)),str(round(roc_val,6))),end=100*' '+'\\n')\n",
    "        return\n",
    "\n",
    "    def on_batch_begin(self, batch, logs={}):\n",
    "        return\n",
    "\n",
    "    def on_batch_end(self, batch, logs={}):\n",
    "        return"
   ]
  },
  {
   "cell_type": "code",
   "execution_count": 7,
   "metadata": {
    "collapsed": true
   },
   "outputs": [],
   "source": [
    "def get_model(learning_rate=0.01, lr_decay=0.00001, drop_out=0.2):\n",
    "    inp = Input(shape=(maxlen, ))\n",
    "    x = Embedding(max_features, embed_size, weights=[embedding_matrix])(inp)\n",
    "    x = SpatialDropout1D(0.2)(x)\n",
    "    x = Bidirectional(GRU(80, return_sequences=True))(x)\n",
    "    \n",
    "    # try adding some dropout\n",
    "    x = Dropout(drop_out)(x)\n",
    "    \n",
    "    avg_pool = GlobalAveragePooling1D()(x)\n",
    "    max_pool = GlobalMaxPooling1D()(x)\n",
    "    conc = concatenate([avg_pool, max_pool])\n",
    "    \n",
    "    # more dropout\n",
    "    x = Dropout(drop_out)(x)\n",
    "    outp = Dense(6, activation=\"sigmoid\")(conc)\n",
    "    \n",
    "    # configure optimizer\n",
    "    _optimizer = Adam(lr=learning_rate, decay=lr_decay)\n",
    "    \n",
    "    model = Model(inputs=inp, outputs=outp)\n",
    "    model.compile(loss='binary_crossentropy',\n",
    "                  optimizer=_optimizer,\n",
    "                  metrics=['accuracy'])\n",
    "\n",
    "    return model"
   ]
  },
  {
   "cell_type": "code",
   "execution_count": 8,
   "metadata": {
    "collapsed": true
   },
   "outputs": [],
   "source": [
    "def get_model2(learning_rate=0.001, lr_decay=0.00001, drop_out=0.2):\n",
    "    inp = Input(shape=(maxlen, ))\n",
    "    x = Embedding(max_features, embed_size, weights=[embedding_matrix])(inp)\n",
    "    x = SpatialDropout1D(0.2)(x)\n",
    "    x = Bidirectional(GRU(80, return_sequences=True))(x)\n",
    "    \n",
    "    # try adding some dropout\n",
    "    x = Dropout(drop_out)(x)\n",
    "    \n",
    "    x = Bidirectional(GRU(80, return_sequences=True))(x)\n",
    "    \n",
    "    # try adding some dropout\n",
    "    x = Dropout(drop_out)(x)\n",
    "        \n",
    "    avg_pool = GlobalAveragePooling1D()(x)\n",
    "    max_pool = GlobalMaxPooling1D()(x)\n",
    "    conc = concatenate([avg_pool, max_pool])\n",
    "    \n",
    "    # more dropout\n",
    "    x = Dropout(drop_out)(x)\n",
    "    outp = Dense(6, activation=\"sigmoid\")(conc)\n",
    "    \n",
    "    # configure optimizer\n",
    "    _optimizer = Adam(lr=learning_rate, decay=lr_decay)\n",
    "    \n",
    "    model = Model(inputs=inp, outputs=outp)\n",
    "    model.compile(loss='binary_crossentropy',\n",
    "                  optimizer=_optimizer,\n",
    "                  metrics=['accuracy'])\n",
    "\n",
    "    return model"
   ]
  },
  {
   "cell_type": "code",
   "execution_count": 9,
   "metadata": {
    "collapsed": true
   },
   "outputs": [],
   "source": [
    "def get_model3(learning_rate=0.001, lr_decay=0.00001, drop_out=0.2):\n",
    "    inp = Input(shape=(maxlen, ))\n",
    "    x = Embedding(max_features, embed_size, weights=[embedding_matrix])(inp)\n",
    "    x = SpatialDropout1D(0.2)(x)\n",
    "    x = Bidirectional(GRU(60, return_sequences=True))(x)\n",
    "        \n",
    "    x = Bidirectional(GRU(60, return_sequences=True))(x)\n",
    "        \n",
    "    avg_pool = GlobalAveragePooling1D()(x)\n",
    "    max_pool = GlobalMaxPooling1D()(x)\n",
    "    conc = concatenate([avg_pool, max_pool])\n",
    "    \n",
    "    # more dropout\n",
    "    x = Dropout(drop_out)(x)\n",
    "    outp = Dense(6, activation=\"sigmoid\")(conc)\n",
    "    \n",
    "    # configure optimizer\n",
    "    _optimizer = Adam(lr=learning_rate, decay=lr_decay)\n",
    "    \n",
    "    model = Model(inputs=inp, outputs=outp)\n",
    "    model.compile(loss='binary_crossentropy',\n",
    "                  optimizer=_optimizer,\n",
    "                  metrics=['accuracy'])\n",
    "\n",
    "    return model"
   ]
  },
  {
   "cell_type": "code",
   "execution_count": 16,
   "metadata": {
    "collapsed": true
   },
   "outputs": [],
   "source": [
    "def get_model4(learning_rate=0.001, lr_decay=0.00001, drop_out=0.2):\n",
    "    inp = Input(shape=(maxlen, ))\n",
    "    x = Embedding(max_features, embed_size, weights=[embedding_matrix])(inp)\n",
    "    x = SpatialDropout1D(drop_out)(x)\n",
    "    x = Bidirectional(GRU(80, return_sequences=True))(x)\n",
    "    \n",
    "    avg_pool = GlobalAveragePooling1D()(x)\n",
    "    max_pool = GlobalMaxPooling1D()(x)\n",
    "    conc = concatenate([avg_pool, max_pool])\n",
    "    \n",
    "    outp = Dense(6, activation=\"sigmoid\")(conc)\n",
    "    \n",
    "    # configure optimizer\n",
    "    _optimizer = Adam(lr=learning_rate, decay=lr_decay)\n",
    "    \n",
    "    model = Model(inputs=inp, outputs=outp)\n",
    "    model.compile(loss='binary_crossentropy',\n",
    "                  optimizer=_optimizer,\n",
    "                  metrics=['accuracy'])\n",
    "\n",
    "    return model"
   ]
  },
  {
   "cell_type": "code",
   "execution_count": null,
   "metadata": {},
   "outputs": [
    {
     "name": "stdout",
     "output_type": "stream",
     "text": [
      "Train on 139624 samples, validate on 19947 samples\n",
      "Epoch 1/4\n",
      "139624/139624 [==============================] - 145s 1ms/step - loss: 0.0784 - acc: 0.9747 - val_loss: 0.0475 - val_acc: 0.9830\n",
      "roc-auc: 0.975143 - roc-auc_val: 0.971863                                                                                                    \n",
      "Epoch 2/4\n",
      "139624/139624 [==============================] - 144s 1ms/step - loss: 0.0444 - acc: 0.9833 - val_loss: 0.0421 - val_acc: 0.9841\n",
      "roc-auc: 0.987075 - roc-auc_val: 0.982571                                                                                                    \n",
      "Epoch 3/4\n",
      "139624/139624 [==============================] - 144s 1ms/step - loss: 0.0382 - acc: 0.9851 - val_loss: 0.0408 - val_acc: 0.9845\n",
      "roc-auc: 0.991603 - roc-auc_val: 0.985057                                                                                                    \n",
      "Epoch 4/4\n",
      "139624/139624 [==============================] - 144s 1ms/step - loss: 0.0342 - acc: 0.9865 - val_loss: 0.0413 - val_acc: 0.9844\n",
      "roc-auc: 0.994104 - roc-auc_val: 0.986444                                                                                                    \n",
      "Train on 139624 samples, validate on 19947 samples\n",
      "Epoch 1/4\n",
      "139624/139624 [==============================] - 144s 1ms/step - loss: 0.0324 - acc: 0.9872 - val_loss: 0.0318 - val_acc: 0.9875\n",
      "roc-auc: 0.995141 - roc-auc_val: 0.993331                                                                                                    \n",
      "Epoch 2/4\n",
      "139624/139624 [==============================] - 142s 1ms/step - loss: 0.0290 - acc: 0.9886 - val_loss: 0.0327 - val_acc: 0.9870\n",
      "roc-auc: 0.996429 - roc-auc_val: 0.993104                                                                                                    \n",
      "Epoch 3/4\n",
      "122368/139624 [=========================>....] - ETA: 16s - loss: 0.0259 - acc: 0.9898"
     ]
    }
   ],
   "source": [
    "model = get_model4(learning_rate=0.001, lr_decay=0, drop_out=0.35)\n",
    "\n",
    "# dropout:  0.0    ROC AUC:  0.984483  Epochs = 2  lr_decay = 0.0001\n",
    "\n",
    "\n",
    "# print(model.summary())\n",
    "\n",
    "batch_size = 256\n",
    "epochs = 4\n",
    "\n",
    "# stratified k-fold\n",
    "skf = KFold(n_splits=8, random_state=46436, shuffle=True)\n",
    "skf.get_n_splits(x_train, y_train)\n",
    "\n",
    "count = 0\n",
    "for train_index, test_index in skf.split(x_train, y_train):\n",
    "    count += 1 \n",
    "    \n",
    "    # don't actually evaluate all folds\n",
    "    if count > 4:\n",
    "        break\n",
    "    \n",
    "    X_tra, X_val = x_train[train_index], x_train[test_index]\n",
    "    y_tra, y_val = y_train[train_index], y_train[test_index]\n",
    "\n",
    "    hist = model.fit(X_tra, y_tra, batch_size=batch_size, epochs=epochs, validation_data=(X_val, y_val),\n",
    "                     callbacks=[roc_callback(training_data=(X_tra, y_tra),validation_data=(X_val, y_val))],\n",
    "                     verbose=1)"
   ]
  },
  {
   "cell_type": "markdown",
   "metadata": {},
   "source": [
    "### evaluate using folds"
   ]
  },
  {
   "cell_type": "code",
   "execution_count": null,
   "metadata": {
    "collapsed": true
   },
   "outputs": [],
   "source": [
    "model = get_model4(learning_rate=0.001, lr_decay=0, drop_out=0.2)\n",
    "\n",
    "# dropout:  0.0    ROC AUC:  0.984483  Epochs = 2  lr_decay = 0.0001\n",
    "# dropout:  0.1    ROC AUC:  0.984710  Epochs = 3  lr_decay = 0.0001\n",
    "# dropout:  0.15   ROC AUC:  0.985498  Epochs = 3  lr_decay = 0.0001\n",
    "# dropout:  0.2    ROC AUC:  0.985565  Epochs = 3  lr_decay = 0.0\n",
    "# dropout:  0.2    ROC AUC:  0.985754  Epochs = 3  lr_decay = 0.0001\n",
    "# dropout:  0.25   ROC AUC:  0.985583  Epochs = 3  lr_decay = 0.0001\n",
    "# dropout:  0.3    ROC AUC:  0.000000  Epochs = 3  lr_decay = 0.0001\n",
    "\n",
    "\n",
    "\n",
    "# dropout:  0.2    ROC AUC:  0.985565  Epochs = 2  lr_decay = 0.0  batch=32\n",
    "# dropout:  0.2    ROC AUC:  0.986987  Epochs = 2  lr_decay = 0.0  batch=32\n",
    "\n",
    "# print(model.summary())\n",
    "\n",
    "batch_size = 256\n",
    "epochs = 3\n",
    "\n",
    "X_tra, X_val, y_tra, y_val = train_test_split(x_train, y_train, train_size=0.90, random_state=233)\n",
    "# RocAuc = RocAucEvaluation(validation_data=(X_val, y_val), interval=1)\n",
    "\n",
    "hist = model.fit(X_tra, y_tra, batch_size=batch_size, epochs=epochs, validation_data=(X_val, y_val),\n",
    "                 callbacks=[roc_callback(training_data=(X_tra, y_tra),validation_data=(X_val, y_val))],\n",
    "                 verbose=1)"
   ]
  },
  {
   "cell_type": "code",
   "execution_count": 19,
   "metadata": {
    "collapsed": true
   },
   "outputs": [],
   "source": [
    "y_pred = model.predict(x_test, batch_size=1024)\n",
    "# y_pred2 = model2.predict(x_test, batch_size=1024)"
   ]
  },
  {
   "cell_type": "code",
   "execution_count": 28,
   "metadata": {
    "collapsed": true
   },
   "outputs": [],
   "source": [
    "merged = np.zeros((len(y_pred1), 6))\n",
    "\n",
    "for idx in range(6):\n",
    "    merged[:, idx] = (y_pred[:, idx] + y_pred2[:, idx]) / 2"
   ]
  },
  {
   "cell_type": "code",
   "execution_count": 29,
   "metadata": {},
   "outputs": [
    {
     "data": {
      "text/plain": [
       "array([[  9.98292387e-01,   5.93660593e-01,   9.91719246e-01,\n",
       "          3.72165106e-02,   9.28416014e-01,   4.32196796e-01],\n",
       "       [  1.40022064e-04,   1.01796131e-05,   6.16115794e-05,\n",
       "          8.99722272e-06,   4.76860114e-05,   1.23059281e-05],\n",
       "       [  1.14991493e-03,   7.12961919e-05,   2.82173394e-04,\n",
       "          4.55172121e-05,   1.83624114e-04,   6.69745641e-05],\n",
       "       [  3.71524104e-04,   8.35616174e-06,   1.22842685e-04,\n",
       "          2.82676701e-05,   8.56951301e-05,   1.14385321e-05],\n",
       "       [  3.66054359e-03,   9.58527380e-05,   1.00996590e-03,\n",
       "          3.15602025e-04,   2.06569748e-04,   6.26511464e-05],\n",
       "       [  1.23645563e-03,   3.40508195e-05,   2.69324024e-04,\n",
       "          5.55364168e-05,   1.52903711e-04,   2.52701066e-05],\n",
       "       [  2.05831714e-02,   5.29726349e-05,   9.50353220e-04,\n",
       "          3.54499425e-05,   2.49279290e-03,   1.23235004e-04],\n",
       "       [  6.36242807e-01,   1.88994245e-03,   1.05181914e-02,\n",
       "          3.01735965e-03,   3.86921950e-02,   2.28222134e-03],\n",
       "       [  6.46592304e-02,   8.59371139e-05,   1.54839025e-03,\n",
       "          2.15589811e-04,   3.69344628e-03,   1.80842093e-04],\n",
       "       [  7.80194241e-04,   8.98269900e-06,   1.03059458e-04,\n",
       "          7.26416465e-06,   6.29456044e-05,   1.63837667e-05]])"
      ]
     },
     "execution_count": 29,
     "metadata": {},
     "output_type": "execute_result"
    }
   ],
   "source": [
    "merged[:10]"
   ]
  },
  {
   "cell_type": "code",
   "execution_count": 133,
   "metadata": {
    "collapsed": true
   },
   "outputs": [],
   "source": [
    "file_name_base = \"../models/model4_pooled_gru_lb0918\"\n",
    "\n",
    "model.save(file_name_base + \".h5\")\n",
    "\n",
    "# save as JSON\n",
    "json_string = model.to_json()\n",
    "json_out = file_name_base + \".json\"\n",
    "\n",
    "with open(json_out, \"w\") as outfile:\n",
    "    outfile.write(json_string)"
   ]
  },
  {
   "cell_type": "code",
   "execution_count": 20,
   "metadata": {
    "collapsed": true
   },
   "outputs": [],
   "source": [
    "msubmission = pd.read_csv('../data/sample_submission.csv')\n",
    "msubmission[[\"toxic\", \"severe_toxic\", \"obscene\", \"threat\", \"insult\", \"identity_hate\"]] = y_pred\n",
    "msubmission.to_csv('../submissions/fod_checked_merged_pooled_gru_fasttext_submission.csv.gz', index=False, compression=\"gzip\")"
   ]
  },
  {
   "cell_type": "code",
   "execution_count": 35,
   "metadata": {},
   "outputs": [
    {
     "data": {
      "text/html": [
       "<div>\n",
       "<style>\n",
       "    .dataframe thead tr:only-child th {\n",
       "        text-align: right;\n",
       "    }\n",
       "\n",
       "    .dataframe thead th {\n",
       "        text-align: left;\n",
       "    }\n",
       "\n",
       "    .dataframe tbody tr th {\n",
       "        vertical-align: top;\n",
       "    }\n",
       "</style>\n",
       "<table border=\"1\" class=\"dataframe\">\n",
       "  <thead>\n",
       "    <tr style=\"text-align: right;\">\n",
       "      <th></th>\n",
       "      <th>id</th>\n",
       "      <th>toxic</th>\n",
       "      <th>severe_toxic</th>\n",
       "      <th>obscene</th>\n",
       "      <th>threat</th>\n",
       "      <th>insult</th>\n",
       "      <th>identity_hate</th>\n",
       "    </tr>\n",
       "  </thead>\n",
       "  <tbody>\n",
       "    <tr>\n",
       "      <th>0</th>\n",
       "      <td>00001cee341fdb12</td>\n",
       "      <td>0.998292</td>\n",
       "      <td>0.593661</td>\n",
       "      <td>0.991719</td>\n",
       "      <td>0.037217</td>\n",
       "      <td>0.928416</td>\n",
       "      <td>0.432197</td>\n",
       "    </tr>\n",
       "    <tr>\n",
       "      <th>1</th>\n",
       "      <td>0000247867823ef7</td>\n",
       "      <td>0.000140</td>\n",
       "      <td>0.000010</td>\n",
       "      <td>0.000062</td>\n",
       "      <td>0.000009</td>\n",
       "      <td>0.000048</td>\n",
       "      <td>0.000012</td>\n",
       "    </tr>\n",
       "    <tr>\n",
       "      <th>2</th>\n",
       "      <td>00013b17ad220c46</td>\n",
       "      <td>0.001150</td>\n",
       "      <td>0.000071</td>\n",
       "      <td>0.000282</td>\n",
       "      <td>0.000046</td>\n",
       "      <td>0.000184</td>\n",
       "      <td>0.000067</td>\n",
       "    </tr>\n",
       "    <tr>\n",
       "      <th>3</th>\n",
       "      <td>00017563c3f7919a</td>\n",
       "      <td>0.000372</td>\n",
       "      <td>0.000008</td>\n",
       "      <td>0.000123</td>\n",
       "      <td>0.000028</td>\n",
       "      <td>0.000086</td>\n",
       "      <td>0.000011</td>\n",
       "    </tr>\n",
       "    <tr>\n",
       "      <th>4</th>\n",
       "      <td>00017695ad8997eb</td>\n",
       "      <td>0.003661</td>\n",
       "      <td>0.000096</td>\n",
       "      <td>0.001010</td>\n",
       "      <td>0.000316</td>\n",
       "      <td>0.000207</td>\n",
       "      <td>0.000063</td>\n",
       "    </tr>\n",
       "  </tbody>\n",
       "</table>\n",
       "</div>"
      ],
      "text/plain": [
       "                 id     toxic  severe_toxic   obscene    threat    insult  \\\n",
       "0  00001cee341fdb12  0.998292      0.593661  0.991719  0.037217  0.928416   \n",
       "1  0000247867823ef7  0.000140      0.000010  0.000062  0.000009  0.000048   \n",
       "2  00013b17ad220c46  0.001150      0.000071  0.000282  0.000046  0.000184   \n",
       "3  00017563c3f7919a  0.000372      0.000008  0.000123  0.000028  0.000086   \n",
       "4  00017695ad8997eb  0.003661      0.000096  0.001010  0.000316  0.000207   \n",
       "\n",
       "   identity_hate  \n",
       "0       0.432197  \n",
       "1       0.000012  \n",
       "2       0.000067  \n",
       "3       0.000011  \n",
       "4       0.000063  "
      ]
     },
     "execution_count": 35,
     "metadata": {},
     "output_type": "execute_result"
    }
   ],
   "source": [
    "msubmission.head()"
   ]
  },
  {
   "cell_type": "code",
   "execution_count": 36,
   "metadata": {},
   "outputs": [
    {
     "name": "stdout",
     "output_type": "stream",
     "text": [
      "<class 'pandas.core.frame.DataFrame'>\n",
      "Int64Index: 153164 entries, 0 to 153163\n",
      "Data columns (total 7 columns):\n",
      "id               153164 non-null object\n",
      "toxic            153164 non-null float64\n",
      "severe_toxic     153164 non-null float64\n",
      "obscene          153164 non-null float64\n",
      "threat           153164 non-null float64\n",
      "insult           153164 non-null float64\n",
      "identity_hate    153164 non-null float64\n",
      "dtypes: float64(6), object(1)\n",
      "memory usage: 9.3+ MB\n"
     ]
    }
   ],
   "source": [
    "msubmission.info()"
   ]
  },
  {
   "cell_type": "code",
   "execution_count": 32,
   "metadata": {
    "collapsed": true
   },
   "outputs": [],
   "source": [
    "submission = pd.read_csv('../data/sample_submission.csv')\n",
    "submission[[\"toxic\", \"severe_toxic\", \"obscene\", \"threat\", \"insult\", \"identity_hate\"]] = y_pred\n",
    "submission.to_csv('../submissions/more_features_pooled_gru_fasttext_submission.csv.gz', index=False, compression=\"gzip\")"
   ]
  },
  {
   "cell_type": "code",
   "execution_count": 33,
   "metadata": {},
   "outputs": [
    {
     "data": {
      "text/html": [
       "<div>\n",
       "<style>\n",
       "    .dataframe thead tr:only-child th {\n",
       "        text-align: right;\n",
       "    }\n",
       "\n",
       "    .dataframe thead th {\n",
       "        text-align: left;\n",
       "    }\n",
       "\n",
       "    .dataframe tbody tr th {\n",
       "        vertical-align: top;\n",
       "    }\n",
       "</style>\n",
       "<table border=\"1\" class=\"dataframe\">\n",
       "  <thead>\n",
       "    <tr style=\"text-align: right;\">\n",
       "      <th></th>\n",
       "      <th>id</th>\n",
       "      <th>toxic</th>\n",
       "      <th>severe_toxic</th>\n",
       "      <th>obscene</th>\n",
       "      <th>threat</th>\n",
       "      <th>insult</th>\n",
       "      <th>identity_hate</th>\n",
       "    </tr>\n",
       "  </thead>\n",
       "  <tbody>\n",
       "    <tr>\n",
       "      <th>0</th>\n",
       "      <td>00001cee341fdb12</td>\n",
       "      <td>0.998292</td>\n",
       "      <td>0.593661</td>\n",
       "      <td>0.991719</td>\n",
       "      <td>0.037217</td>\n",
       "      <td>0.928416</td>\n",
       "      <td>0.432197</td>\n",
       "    </tr>\n",
       "    <tr>\n",
       "      <th>1</th>\n",
       "      <td>0000247867823ef7</td>\n",
       "      <td>0.000140</td>\n",
       "      <td>0.000010</td>\n",
       "      <td>0.000062</td>\n",
       "      <td>0.000009</td>\n",
       "      <td>0.000048</td>\n",
       "      <td>0.000012</td>\n",
       "    </tr>\n",
       "    <tr>\n",
       "      <th>2</th>\n",
       "      <td>00013b17ad220c46</td>\n",
       "      <td>0.001150</td>\n",
       "      <td>0.000071</td>\n",
       "      <td>0.000282</td>\n",
       "      <td>0.000046</td>\n",
       "      <td>0.000184</td>\n",
       "      <td>0.000067</td>\n",
       "    </tr>\n",
       "    <tr>\n",
       "      <th>3</th>\n",
       "      <td>00017563c3f7919a</td>\n",
       "      <td>0.000372</td>\n",
       "      <td>0.000008</td>\n",
       "      <td>0.000123</td>\n",
       "      <td>0.000028</td>\n",
       "      <td>0.000086</td>\n",
       "      <td>0.000011</td>\n",
       "    </tr>\n",
       "    <tr>\n",
       "      <th>4</th>\n",
       "      <td>00017695ad8997eb</td>\n",
       "      <td>0.003661</td>\n",
       "      <td>0.000096</td>\n",
       "      <td>0.001010</td>\n",
       "      <td>0.000316</td>\n",
       "      <td>0.000207</td>\n",
       "      <td>0.000063</td>\n",
       "    </tr>\n",
       "  </tbody>\n",
       "</table>\n",
       "</div>"
      ],
      "text/plain": [
       "                 id     toxic  severe_toxic   obscene    threat    insult  \\\n",
       "0  00001cee341fdb12  0.998292      0.593661  0.991719  0.037217  0.928416   \n",
       "1  0000247867823ef7  0.000140      0.000010  0.000062  0.000009  0.000048   \n",
       "2  00013b17ad220c46  0.001150      0.000071  0.000282  0.000046  0.000184   \n",
       "3  00017563c3f7919a  0.000372      0.000008  0.000123  0.000028  0.000086   \n",
       "4  00017695ad8997eb  0.003661      0.000096  0.001010  0.000316  0.000207   \n",
       "\n",
       "   identity_hate  \n",
       "0       0.432197  \n",
       "1       0.000012  \n",
       "2       0.000067  \n",
       "3       0.000011  \n",
       "4       0.000063  "
      ]
     },
     "execution_count": 33,
     "metadata": {},
     "output_type": "execute_result"
    }
   ],
   "source": [
    "submission.head()"
   ]
  },
  {
   "cell_type": "markdown",
   "metadata": {},
   "source": [
    "#### Create a generic sample submission to be overwritten by the above"
   ]
  },
  {
   "cell_type": "code",
   "execution_count": 21,
   "metadata": {
    "collapsed": true
   },
   "outputs": [],
   "source": [
    "sample_submission = test\n",
    "for _class in [\"toxic\", \"severe_toxic\", \"obscene\", \"threat\", \"insult\", \"identity_hate\"]:\n",
    "    sample_submission[_class] = 0"
   ]
  },
  {
   "cell_type": "code",
   "execution_count": 22,
   "metadata": {},
   "outputs": [
    {
     "name": "stdout",
     "output_type": "stream",
     "text": [
      "Index(['id', 'comment_text', 'toxic', 'severe_toxic', 'obscene', 'threat',\n",
      "       'insult', 'identity_hate'],\n",
      "      dtype='object')\n"
     ]
    },
    {
     "data": {
      "text/html": [
       "<div>\n",
       "<style>\n",
       "    .dataframe thead tr:only-child th {\n",
       "        text-align: right;\n",
       "    }\n",
       "\n",
       "    .dataframe thead th {\n",
       "        text-align: left;\n",
       "    }\n",
       "\n",
       "    .dataframe tbody tr th {\n",
       "        vertical-align: top;\n",
       "    }\n",
       "</style>\n",
       "<table border=\"1\" class=\"dataframe\">\n",
       "  <thead>\n",
       "    <tr style=\"text-align: right;\">\n",
       "      <th></th>\n",
       "      <th>id</th>\n",
       "      <th>toxic</th>\n",
       "      <th>severe_toxic</th>\n",
       "      <th>obscene</th>\n",
       "      <th>threat</th>\n",
       "      <th>insult</th>\n",
       "      <th>identity_hate</th>\n",
       "    </tr>\n",
       "  </thead>\n",
       "  <tbody>\n",
       "    <tr>\n",
       "      <th>0</th>\n",
       "      <td>00001cee341fdb12</td>\n",
       "      <td>0</td>\n",
       "      <td>0</td>\n",
       "      <td>0</td>\n",
       "      <td>0</td>\n",
       "      <td>0</td>\n",
       "      <td>0</td>\n",
       "    </tr>\n",
       "    <tr>\n",
       "      <th>1</th>\n",
       "      <td>0000247867823ef7</td>\n",
       "      <td>0</td>\n",
       "      <td>0</td>\n",
       "      <td>0</td>\n",
       "      <td>0</td>\n",
       "      <td>0</td>\n",
       "      <td>0</td>\n",
       "    </tr>\n",
       "    <tr>\n",
       "      <th>2</th>\n",
       "      <td>00013b17ad220c46</td>\n",
       "      <td>0</td>\n",
       "      <td>0</td>\n",
       "      <td>0</td>\n",
       "      <td>0</td>\n",
       "      <td>0</td>\n",
       "      <td>0</td>\n",
       "    </tr>\n",
       "    <tr>\n",
       "      <th>3</th>\n",
       "      <td>00017563c3f7919a</td>\n",
       "      <td>0</td>\n",
       "      <td>0</td>\n",
       "      <td>0</td>\n",
       "      <td>0</td>\n",
       "      <td>0</td>\n",
       "      <td>0</td>\n",
       "    </tr>\n",
       "    <tr>\n",
       "      <th>4</th>\n",
       "      <td>00017695ad8997eb</td>\n",
       "      <td>0</td>\n",
       "      <td>0</td>\n",
       "      <td>0</td>\n",
       "      <td>0</td>\n",
       "      <td>0</td>\n",
       "      <td>0</td>\n",
       "    </tr>\n",
       "  </tbody>\n",
       "</table>\n",
       "</div>"
      ],
      "text/plain": [
       "                 id  toxic  severe_toxic  obscene  threat  insult  \\\n",
       "0  00001cee341fdb12      0             0        0       0       0   \n",
       "1  0000247867823ef7      0             0        0       0       0   \n",
       "2  00013b17ad220c46      0             0        0       0       0   \n",
       "3  00017563c3f7919a      0             0        0       0       0   \n",
       "4  00017695ad8997eb      0             0        0       0       0   \n",
       "\n",
       "   identity_hate  \n",
       "0              0  \n",
       "1              0  \n",
       "2              0  \n",
       "3              0  \n",
       "4              0  "
      ]
     },
     "execution_count": 22,
     "metadata": {},
     "output_type": "execute_result"
    }
   ],
   "source": [
    "print(sample_submission.keys())\n",
    "\n",
    "sample_submission = sample_submission.drop([\"comment_text\"], axis=1)\n",
    "sample_submission.head()"
   ]
  },
  {
   "cell_type": "code",
   "execution_count": 23,
   "metadata": {
    "collapsed": true
   },
   "outputs": [],
   "source": [
    "sample_submission.to_csv(\"../data/sample_submission.csv\", index_label=False)"
   ]
  },
  {
   "cell_type": "code",
   "execution_count": 51,
   "metadata": {},
   "outputs": [
    {
     "data": {
      "text/plain": [
       "14.965784284662087"
      ]
     },
     "execution_count": 51,
     "metadata": {},
     "output_type": "execute_result"
    }
   ],
   "source": [
    "np.log2(32000)"
   ]
  },
  {
   "cell_type": "markdown",
   "metadata": {},
   "source": [
    "#### Plot an ROC for the model"
   ]
  },
  {
   "cell_type": "code",
   "execution_count": 22,
   "metadata": {
    "collapsed": true
   },
   "outputs": [],
   "source": [
    "val_preds = model.predict(X_val, batch_size=1024)"
   ]
  },
  {
   "cell_type": "code",
   "execution_count": 24,
   "metadata": {},
   "outputs": [
    {
     "name": "stdout",
     "output_type": "stream",
     "text": [
      "0.981324296918\n",
      "0.991561611186\n",
      "0.991862552368\n",
      "0.989779948408\n",
      "0.984572105722\n",
      "0.983068360665\n"
     ]
    },
    {
     "data": {
      "image/png": "[encoded data removed]",
      "text/plain": [
       "<matplotlib.figure.Figure at 0x7fbe2847c4e0>"
      ]
     },
     "metadata": {},
     "output_type": "display_data"
    }
   ],
   "source": [
    "c_names = [\"toxic\", \"severe_toxic\", \"obscene\", \"theat\", \"insult\", \"identity_hate\"]\n",
    "\n",
    "fig, axs = plt.subplots(2, 3, figsize=(18,12))\n",
    "\n",
    "fig.set_facecolor(\"white\")\n",
    "fig.suptitle(\"FOD GRU ROC AUC\")\n",
    "\n",
    "for _c in range(6):\n",
    "    class_index = _c\n",
    "    class_name = c_names[_c]\n",
    "\n",
    "    result = roc_auc_score(y_val[:, class_index], val_preds[:, class_index])\n",
    "\n",
    "    fpr = {}\n",
    "    tpr = {}\n",
    "    fpr, tpr, _ = roc_curve(y_val[:, class_index], val_preds[:, class_index])\n",
    "    roc_auc = auc(fpr, tpr)\n",
    "\n",
    "    # print(fpr)\n",
    "    print(result)\n",
    "\n",
    "    ax = axs.flatten()[_c]\n",
    "\n",
    "    ax.plot(fpr, tpr, color='darkorange',\n",
    "             lw=2, label='ROC curve (area = %0.4f)' % roc_auc)\n",
    "\n",
    "\n",
    "    ax.plot([0, 1], [0, 1], color='navy', lw=2, linestyle='--')\n",
    "    ax.set_xlim([-0.005, 1.0])\n",
    "    ax.set_ylim([0.0, 1.005])\n",
    "    ax.set_xlabel('False Positive Rate', size=12)\n",
    "    ax.set_ylabel('True Positive Rate', size=12)\n",
    "    ax.set_title('Receiver Operating Characteristic: ' + class_name, size=14)\n",
    "    ax.legend(loc=\"lower right\", fontsize=12)\n",
    "    # plt.show()"
   ]
  },
  {
   "cell_type": "code",
   "execution_count": null,
   "metadata": {
    "collapsed": true
   },
   "outputs": [],
   "source": []
  }
 ],
 "metadata": {
  "kernelspec": {
   "display_name": "Python 3",
   "language": "python",
   "name": "python3"
  },
  "language_info": {
   "codemirror_mode": {
    "name": "ipython",
    "version": 3
   },
   "file_extension": ".py",
   "mimetype": "text/x-python",
   "name": "python",
   "nbconvert_exporter": "python",
   "pygments_lexer": "ipython3",
   "version": "3.6.3"
  }
 },
 "nbformat": 4,
 "nbformat_minor": 2
}

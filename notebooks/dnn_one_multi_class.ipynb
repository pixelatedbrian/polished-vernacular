{
 "cells": [
  {
   "cell_type": "code",
   "execution_count": 2,
   "metadata": {},
   "outputs": [
    {
     "name": "stdout",
     "output_type": "stream",
     "text": [
      "[name: \"/cpu:0\"\n",
      "device_type: \"CPU\"\n",
      "memory_limit: 268435456\n",
      "locality {\n",
      "}\n",
      "incarnation: 16631629608964862674\n",
      ", name: \"/gpu:0\"\n",
      "device_type: \"GPU\"\n",
      "memory_limit: 10668300698\n",
      "locality {\n",
      "  bus_id: 1\n",
      "}\n",
      "incarnation: 14407953886703984601\n",
      "physical_device_desc: \"device: 0, name: Graphics Device, pci bus id: 0000:01:00.0\"\n",
      "]\n"
     ]
    }
   ],
   "source": [
    "import tensorflow as tf\n",
    "import numpy as np\n",
    "import pandas as pd\n",
    "from keras.models import Model\n",
    "from keras.layers import Dense, Embedding, Input, Concatenate, Conv1D, Activation, TimeDistributed, Flatten, RepeatVector, Permute,multiply\n",
    "from keras.layers import LSTM, Bidirectional, GlobalMaxPool1D, Dropout, GRU, GlobalAveragePooling1D, MaxPooling1D, SpatialDropout1D, BatchNormalization\n",
    "from keras.preprocessing import text, sequence\n",
    "from keras.callbacks import EarlyStopping, ModelCheckpoint, Callback\n",
    "from keras.optimizers import Adam\n",
    "from keras.preprocessing.text import Tokenizer\n",
    "from keras.layers.core import K\n",
    "from sklearn.preprocessing import MinMaxScaler, StandardScaler\n",
    "from nltk.sentiment.vader import SentimentIntensityAnalyzer\n",
    "import re \n",
    "from sklearn.model_selection import KFold\n",
    "from sklearn.metrics import roc_auc_score, roc_curve, auc\n",
    "from sklearn.model_selection import train_test_split\n",
    "\n",
    "from sklearn.feature_extraction.text import TfidfVectorizer\n",
    "\n",
    "from tensorflow.python.client import device_lib\n",
    "print(device_lib.list_local_devices())\n",
    "\n",
    "import matplotlib.pyplot as plt\n",
    "%matplotlib inline"
   ]
  },
  {
   "cell_type": "markdown",
   "metadata": {},
   "source": [
    "#### some helper stuff for tracking performance over the duration of the project"
   ]
  },
  {
   "cell_type": "code",
   "execution_count": 2,
   "metadata": {
    "collapsed": true
   },
   "outputs": [],
   "source": [
    "def write_model_timestamp(model_type, kfolds, scores, note):\n",
    "    '''\n",
    "    Parameters:\n",
    "    model_type = string description of the model(s) used to make these scores\n",
    "    kfolds     = how many folds in kfold cross validation used\n",
    "    scores     = list of ROC AUC avg scores of models for each class, floats should be like 0.9784\n",
    "    note       = string, whatever is of note about the model, made a change or whatever\n",
    "    \n",
    "    Returns:\n",
    "    None, but writes (appends) a line to scores.txt in the root directory so that progress can be tracked\n",
    "    The format is:\n",
    "            time(s)~model_type~kfold~avg_roc_auc~toxic_auc~s_toxic_auc~obscene_auc~threat_auc~insult_auc~i_hate_auc~notes\n",
    "            \n",
    "    scores.txt is a tilde '~' seperated CSV like:\n",
    "        time~model_type~kfold~avg_roc_auc~toxic_auc~s_toxic_auc~obscene_auc~threat_auc~insult_auc~i_hate_auc~notes\n",
    "        1520303252~0.9794005980274005~note something\n",
    "    '''\n",
    "\n",
    "    out_text = \"{:10.0f}~{:}~{:2d}~{:0.8f}~{:0.8f}~{:0.8f}~{:0.8f}~{:0.8f}~{:0.8f}~{:0.8f}~{:}\\n\".format(time.time(), \n",
    "                                             model_type, \n",
    "                                             kfolds, \n",
    "                                             np.mean(scores),\n",
    "                                             scores[0],\n",
    "                                             scores[1],\n",
    "                                             scores[2],\n",
    "                                             scores[3],\n",
    "                                             scores[4],\n",
    "                                             scores[5],                                                \n",
    "                                             note)\n",
    "    \n",
    "    with open(\"../scores.txt\", 'a') as out_file:\n",
    "        out_file.write(out_text)\n",
    "        \n",
    "        print(\"wrote:\")\n",
    "        print(out_text)\n",
    "        print(\"to file\")"
   ]
  },
  {
   "cell_type": "markdown",
   "metadata": {},
   "source": [
    "#### Load data and light processing"
   ]
  },
  {
   "cell_type": "code",
   "execution_count": 3,
   "metadata": {
    "collapsed": true
   },
   "outputs": [],
   "source": [
    "train = pd.read_csv('../data/train.csv').fillna(' ')\n",
    "\n",
    "train_labels = train[[\"toxic\", \"severe_toxic\", \"obscene\", \"threat\", \"insult\", \"identity_hate\"]].values\n",
    "test = pd.read_csv('../data/test.csv').fillna(' ')\n",
    "\n",
    "train_text = train['comment_text']\n",
    "test_text = test['comment_text']\n",
    "all_text = pd.concat([train_text, test_text])"
   ]
  },
  {
   "cell_type": "markdown",
   "metadata": {},
   "source": [
    "#### Vectorize words from both corpora"
   ]
  },
  {
   "cell_type": "code",
   "execution_count": 4,
   "metadata": {},
   "outputs": [
    {
     "data": {
      "text/plain": [
       "TfidfVectorizer(analyzer='word', binary=False, decode_error='strict',\n",
       "        dtype=<class 'numpy.int64'>, encoding='utf-8', input='content',\n",
       "        lowercase=True, max_df=1.0, max_features=50000, min_df=1,\n",
       "        ngram_range=(1, 1), norm='l2', preprocessor=None, smooth_idf=True,\n",
       "        stop_words='english', strip_accents='unicode', sublinear_tf=True,\n",
       "        token_pattern='\\\\w{1,}', tokenizer=None, use_idf=True,\n",
       "        vocabulary=None)"
      ]
     },
     "execution_count": 4,
     "metadata": {},
     "output_type": "execute_result"
    }
   ],
   "source": [
    "word_vectorizer = TfidfVectorizer(\n",
    "    sublinear_tf=True,\n",
    "    strip_accents='unicode',\n",
    "    analyzer='word',\n",
    "    token_pattern=r'\\w{1,}',\n",
    "    stop_words='english',\n",
    "    ngram_range=(1, 1),\n",
    "    max_features=50000)    # 10k was initial\n",
    "\n",
    "word_vectorizer.fit(all_text)"
   ]
  },
  {
   "cell_type": "code",
   "execution_count": 5,
   "metadata": {},
   "outputs": [
    {
     "name": "stdout",
     "output_type": "stream",
     "text": [
      "train shape: (159571, 50000)\n",
      "test shape: (153164, 50000)\n"
     ]
    }
   ],
   "source": [
    "train_word_features = word_vectorizer.transform(train_text)\n",
    "test_word_features = word_vectorizer.transform(test_text)\n",
    "\n",
    "print(\"train shape:\", train_word_features.shape)\n",
    "print(\"test shape:\", test_word_features.shape)"
   ]
  },
  {
   "cell_type": "markdown",
   "metadata": {},
   "source": [
    "#### Make a neural net from scratch, what could possibly go wrong"
   ]
  },
  {
   "cell_type": "code",
   "execution_count": 13,
   "metadata": {
    "collapsed": true
   },
   "outputs": [],
   "source": [
    "def dnn_model(learning_rate=0.01, lr_decay=1e-6, drop_out=0.2, input_shape=(50000,)):\n",
    "    \n",
    "    DROPOUT = drop_out\n",
    "\n",
    "    # Input\n",
    "    _inputs = Input(shape=input_shape)\n",
    "\n",
    "    # Try like 5 hidden layers starting big and getting small\n",
    "    \n",
    "    # maybe try kernel_initializer='he_normal' on dense layers\n",
    "    X = Dense(256, activation=\"relu\", name=\"dense_1\")(_inputs)\n",
    "    X = BatchNormalization()(X)\n",
    "    X = Dropout(DROPOUT)(X)\n",
    "\n",
    "    X = Dense(128, activation=\"relu\", name=\"dense_2\")(X)\n",
    "    X = BatchNormalization()(X)\n",
    "    X = Dropout(DROPOUT)(X)\n",
    "\n",
    "    X = Dense(64, activation=\"relu\", name=\"dense_3\")(X)\n",
    "    X = BatchNormalization()(X)\n",
    "    X = Dropout(DROPOUT)(X)\n",
    "\n",
    "    X = Dense(32, activation=\"relu\", name=\"dense_4\")(X)\n",
    "    X = BatchNormalization()(X)\n",
    "    X = Dropout(DROPOUT)(X)\n",
    "\n",
    "    X = Dense(16, activation=\"relu\", name=\"dense_5\")(X)\n",
    "    X = BatchNormalization()(X)\n",
    "    X = Dropout(DROPOUT)(X)\n",
    "\n",
    "    _outputs = Dense(6, activation='sigmoid', name=\"output_1\")(X)\n",
    "\n",
    "    # gather model\n",
    "    model = Model(inputs=_inputs, outputs=_outputs, name=\"bad_dnn\")\n",
    "    \n",
    "    # configure optimizer\n",
    "    optimizer = Adam(lr=learning_rate, decay=lr_decay)\n",
    "    \n",
    "    # compile model\n",
    "    model.compile(loss='binary_crossentropy', optimizer=optimizer, metrics=['binary_accuracy'])\n",
    "    \n",
    "    return model\n",
    "\n",
    "def dnn_model2(learning_rate=0.01, lr_decay=1e-6, drop_out=0.2, input_shape=(50000,)):\n",
    "    \n",
    "    # take out about 10% of neurons per layer\n",
    "    \n",
    "    DROPOUT = drop_out\n",
    "\n",
    "    # Input\n",
    "    _inputs = Input(shape=input_shape)\n",
    "\n",
    "    # Try like 5 hidden layers starting big and getting small\n",
    "    \n",
    "    # maybe try kernel_initializer='he_normal' on dense layers\n",
    "    X = Dense(230, activation=\"relu\", name=\"dense_1\")(_inputs)\n",
    "    X = BatchNormalization()(X)\n",
    "    X = Dropout(DROPOUT)(X)\n",
    "\n",
    "    X = Dense(115, activation=\"relu\", name=\"dense_2\")(X)\n",
    "    X = BatchNormalization()(X)\n",
    "    X = Dropout(DROPOUT)(X)\n",
    "\n",
    "    X = Dense(58, activation=\"relu\", name=\"dense_3\")(X)\n",
    "    X = BatchNormalization()(X)\n",
    "    X = Dropout(DROPOUT)(X)\n",
    "\n",
    "    X = Dense(29, activation=\"relu\", name=\"dense_4\")(X)\n",
    "    X = BatchNormalization()(X)\n",
    "    X = Dropout(DROPOUT)(X)\n",
    "\n",
    "    X = Dense(14, activation=\"relu\", name=\"dense_5\")(X)\n",
    "    X = BatchNormalization()(X)\n",
    "    X = Dropout(DROPOUT)(X)\n",
    "\n",
    "    _outputs = Dense(6, activation='sigmoid', name=\"output_1\")(X)\n",
    "\n",
    "    # gather model\n",
    "    model = Model(inputs=_inputs, outputs=_outputs, name=\"bad_dnn\")\n",
    "    \n",
    "    # configure optimizer\n",
    "    optimizer = Adam(lr=learning_rate, decay=lr_decay)\n",
    "    \n",
    "    # compile model\n",
    "    model.compile(loss='binary_crossentropy', optimizer=optimizer, metrics=['binary_accuracy'])\n",
    "    \n",
    "    return model\n",
    "    \n",
    "# https://stackoverflow.com/questions/41032551/how-to-compute-receiving-operating-characteristic-roc-and-auc-in-keras\n",
    "class roc_callback(Callback):\n",
    "    def __init__(self,training_data,validation_data):\n",
    "        self.x = training_data[0]\n",
    "        self.y = training_data[1]\n",
    "        self.x_val = validation_data[0]\n",
    "        self.y_val = validation_data[1]\n",
    "\n",
    "\n",
    "    def on_train_begin(self, logs={}):\n",
    "        return\n",
    "\n",
    "    def on_train_end(self, logs={}):\n",
    "        return\n",
    "\n",
    "    def on_epoch_begin(self, epoch, logs={}):\n",
    "        return\n",
    "\n",
    "    def on_epoch_end(self, epoch, logs={}):\n",
    "        y_pred = self.model.predict(self.x, batch_size=1024)\n",
    "        \n",
    "        roc = roc_auc_score(self.y, y_pred)\n",
    "        y_pred_val = self.model.predict(self.x_val, batch_size=1024)\n",
    "        roc_val = roc_auc_score(self.y_val, y_pred_val)\n",
    "        print('roc-auc: %s - roc-auc_val: %s' % (str(round(roc,6)),str(round(roc_val,6))),end=100*' '+'\\n')\n",
    "        return\n",
    "\n",
    "    def on_batch_begin(self, batch, logs={}):\n",
    "        return\n",
    "\n",
    "    def on_batch_end(self, batch, logs={}):\n",
    "        return"
   ]
  },
  {
   "cell_type": "markdown",
   "metadata": {},
   "source": [
    "#### Use a single fold for experimentation since 10fold will take forever"
   ]
  },
  {
   "cell_type": "code",
   "execution_count": 10,
   "metadata": {},
   "outputs": [
    {
     "name": "stdout",
     "output_type": "stream",
     "text": [
      "(143613, 50000)\n",
      "threat\n",
      "Train on 143613 samples, validate on 15958 samples\n",
      "Epoch 1/10\n",
      "143613/143613 [==============================] - 78s 543us/step - loss: 0.1596 - binary_accuracy: 0.9418 - val_loss: 0.0672 - val_binary_accuracy: 0.9750\n",
      "roc-auc: 0.970137 - roc-auc_val: 0.956728                                                                                                    \n",
      "Epoch 2/10\n",
      "143613/143613 [==============================] - 77s 535us/step - loss: 0.0763 - binary_accuracy: 0.9726 - val_loss: 0.0623 - val_binary_accuracy: 0.9765\n",
      "roc-auc: 0.977081 - roc-auc_val: 0.963871                                                                                                    \n",
      "Epoch 3/10\n",
      "143613/143613 [==============================] - 77s 534us/step - loss: 0.0653 - binary_accuracy: 0.9767 - val_loss: 0.0613 - val_binary_accuracy: 0.9777\n",
      "roc-auc: 0.980994 - roc-auc_val: 0.967371                                                                                                    \n",
      "Epoch 4/10\n",
      "143613/143613 [==============================] - 76s 528us/step - loss: 0.0583 - binary_accuracy: 0.9789 - val_loss: 0.0656 - val_binary_accuracy: 0.9778\n",
      "roc-auc: 0.983063 - roc-auc_val: 0.967859                                                                                                    \n",
      "Epoch 5/10\n",
      "143613/143613 [==============================] - 75s 522us/step - loss: 0.0529 - binary_accuracy: 0.9808 - val_loss: 0.0672 - val_binary_accuracy: 0.9780\n",
      "roc-auc: 0.984344 - roc-auc_val: 0.967855                                                                                                    \n",
      "Epoch 6/10\n",
      "143613/143613 [==============================] - 73s 507us/step - loss: 0.0503 - binary_accuracy: 0.9817 - val_loss: 0.0702 - val_binary_accuracy: 0.9789\n",
      "roc-auc: 0.98489 - roc-auc_val: 0.967373                                                                                                    \n",
      "Epoch 7/10\n",
      "143613/143613 [==============================] - 74s 512us/step - loss: 0.0481 - binary_accuracy: 0.9824 - val_loss: 0.0754 - val_binary_accuracy: 0.9778\n",
      "roc-auc: 0.985628 - roc-auc_val: 0.967627                                                                                                    \n",
      "Epoch 8/10\n",
      "143613/143613 [==============================] - 73s 511us/step - loss: 0.0462 - binary_accuracy: 0.9829 - val_loss: 0.0724 - val_binary_accuracy: 0.9792\n",
      "roc-auc: 0.986104 - roc-auc_val: 0.967849                                                                                                    \n",
      "Epoch 9/10\n",
      "143613/143613 [==============================] - 73s 507us/step - loss: 0.0450 - binary_accuracy: 0.9832 - val_loss: 0.0759 - val_binary_accuracy: 0.9775\n",
      "roc-auc: 0.986381 - roc-auc_val: 0.967876                                                                                                    \n",
      "Epoch 10/10\n",
      "143613/143613 [==============================] - 72s 502us/step - loss: 0.0441 - binary_accuracy: 0.9836 - val_loss: 0.0734 - val_binary_accuracy: 0.9790\n",
      "roc-auc: 0.98662 - roc-auc_val: 0.966378                                                                                                    \n"
     ]
    }
   ],
   "source": [
    "\n",
    "class_names = ['toxic', 'severe_toxic', 'obscene', 'threat', 'insult', 'identity_hate']\n",
    "\n",
    "# for _class in class_names:\n",
    "x_train, x_test, y_train, y_test = train_test_split(train_word_features, \n",
    "                                                    train_labels, \n",
    "                                                    test_size=0.1, \n",
    "                                                    random_state=1337)\n",
    "\n",
    "print(x_train.shape)\n",
    "print(class_names[3])\n",
    "\n",
    "model = dnn_model(learning_rate=0.001, drop_out=0.50, input_shape=(x_train.shape[1],))\n",
    "# print(model.summary())\n",
    "\n",
    "hist = model.fit(x_train, y_train,\n",
    "                batch_size=32,\n",
    "                epochs=10,\n",
    "                verbose=1,\n",
    "                validation_data=(x_test, y_test),\n",
    "                callbacks=[roc_callback(training_data=(x_train, y_train),validation_data=(x_test, y_test))])"
   ]
  },
  {
   "cell_type": "code",
   "execution_count": 17,
   "metadata": {},
   "outputs": [
    {
     "name": "stdout",
     "output_type": "stream",
     "text": [
      "(143613, 50000)\n",
      "threat\n",
      "Train on 143613 samples, validate on 15958 samples\n",
      "Epoch 1/10\n",
      "143613/143613 [==============================] - 77s 538us/step - loss: 0.1738 - binary_accuracy: 0.9395 - val_loss: 0.0682 - val_binary_accuracy: 0.9749\n",
      "roc-auc: 0.967449 - roc-auc_val: 0.959945                                                                                                    \n",
      "Epoch 2/10\n",
      "143613/143613 [==============================] - 76s 527us/step - loss: 0.0829 - binary_accuracy: 0.9711 - val_loss: 0.0631 - val_binary_accuracy: 0.9770\n",
      "roc-auc: 0.97607 - roc-auc_val: 0.964105                                                                                                    \n",
      "Epoch 3/10\n",
      "143613/143613 [==============================] - 77s 534us/step - loss: 0.0706 - binary_accuracy: 0.9747 - val_loss: 0.0632 - val_binary_accuracy: 0.9764\n",
      "roc-auc: 0.979482 - roc-auc_val: 0.966265                                                                                                    \n",
      "Epoch 4/10\n",
      "143613/143613 [==============================] - 75s 523us/step - loss: 0.0641 - binary_accuracy: 0.9770 - val_loss: 0.0622 - val_binary_accuracy: 0.9774\n",
      "roc-auc: 0.98141 - roc-auc_val: 0.966878                                                                                                    \n",
      "Epoch 5/10\n",
      "143613/143613 [==============================] - 74s 518us/step - loss: 0.0593 - binary_accuracy: 0.9787 - val_loss: 0.0639 - val_binary_accuracy: 0.9778\n",
      "roc-auc: 0.982462 - roc-auc_val: 0.965345                                                                                                    \n",
      "Epoch 6/10\n",
      "143613/143613 [==============================] - 74s 516us/step - loss: 0.0560 - binary_accuracy: 0.9800 - val_loss: 0.0663 - val_binary_accuracy: 0.9774\n",
      "roc-auc: 0.98388 - roc-auc_val: 0.966747                                                                                                    \n",
      "Epoch 7/10\n",
      "143613/143613 [==============================] - 74s 513us/step - loss: 0.0533 - binary_accuracy: 0.9808 - val_loss: 0.0682 - val_binary_accuracy: 0.9785\n",
      "roc-auc: 0.984677 - roc-auc_val: 0.966656                                                                                                    \n",
      "Epoch 8/10\n",
      "143613/143613 [==============================] - 73s 509us/step - loss: 0.0516 - binary_accuracy: 0.9813 - val_loss: 0.0730 - val_binary_accuracy: 0.9773\n",
      "roc-auc: 0.984931 - roc-auc_val: 0.966833                                                                                                    \n",
      "Epoch 9/10\n",
      "143613/143613 [==============================] - 73s 510us/step - loss: 0.0500 - binary_accuracy: 0.9817 - val_loss: 0.0696 - val_binary_accuracy: 0.9779\n",
      "roc-auc: 0.985323 - roc-auc_val: 0.966337                                                                                                    \n",
      "Epoch 10/10\n",
      "143613/143613 [==============================] - 73s 509us/step - loss: 0.0489 - binary_accuracy: 0.9821 - val_loss: 0.0738 - val_binary_accuracy: 0.9776\n",
      "roc-auc: 0.985881 - roc-auc_val: 0.965022                                                                                                    \n"
     ]
    }
   ],
   "source": [
    "\n",
    "class_names = ['toxic', 'severe_toxic', 'obscene', 'threat', 'insult', 'identity_hate']\n",
    "\n",
    "# for _class in class_names:\n",
    "x_train, x_test, y_train, y_test = train_test_split(train_word_features, \n",
    "                                                    train_labels, \n",
    "                                                    test_size=0.1, \n",
    "                                                    random_state=1337)\n",
    "\n",
    "print(x_train.shape)\n",
    "print(class_names[3])\n",
    "\n",
    "model = dnn_model2(learning_rate=0.001, drop_out=0.55, input_shape=(x_train.shape[1],))\n",
    "# print(model.summary())\n",
    "\n",
    "hist = model.fit(x_train, y_train,\n",
    "                batch_size=32,\n",
    "                epochs=10,\n",
    "                verbose=1,\n",
    "                validation_data=(x_test, y_test),\n",
    "                callbacks=[roc_callback(training_data=(x_train, y_train),validation_data=(x_test, y_test))])"
   ]
  },
  {
   "cell_type": "code",
   "execution_count": 8,
   "metadata": {},
   "outputs": [
    {
     "name": "stdout",
     "output_type": "stream",
     "text": [
      "Threat:             00.33%\n"
     ]
    }
   ],
   "source": [
    "preds = model.predict(x_test)\n",
    "\n",
    "percent_threat = np.sum(y_test == 1) / len(y_test) * 100.0\n",
    "print(\"Threat:             {:05.2f}%\".format(percent_threat))"
   ]
  },
  {
   "cell_type": "code",
   "execution_count": 1,
   "metadata": {},
   "outputs": [
    {
     "ename": "NameError",
     "evalue": "name 'y_test' is not defined",
     "output_type": "error",
     "traceback": [
      "\u001b[0;31m---------------------------------------------------------------------------\u001b[0m",
      "\u001b[0;31mNameError\u001b[0m                                 Traceback (most recent call last)",
      "\u001b[0;32m<ipython-input-1-5a34d1e27423>\u001b[0m in \u001b[0;36m<module>\u001b[0;34m()\u001b[0m\n\u001b[0;32m----> 1\u001b[0;31m \u001b[0mprint\u001b[0m\u001b[0;34m(\u001b[0m\u001b[0my_test\u001b[0m\u001b[0;34m.\u001b[0m\u001b[0mshape\u001b[0m\u001b[0;34m)\u001b[0m\u001b[0;34m\u001b[0m\u001b[0m\n\u001b[0m\u001b[1;32m      2\u001b[0m \u001b[0mprint\u001b[0m\u001b[0;34m(\u001b[0m\u001b[0mpreds\u001b[0m\u001b[0;34m.\u001b[0m\u001b[0mshape\u001b[0m\u001b[0;34m)\u001b[0m\u001b[0;34m\u001b[0m\u001b[0m\n\u001b[1;32m      3\u001b[0m \u001b[0;34m\u001b[0m\u001b[0m\n\u001b[1;32m      4\u001b[0m \u001b[0mresult\u001b[0m \u001b[0;34m=\u001b[0m \u001b[0mroc_auc_score\u001b[0m\u001b[0;34m(\u001b[0m\u001b[0my_test\u001b[0m\u001b[0;34m,\u001b[0m \u001b[0mpreds\u001b[0m\u001b[0;34m)\u001b[0m\u001b[0;34m\u001b[0m\u001b[0m\n\u001b[1;32m      5\u001b[0m \u001b[0;34m\u001b[0m\u001b[0m\n",
      "\u001b[0;31mNameError\u001b[0m: name 'y_test' is not defined"
     ]
    }
   ],
   "source": [
    "print(y_test.shape)\n",
    "print(preds.shape)\n",
    "\n",
    "result = roc_auc_score(y_test, preds)\n",
    "\n",
    "fpr = {}\n",
    "tpr = {}\n",
    "fpr, tpr, _ = roc_curve(y_test, preds)\n",
    "roc_auc = auc(fpr, tpr)\n",
    "\n",
    "# print(fpr)\n",
    "print(result)"
   ]
  },
  {
   "cell_type": "code",
   "execution_count": 10,
   "metadata": {},
   "outputs": [
    {
     "data": {
      "text/plain": [
       "<matplotlib.legend.Legend at 0x7fa54c70c2b0>"
      ]
     },
     "execution_count": 10,
     "metadata": {},
     "output_type": "execute_result"
    },
    {
     "data": {
      "image/png": "[encoded data removed]",
      "text/plain": [
       "<matplotlib.figure.Figure at 0x7fa54c6de7b8>"
      ]
     },
     "metadata": {},
     "output_type": "display_data"
    }
   ],
   "source": [
    "fig, ax = plt.subplots(figsize=(12,12))\n",
    "\n",
    "ax.plot(fpr, tpr, color='darkorange',\n",
    "         lw=2, label='ROC curve (area = %0.4f)' % roc_auc)\n",
    "\n",
    "\n",
    "ax.plot([0, 1], [0, 1], color='navy', lw=2, linestyle='--')\n",
    "ax.set_xlim([-0.005, 1.0])\n",
    "ax.set_ylim([0.0, 1.005])\n",
    "ax.set_xlabel('False Positive Rate', size=16)\n",
    "ax.set_ylabel('True Positive Rate', size=16)\n",
    "ax.set_title('Receiver Operating Characteristic: \"threats\"', size=18)\n",
    "ax.legend(loc=\"lower right\", fontsize=16)\n",
    "# plt.show()"
   ]
  },
  {
   "cell_type": "code",
   "execution_count": 20,
   "metadata": {
    "collapsed": true
   },
   "outputs": [],
   "source": [
    "y_pred1 = model.predict(test_word_features, batch_size=1024)"
   ]
  },
  {
   "cell_type": "code",
   "execution_count": 21,
   "metadata": {},
   "outputs": [],
   "source": [
    "msubmission = pd.read_csv('../data/sample_submission.csv')\n",
    "msubmission[[\"toxic\", \"severe_toxic\", \"obscene\", \"threat\", \"insult\", \"identity_hate\"]] = y_pred1\n",
    "msubmission.to_csv('../submissions/tfidf_dnn_submission.csv.gz', index=False, compression=\"gzip\")"
   ]
  },
  {
   "cell_type": "code",
   "execution_count": 22,
   "metadata": {
    "collapsed": true
   },
   "outputs": [],
   "source": [
    "file_name_base = \"../models/dnn_model2\"\n",
    "\n",
    "model.save(file_name_base + \".h5\")\n",
    "\n",
    "# save as JSON\n",
    "json_string = model.to_json()\n",
    "json_out = file_name_base + \".json\"\n",
    "\n",
    "with open(json_out, \"w\") as outfile:\n",
    "    outfile.write(json_string)"
   ]
  },
  {
   "cell_type": "code",
   "execution_count": null,
   "metadata": {
    "collapsed": true
   },
   "outputs": [],
   "source": []
  }
 ],
 "metadata": {
  "kernelspec": {
   "display_name": "Python 3",
   "language": "python",
   "name": "python3"
  },
  "language_info": {
   "codemirror_mode": {
    "name": "ipython",
    "version": 3
   },
   "file_extension": ".py",
   "mimetype": "text/x-python",
   "name": "python",
   "nbconvert_exporter": "python",
   "pygments_lexer": "ipython3",
   "version": "3.6.3"
  }
 },
 "nbformat": 4,
 "nbformat_minor": 2
}

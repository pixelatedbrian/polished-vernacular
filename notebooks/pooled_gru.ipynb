{
 "cells": [
  {
   "cell_type": "code",
   "execution_count": 1,
   "metadata": {},
   "outputs": [
    {
     "name": "stderr",
     "output_type": "stream",
     "text": [
      "Using TensorFlow backend.\n"
     ]
    },
    {
     "name": "stdout",
     "output_type": "stream",
     "text": [
      "[name: \"/cpu:0\"\n",
      "device_type: \"CPU\"\n",
      "memory_limit: 268435456\n",
      "locality {\n",
      "}\n",
      "incarnation: 3592388204845202824\n",
      ", name: \"/gpu:0\"\n",
      "device_type: \"GPU\"\n",
      "memory_limit: 10732365415\n",
      "locality {\n",
      "  bus_id: 1\n",
      "}\n",
      "incarnation: 7002860607922522384\n",
      "physical_device_desc: \"device: 0, name: Graphics Device, pci bus id: 0000:01:00.0\"\n",
      "]\n"
     ]
    }
   ],
   "source": [
    "import numpy as np\n",
    "np.random.seed(1337)\n",
    "import pandas as pd\n",
    "\n",
    "from sklearn.model_selection import train_test_split\n",
    "from sklearn.metrics import roc_auc_score, roc_curve, auc\n",
    "\n",
    "from keras.models import Model\n",
    "from keras.layers import Input, Dense, Embedding, SpatialDropout1D, concatenate, Dropout\n",
    "from keras.layers import GRU, Bidirectional, GlobalAveragePooling1D, GlobalMaxPooling1D\n",
    "from keras.optimizers import Adam\n",
    "from keras.preprocessing import text, sequence\n",
    "from keras.callbacks import Callback\n",
    "\n",
    "import warnings\n",
    "warnings.filterwarnings('ignore')\n",
    "\n",
    "from tensorflow.python.client import device_lib\n",
    "print(device_lib.list_local_devices())\n",
    "\n",
    "import os\n",
    "os.environ['OMP_NUM_THREADS'] = '10'\n",
    "\n",
    "import matplotlib.pyplot as plt\n",
    "%matplotlib inline"
   ]
  },
  {
   "cell_type": "code",
   "execution_count": 2,
   "metadata": {
    "collapsed": true
   },
   "outputs": [],
   "source": [
    "EMBEDDING_FILE = '../../../../Downloads/fasttext/wiki.en.vec'\n",
    "\n",
    "train = pd.read_csv('../data/train.csv')\n",
    "test = pd.read_csv('../data/test.csv')\n"
   ]
  },
  {
   "cell_type": "code",
   "execution_count": 3,
   "metadata": {
    "collapsed": true
   },
   "outputs": [],
   "source": [
    "X_train = train[\"comment_text\"].fillna(\"fillna\").values\n",
    "y_train = train[[\"toxic\", \"severe_toxic\", \"obscene\", \"threat\", \"insult\", \"identity_hate\"]].values\n",
    "X_test = test[\"comment_text\"].fillna(\"fillna\").values"
   ]
  },
  {
   "cell_type": "code",
   "execution_count": 4,
   "metadata": {
    "collapsed": true
   },
   "outputs": [],
   "source": [
    "max_features = 50000\n",
    "maxlen = 200\n",
    "embed_size = 300\n",
    "\n",
    "tokenizer = text.Tokenizer(num_words=max_features)\n",
    "tokenizer.fit_on_texts(list(X_train) + list(X_test))\n",
    "X_train = tokenizer.texts_to_sequences(X_train)\n",
    "X_test = tokenizer.texts_to_sequences(X_test)\n",
    "x_train = sequence.pad_sequences(X_train, maxlen=maxlen)\n",
    "x_test = sequence.pad_sequences(X_test, maxlen=maxlen)\n"
   ]
  },
  {
   "cell_type": "code",
   "execution_count": 5,
   "metadata": {
    "collapsed": true
   },
   "outputs": [],
   "source": [
    "def get_coefs(word, *arr): return word, np.asarray(arr, dtype='float32')\n",
    "embeddings_index = dict(get_coefs(*o.rstrip().rsplit(' ')) for o in open(EMBEDDING_FILE))\n",
    "\n",
    "word_index = tokenizer.word_index\n",
    "nb_words = min(max_features, len(word_index))\n",
    "embedding_matrix = np.zeros((nb_words, embed_size))\n",
    "for word, i in word_index.items():\n",
    "    if i >= max_features: continue\n",
    "    embedding_vector = embeddings_index.get(word)\n",
    "    if embedding_vector is not None: embedding_matrix[i] = embedding_vector\n",
    "\n"
   ]
  },
  {
   "cell_type": "code",
   "execution_count": 6,
   "metadata": {
    "collapsed": true
   },
   "outputs": [],
   "source": [
    "class RocAucEvaluation(Callback):\n",
    "    def __init__(self, validation_data=(), interval=1):\n",
    "        super(Callback, self).__init__()\n",
    "\n",
    "        self.interval = interval\n",
    "        self.X_val, self.y_val = validation_data\n",
    "\n",
    "    def on_epoch_end(self, epoch, logs={}):\n",
    "        if epoch % self.interval == 0:\n",
    "            y_pred = self.model.predict(self.X_val, verbose=0)\n",
    "            score = roc_auc_score(self.y_val, y_pred)\n",
    "            print(\"\\n ROC-AUC - epoch: %d - score: %.6f \\n\" % (epoch+1, score))\n",
    "\n",
    "            \n",
    "# https://stackoverflow.com/questions/41032551/how-to-compute-receiving-operating-characteristic-roc-and-auc-in-keras\n",
    "class roc_callback(Callback):\n",
    "    def __init__(self,training_data,validation_data):\n",
    "        self.x = training_data[0]\n",
    "        self.y = training_data[1]\n",
    "        self.x_val = validation_data[0]\n",
    "        self.y_val = validation_data[1]\n",
    "\n",
    "\n",
    "    def on_train_begin(self, logs={}):\n",
    "        return\n",
    "\n",
    "    def on_train_end(self, logs={}):\n",
    "        return\n",
    "\n",
    "    def on_epoch_begin(self, epoch, logs={}):\n",
    "        return\n",
    "\n",
    "    def on_epoch_end(self, epoch, logs={}):\n",
    "        y_pred = self.model.predict(self.x, batch_size=1024)\n",
    "        \n",
    "        roc = roc_auc_score(self.y, y_pred)\n",
    "        y_pred_val = self.model.predict(self.x_val, batch_size=1024)\n",
    "        roc_val = roc_auc_score(self.y_val, y_pred_val)\n",
    "        print('\\rroc-auc: %s - roc-auc_val: %s' % (str(round(roc,6)),str(round(roc_val,6))),end=100*' '+'\\n')\n",
    "        return\n",
    "\n",
    "    def on_batch_begin(self, batch, logs={}):\n",
    "        return\n",
    "\n",
    "    def on_batch_end(self, batch, logs={}):\n",
    "        return"
   ]
  },
  {
   "cell_type": "code",
   "execution_count": 7,
   "metadata": {
    "collapsed": true
   },
   "outputs": [],
   "source": [
    "def get_model(learning_rate=0.01, lr_decay=0.00001, drop_out=0.2):\n",
    "    inp = Input(shape=(maxlen, ))\n",
    "    x = Embedding(max_features, embed_size, weights=[embedding_matrix])(inp)\n",
    "    x = SpatialDropout1D(0.2)(x)\n",
    "    x = Bidirectional(GRU(80, return_sequences=True))(x)\n",
    "    \n",
    "    # try adding some dropout\n",
    "    x = Dropout(drop_out)(x)\n",
    "    \n",
    "    avg_pool = GlobalAveragePooling1D()(x)\n",
    "    max_pool = GlobalMaxPooling1D()(x)\n",
    "    conc = concatenate([avg_pool, max_pool])\n",
    "    \n",
    "    # more dropout\n",
    "    x = Dropout(drop_out)(x)\n",
    "    outp = Dense(6, activation=\"sigmoid\")(conc)\n",
    "    \n",
    "    # configure optimizer\n",
    "    _optimizer = Adam(lr=learning_rate, decay=lr_decay)\n",
    "    \n",
    "    model = Model(inputs=inp, outputs=outp)\n",
    "    model.compile(loss='binary_crossentropy',\n",
    "                  optimizer=_optimizer,\n",
    "                  metrics=['accuracy'])\n",
    "\n",
    "    return model"
   ]
  },
  {
   "cell_type": "code",
   "execution_count": 8,
   "metadata": {
    "collapsed": true
   },
   "outputs": [],
   "source": [
    "def get_model2(learning_rate=0.001, lr_decay=0.00001, drop_out=0.2):\n",
    "    inp = Input(shape=(maxlen, ))\n",
    "    x = Embedding(max_features, embed_size, weights=[embedding_matrix])(inp)\n",
    "    x = SpatialDropout1D(0.2)(x)\n",
    "    x = Bidirectional(GRU(80, return_sequences=True))(x)\n",
    "    \n",
    "    # try adding some dropout\n",
    "    x = Dropout(drop_out)(x)\n",
    "    \n",
    "    x = Bidirectional(GRU(80, return_sequences=True))(x)\n",
    "    \n",
    "    # try adding some dropout\n",
    "    x = Dropout(drop_out)(x)\n",
    "        \n",
    "    avg_pool = GlobalAveragePooling1D()(x)\n",
    "    max_pool = GlobalMaxPooling1D()(x)\n",
    "    conc = concatenate([avg_pool, max_pool])\n",
    "    \n",
    "    # more dropout\n",
    "    x = Dropout(drop_out)(x)\n",
    "    outp = Dense(6, activation=\"sigmoid\")(conc)\n",
    "    \n",
    "    # configure optimizer\n",
    "    _optimizer = Adam(lr=learning_rate, decay=lr_decay)\n",
    "    \n",
    "    model = Model(inputs=inp, outputs=outp)\n",
    "    model.compile(loss='binary_crossentropy',\n",
    "                  optimizer=_optimizer,\n",
    "                  metrics=['accuracy'])\n",
    "\n",
    "    return model"
   ]
  },
  {
   "cell_type": "code",
   "execution_count": 9,
   "metadata": {
    "collapsed": true
   },
   "outputs": [],
   "source": [
    "def get_model3(learning_rate=0.001, lr_decay=0.00001, drop_out=0.2):\n",
    "    inp = Input(shape=(maxlen, ))\n",
    "    x = Embedding(max_features, embed_size, weights=[embedding_matrix])(inp)\n",
    "    x = SpatialDropout1D(0.2)(x)\n",
    "    x = Bidirectional(GRU(60, return_sequences=True))(x)\n",
    "        \n",
    "    x = Bidirectional(GRU(60, return_sequences=True))(x)\n",
    "        \n",
    "    avg_pool = GlobalAveragePooling1D()(x)\n",
    "    max_pool = GlobalMaxPooling1D()(x)\n",
    "    conc = concatenate([avg_pool, max_pool])\n",
    "    \n",
    "    # more dropout\n",
    "    x = Dropout(drop_out)(x)\n",
    "    outp = Dense(6, activation=\"sigmoid\")(conc)\n",
    "    \n",
    "    # configure optimizer\n",
    "    _optimizer = Adam(lr=learning_rate, decay=lr_decay)\n",
    "    \n",
    "    model = Model(inputs=inp, outputs=outp)\n",
    "    model.compile(loss='binary_crossentropy',\n",
    "                  optimizer=_optimizer,\n",
    "                  metrics=['accuracy'])\n",
    "\n",
    "    return model"
   ]
  },
  {
   "cell_type": "code",
   "execution_count": 10,
   "metadata": {
    "collapsed": true
   },
   "outputs": [],
   "source": [
    "def get_model4(learning_rate=0.001, lr_decay=0.00001, drop_out=0.2):\n",
    "    inp = Input(shape=(maxlen, ))\n",
    "    x = Embedding(max_features, embed_size, weights=[embedding_matrix])(inp)\n",
    "    x = SpatialDropout1D(drop_out)(x)\n",
    "    x = Bidirectional(GRU(80, return_sequences=True))(x)\n",
    "    \n",
    "    avg_pool = GlobalAveragePooling1D()(x)\n",
    "    max_pool = GlobalMaxPooling1D()(x)\n",
    "    conc = concatenate([avg_pool, max_pool])\n",
    "    \n",
    "    outp = Dense(6, activation=\"sigmoid\")(conc)\n",
    "    \n",
    "    # configure optimizer\n",
    "    _optimizer = Adam(lr=learning_rate, decay=lr_decay)\n",
    "    \n",
    "    model = Model(inputs=inp, outputs=outp)\n",
    "    model.compile(loss='binary_crossentropy',\n",
    "                  optimizer=_optimizer,\n",
    "                  metrics=['accuracy'])\n",
    "\n",
    "    return model"
   ]
  },
  {
   "cell_type": "code",
   "execution_count": 11,
   "metadata": {},
   "outputs": [
    {
     "name": "stdout",
     "output_type": "stream",
     "text": [
      "Train on 143613 samples, validate on 15958 samples\n",
      "Epoch 1/2\n",
      "143613/143613 [==============================] - 2239s 16ms/step - loss: 0.0484 - acc: 0.9821 - val_loss: 0.0434 - val_acc: 0.9832\n",
      "roc-auc: 0.991452 - roc-auc_val: 0.986516                                                                                                    \n",
      "Epoch 2/2\n",
      "143613/143613 [==============================] - 2249s 16ms/step - loss: 0.0367 - acc: 0.9856 - val_loss: 0.0434 - val_acc: 0.9838\n",
      "roc-auc: 0.995292 - roc-auc_val: 0.98752                                                                                                    \n"
     ]
    }
   ],
   "source": [
    "model = get_model4(learning_rate=0.001, lr_decay=0, drop_out=0.2)\n",
    "\n",
    "# dropout:  0.0    ROC AUC:  0.984483  Epochs = 2  lr_decay = 0.0001\n",
    "# dropout:  0.1    ROC AUC:  0.984710  Epochs = 3  lr_decay = 0.0001\n",
    "# dropout:  0.15   ROC AUC:  0.985498  Epochs = 3  lr_decay = 0.0001\n",
    "# dropout:  0.2    ROC AUC:  0.985565  Epochs = 3  lr_decay = 0.0\n",
    "# dropout:  0.2    ROC AUC:  0.985754  Epochs = 3  lr_decay = 0.0001\n",
    "# dropout:  0.25   ROC AUC:  0.985583  Epochs = 3  lr_decay = 0.0001\n",
    "# dropout:  0.3    ROC AUC:  0.000000  Epochs = 3  lr_decay = 0.0001\n",
    "\n",
    "\n",
    "\n",
    "# dropout:  0.2    ROC AUC:  0.985565  Epochs = 2  lr_decay = 0.0  batch=32\n",
    "# dropout:  0.2    ROC AUC:  0.986987  Epochs = 2  lr_decay = 0.0  batch=32\n",
    "\n",
    "# print(model.summary())\n",
    "\n",
    "batch_size = 16\n",
    "epochs = 2\n",
    "\n",
    "X_tra, X_val, y_tra, y_val = train_test_split(x_train, y_train, train_size=0.90, random_state=233)\n",
    "# RocAuc = RocAucEvaluation(validation_data=(X_val, y_val), interval=1)\n",
    "\n",
    "hist = model.fit(X_tra, y_tra, batch_size=batch_size, epochs=epochs, validation_data=(X_val, y_val),\n",
    "                 callbacks=[roc_callback(training_data=(X_tra, y_tra),validation_data=(X_val, y_val))],\n",
    "                 verbose=1)"
   ]
  },
  {
   "cell_type": "code",
   "execution_count": null,
   "metadata": {},
   "outputs": [
    {
     "name": "stdout",
     "output_type": "stream",
     "text": [
      "Train on 143613 samples, validate on 15958 samples\n",
      "Epoch 1/2\n",
      " 20384/143613 [===>..........................] - ETA: 31:35 - loss: 0.0703 - acc: 0.9770"
     ]
    }
   ],
   "source": [
    "model2 = get_model4(learning_rate=0.001, lr_decay=0, drop_out=0.2)\n",
    "\n",
    "# dropout:  0.0    ROC AUC:  0.984483  Epochs = 2  lr_decay = 0.0001\n",
    "# dropout:  0.1    ROC AUC:  0.984710  Epochs = 3  lr_decay = 0.0001\n",
    "# dropout:  0.15   ROC AUC:  0.985498  Epochs = 3  lr_decay = 0.0001\n",
    "# dropout:  0.2    ROC AUC:  0.985565  Epochs = 3  lr_decay = 0.0\n",
    "# dropout:  0.2    ROC AUC:  0.985754  Epochs = 3  lr_decay = 0.0001\n",
    "# dropout:  0.25   ROC AUC:  0.985583  Epochs = 3  lr_decay = 0.0001\n",
    "# dropout:  0.3    ROC AUC:  0.000000  Epochs = 3  lr_decay = 0.0001\n",
    "\n",
    "\n",
    "\n",
    "# dropout:  0.2    ROC AUC:  0.985565  Epochs = 2  lr_decay = 0.0  batch=32\n",
    "# dropout:  0.2    ROC AUC:  0.986987  Epochs = 2  lr_decay = 0.0  batch=32\n",
    "\n",
    "# print(model.summary())\n",
    "\n",
    "batch_size = 16\n",
    "epochs = 2\n",
    "\n",
    "X_tra, X_val, y_tra, y_val = train_test_split(x_train, y_train, train_size=0.90, random_state=233)\n",
    "# RocAuc = RocAucEvaluation(validation_data=(X_val, y_val), interval=1)\n",
    "\n",
    "hist = model2.fit(X_tra, y_tra, batch_size=batch_size, epochs=epochs, validation_data=(X_val, y_val),\n",
    "                 callbacks=[roc_callback(training_data=(X_tra, y_tra),validation_data=(X_val, y_val))],\n",
    "                 verbose=1)"
   ]
  },
  {
   "cell_type": "code",
   "execution_count": 107,
   "metadata": {},
   "outputs": [
    {
     "name": "stdout",
     "output_type": "stream",
     "text": [
      "Train on 143613 samples, validate on 15958 samples\n",
      "Epoch 1/10\n",
      "143613/143613 [==============================] - 89s 619us/step - loss: 0.0945 - acc: 0.9729 - val_loss: 0.0520 - val_acc: 0.9815\n",
      "\n",
      " ROC-AUC - epoch: 1 - score: 0.971172 \n",
      "\n",
      "Epoch 2/10\n",
      "143613/143613 [==============================] - 82s 570us/step - loss: 0.0460 - acc: 0.9829 - val_loss: 0.0487 - val_acc: 0.9825\n",
      "\n",
      " ROC-AUC - epoch: 2 - score: 0.975650 \n",
      "\n",
      "Epoch 3/10\n",
      "143613/143613 [==============================] - 82s 570us/step - loss: 0.0409 - acc: 0.9845 - val_loss: 0.0470 - val_acc: 0.9829\n",
      "\n",
      " ROC-AUC - epoch: 3 - score: 0.979100 \n",
      "\n",
      "Epoch 4/10\n",
      "143613/143613 [==============================] - 82s 570us/step - loss: 0.0363 - acc: 0.9860 - val_loss: 0.0476 - val_acc: 0.9828\n",
      "\n",
      " ROC-AUC - epoch: 4 - score: 0.980369 \n",
      "\n",
      "Epoch 5/10\n",
      "143613/143613 [==============================] - 82s 570us/step - loss: 0.0326 - acc: 0.9873 - val_loss: 0.0489 - val_acc: 0.9815\n",
      "\n",
      " ROC-AUC - epoch: 5 - score: 0.980582 \n",
      "\n",
      "Epoch 6/10\n",
      "143613/143613 [==============================] - 83s 576us/step - loss: 0.0290 - acc: 0.9886 - val_loss: 0.0517 - val_acc: 0.9823\n",
      "\n",
      " ROC-AUC - epoch: 6 - score: 0.980921 \n",
      "\n",
      "Epoch 7/10\n",
      "143613/143613 [==============================] - 82s 570us/step - loss: 0.0258 - acc: 0.9900 - val_loss: 0.0539 - val_acc: 0.9811\n",
      "\n",
      " ROC-AUC - epoch: 7 - score: 0.981142 \n",
      "\n",
      "Epoch 8/10\n",
      "143613/143613 [==============================] - 82s 573us/step - loss: 0.0229 - acc: 0.9911 - val_loss: 0.0584 - val_acc: 0.9815\n",
      "\n",
      " ROC-AUC - epoch: 8 - score: 0.979680 \n",
      "\n",
      "Epoch 9/10\n",
      "143613/143613 [==============================] - 83s 576us/step - loss: 0.0200 - acc: 0.9923 - val_loss: 0.0641 - val_acc: 0.9812\n",
      "\n",
      " ROC-AUC - epoch: 9 - score: 0.979572 \n",
      "\n",
      "Epoch 10/10\n",
      "143613/143613 [==============================] - 83s 575us/step - loss: 0.0175 - acc: 0.9933 - val_loss: 0.0680 - val_acc: 0.9807\n",
      "\n",
      " ROC-AUC - epoch: 10 - score: 0.978585 \n",
      "\n"
     ]
    }
   ],
   "source": [
    "model = get_model3(learning_rate=0.002, lr_decay=0.0001, drop_out=0.2)\n",
    "\n",
    "# dropout:  0.0    ROC AUC:  0.000000  Epochs = 2\n",
    "# dropout:  0.1    ROC AUC:  0.000000  Epochs = 3\n",
    "# dropout:  0.15   ROC AUC:  0.000000  Epochs = 3\n",
    "# dropout:  0.15   ROC AUC:  0.000000  Epochs = 3\n",
    "# dropout:  0.2    ROC AUC:  0.000000  Epochs = 3\n",
    "# dropout:  0.3    ROC AUC:  0.000000  Epochs = 3\n",
    "\n",
    "# lr: 0.001   ROC AUC: 0.985662 E: 3\n",
    "\n",
    "# print(model.summary())\n",
    "\n",
    "batch_size = 1024\n",
    "epochs = 10\n",
    "\n",
    "X_tra, X_val, y_tra, y_val = train_test_split(x_train, y_train, train_size=0.90, random_state=233)\n",
    "RocAuc = RocAucEvaluation(validation_data=(X_val, y_val), interval=1)\n",
    "\n",
    "hist = model.fit(X_tra, y_tra, batch_size=batch_size, epochs=epochs, validation_data=(X_val, y_val),\n",
    "                 callbacks=[RocAuc], verbose=1)\n"
   ]
  },
  {
   "cell_type": "code",
   "execution_count": null,
   "metadata": {
    "collapsed": true
   },
   "outputs": [],
   "source": []
  },
  {
   "cell_type": "code",
   "execution_count": 100,
   "metadata": {},
   "outputs": [
    {
     "name": "stdout",
     "output_type": "stream",
     "text": [
      "Train on 143613 samples, validate on 15958 samples\n",
      "Epoch 1/4\n",
      "143613/143613 [==============================] - 289s 2ms/step - loss: 0.6566 - acc: 0.7443 - val_loss: 0.6649 - val_acc: 0.7362\n",
      "\n",
      " ROC-AUC - epoch: 1 - score: 0.447866 \n",
      "\n",
      "Epoch 2/4\n",
      "143613/143613 [==============================] - 284s 2ms/step - loss: 0.6566 - acc: 0.7443 - val_loss: 0.6649 - val_acc: 0.7362\n",
      "\n",
      " ROC-AUC - epoch: 2 - score: 0.447866 \n",
      "\n",
      "Epoch 3/4\n",
      "143613/143613 [==============================] - 287s 2ms/step - loss: 0.6566 - acc: 0.7444 - val_loss: 0.6649 - val_acc: 0.7362\n",
      "\n",
      " ROC-AUC - epoch: 3 - score: 0.447866 \n",
      "\n",
      "Epoch 4/4\n",
      "143613/143613 [==============================] - 287s 2ms/step - loss: 0.6566 - acc: 0.7444 - val_loss: 0.6649 - val_acc: 0.7362\n",
      "\n",
      " ROC-AUC - epoch: 4 - score: 0.447866 \n",
      "\n"
     ]
    }
   ],
   "source": [
    "model = get_model2(learning_rate=0.001, lr_decay=0.0001, drop_out=0.2)\n",
    "\n",
    "# dropout:  0.0    ROC AUC:  0.985978  Epochs = 2\n",
    "# dropout:  0.1    ROC AUC:  0.985927  Epochs = 3\n",
    "# dropout:  0.15   ROC AUC:  0.984433  Epochs = 3\n",
    "# dropout:  0.15   ROC AUC:  0.000000  Epochs = 3\n",
    "# dropout:  0.2    ROC AUC:  0.000000  Epochs = 3\n",
    "# dropout:  0.3    ROC AUC:  0.000000  Epochs = 3\n",
    "\n",
    "\n",
    "\n",
    "# print(model.summary())\n",
    "\n",
    "batch_size = 128\n",
    "epochs = 4\n",
    "\n",
    "X_tra, X_val, y_tra, y_val = train_test_split(x_train, y_train, train_size=0.90, random_state=233)\n",
    "RocAuc = RocAucEvaluation(validation_data=(X_val, y_val), interval=1)\n",
    "\n",
    "hist = model.fit(X_tra, y_tra, batch_size=batch_size, epochs=epochs, validation_data=(X_val, y_val),\n",
    "                 callbacks=[RocAuc], verbose=1)\n"
   ]
  },
  {
   "cell_type": "code",
   "execution_count": null,
   "metadata": {
    "collapsed": true
   },
   "outputs": [],
   "source": []
  },
  {
   "cell_type": "code",
   "execution_count": 88,
   "metadata": {},
   "outputs": [
    {
     "name": "stdout",
     "output_type": "stream",
     "text": [
      "Train on 143613 samples, validate on 15958 samples\n",
      "Epoch 1/15\n",
      " - 38s - loss: 0.1377 - acc: 0.9600 - val_loss: 0.0688 - val_acc: 0.9766\n",
      "\n",
      " ROC-AUC - epoch: 1 - score: 0.951729 \n",
      "\n",
      "Epoch 2/15\n",
      " - 34s - loss: 0.0526 - acc: 0.9811 - val_loss: 0.0521 - val_acc: 0.9814\n",
      "\n",
      " ROC-AUC - epoch: 2 - score: 0.975574 \n",
      "\n",
      "Epoch 3/15\n",
      " - 34s - loss: 0.0446 - acc: 0.9835 - val_loss: 0.0488 - val_acc: 0.9823\n",
      "\n",
      " ROC-AUC - epoch: 3 - score: 0.979623 \n",
      "\n",
      "Epoch 4/15\n",
      " - 34s - loss: 0.0405 - acc: 0.9847 - val_loss: 0.0481 - val_acc: 0.9824\n",
      "\n",
      " ROC-AUC - epoch: 4 - score: 0.982585 \n",
      "\n",
      "Epoch 5/15\n",
      " - 34s - loss: 0.0373 - acc: 0.9856 - val_loss: 0.0470 - val_acc: 0.9829\n",
      "\n",
      " ROC-AUC - epoch: 5 - score: 0.982800 \n",
      "\n",
      "Epoch 6/15\n",
      " - 34s - loss: 0.0339 - acc: 0.9866 - val_loss: 0.0469 - val_acc: 0.9823\n",
      "\n",
      " ROC-AUC - epoch: 6 - score: 0.983975 \n",
      "\n",
      "Epoch 7/15\n",
      " - 34s - loss: 0.0311 - acc: 0.9878 - val_loss: 0.0482 - val_acc: 0.9824\n",
      "\n",
      " ROC-AUC - epoch: 7 - score: 0.984179 \n",
      "\n",
      "Epoch 8/15\n",
      " - 34s - loss: 0.0282 - acc: 0.9890 - val_loss: 0.0501 - val_acc: 0.9814\n",
      "\n",
      " ROC-AUC - epoch: 8 - score: 0.984095 \n",
      "\n",
      "Epoch 9/15\n",
      " - 34s - loss: 0.0254 - acc: 0.9902 - val_loss: 0.0519 - val_acc: 0.9815\n",
      "\n",
      " ROC-AUC - epoch: 9 - score: 0.982480 \n",
      "\n",
      "Epoch 10/15\n",
      " - 34s - loss: 0.0230 - acc: 0.9910 - val_loss: 0.0555 - val_acc: 0.9811\n",
      "\n",
      " ROC-AUC - epoch: 10 - score: 0.981417 \n",
      "\n",
      "Epoch 11/15\n",
      " - 35s - loss: 0.0208 - acc: 0.9920 - val_loss: 0.0585 - val_acc: 0.9802\n",
      "\n",
      " ROC-AUC - epoch: 11 - score: 0.981249 \n",
      "\n",
      "Epoch 12/15\n",
      " - 34s - loss: 0.0188 - acc: 0.9929 - val_loss: 0.0609 - val_acc: 0.9805\n",
      "\n",
      " ROC-AUC - epoch: 12 - score: 0.980045 \n",
      "\n",
      "Epoch 13/15\n",
      " - 34s - loss: 0.0166 - acc: 0.9938 - val_loss: 0.0648 - val_acc: 0.9801\n",
      "\n",
      " ROC-AUC - epoch: 13 - score: 0.980276 \n",
      "\n",
      "Epoch 14/15\n",
      " - 34s - loss: 0.0147 - acc: 0.9946 - val_loss: 0.0680 - val_acc: 0.9797\n",
      "\n",
      " ROC-AUC - epoch: 14 - score: 0.979044 \n",
      "\n",
      "Epoch 15/15\n",
      " - 34s - loss: 0.0132 - acc: 0.9952 - val_loss: 0.0722 - val_acc: 0.9792\n",
      "\n",
      " ROC-AUC - epoch: 15 - score: 0.977840 \n",
      "\n"
     ]
    }
   ],
   "source": [
    "model = get_model(learning_rate=0.0025, lr_decay=0.0001, drop_out=0.2)\n",
    "\n",
    "# print(model.summary())\n",
    "\n",
    "# LR: 0.0001\n",
    "# 128:  time ~144s ROC AUC epoch 1: 0.96\n",
    "# 256:  time ~73s  ROC AUC epoch 1: 0.90\n",
    "# 512:  time ~53s  ROC AUC epoch 1: 0.68\n",
    "# 1024: time ~40s  ROC AUC epoch 1: 0.64\n",
    "# 2048: time ~34s  ROC AUC epoch 1: 0.60\n",
    "# 4096: time ~30s  ROC AUC epoch 1: 0.55\n",
    "\n",
    "# LR: 0.001\n",
    "# 1024: time ~40s  ROC AUC epoch 1: 0.96\n",
    "# 2048: time ~35s  ROC AUC epoch 1: 0.79\n",
    "# 4096:\n",
    "#\n",
    "batch_size = 2048\n",
    "epochs = 15\n",
    "\n",
    "# lr: 0.0025    batch:  2048  lr_decay:   0\n",
    "\n",
    "X_tra, X_val, y_tra, y_val = train_test_split(x_train, y_train, train_size=0.90, random_state=233)\n",
    "RocAuc = RocAucEvaluation(validation_data=(X_val, y_val), interval=1)\n",
    "\n",
    "hist = model.fit(X_tra, y_tra, batch_size=batch_size, epochs=epochs, validation_data=(X_val, y_val),\n",
    "                 callbacks=[RocAuc], verbose=2)"
   ]
  },
  {
   "cell_type": "code",
   "execution_count": 131,
   "metadata": {
    "collapsed": true
   },
   "outputs": [],
   "source": [
    "y_pred = model.predict(x_test, batch_size=1024)"
   ]
  },
  {
   "cell_type": "code",
   "execution_count": 133,
   "metadata": {
    "collapsed": true
   },
   "outputs": [],
   "source": [
    "file_name_base = \"../models/model4_pooled_gru_lb0918\"\n",
    "\n",
    "model.save(file_name_base + \".h5\")\n",
    "\n",
    "# save as JSON\n",
    "json_string = model.to_json()\n",
    "json_out = file_name_base + \".json\"\n",
    "\n",
    "with open(json_out, \"w\") as outfile:\n",
    "    outfile.write(json_string)"
   ]
  },
  {
   "cell_type": "code",
   "execution_count": 132,
   "metadata": {
    "collapsed": true
   },
   "outputs": [],
   "source": [
    "submission = pd.read_csv('../data/sample_submission.csv')\n",
    "submission[[\"toxic\", \"severe_toxic\", \"obscene\", \"threat\", \"insult\", \"identity_hate\"]] = y_pred\n",
    "submission.to_csv('../submissions/more_features_pooled_gru_fasttext_submission.csv.gz', index=False, compression=\"gzip\")"
   ]
  },
  {
   "cell_type": "code",
   "execution_count": 45,
   "metadata": {},
   "outputs": [
    {
     "data": {
      "text/html": [
       "<div>\n",
       "<style>\n",
       "    .dataframe thead tr:only-child th {\n",
       "        text-align: right;\n",
       "    }\n",
       "\n",
       "    .dataframe thead th {\n",
       "        text-align: left;\n",
       "    }\n",
       "\n",
       "    .dataframe tbody tr th {\n",
       "        vertical-align: top;\n",
       "    }\n",
       "</style>\n",
       "<table border=\"1\" class=\"dataframe\">\n",
       "  <thead>\n",
       "    <tr style=\"text-align: right;\">\n",
       "      <th></th>\n",
       "      <th>id</th>\n",
       "      <th>toxic</th>\n",
       "      <th>severe_toxic</th>\n",
       "      <th>obscene</th>\n",
       "      <th>threat</th>\n",
       "      <th>insult</th>\n",
       "      <th>identity_hate</th>\n",
       "    </tr>\n",
       "  </thead>\n",
       "  <tbody>\n",
       "    <tr>\n",
       "      <th>0</th>\n",
       "      <td>00001cee341fdb12</td>\n",
       "      <td>0.998338</td>\n",
       "      <td>0.594204</td>\n",
       "      <td>0.982572</td>\n",
       "      <td>0.049009</td>\n",
       "      <td>0.965495</td>\n",
       "      <td>0.469954</td>\n",
       "    </tr>\n",
       "    <tr>\n",
       "      <th>1</th>\n",
       "      <td>0000247867823ef7</td>\n",
       "      <td>0.000130</td>\n",
       "      <td>0.000009</td>\n",
       "      <td>0.000050</td>\n",
       "      <td>0.000002</td>\n",
       "      <td>0.000030</td>\n",
       "      <td>0.000006</td>\n",
       "    </tr>\n",
       "    <tr>\n",
       "      <th>2</th>\n",
       "      <td>00013b17ad220c46</td>\n",
       "      <td>0.001258</td>\n",
       "      <td>0.000106</td>\n",
       "      <td>0.000626</td>\n",
       "      <td>0.000032</td>\n",
       "      <td>0.000592</td>\n",
       "      <td>0.000047</td>\n",
       "    </tr>\n",
       "    <tr>\n",
       "      <th>3</th>\n",
       "      <td>00017563c3f7919a</td>\n",
       "      <td>0.000379</td>\n",
       "      <td>0.000012</td>\n",
       "      <td>0.000097</td>\n",
       "      <td>0.000012</td>\n",
       "      <td>0.000144</td>\n",
       "      <td>0.000007</td>\n",
       "    </tr>\n",
       "    <tr>\n",
       "      <th>4</th>\n",
       "      <td>00017695ad8997eb</td>\n",
       "      <td>0.003696</td>\n",
       "      <td>0.000072</td>\n",
       "      <td>0.000598</td>\n",
       "      <td>0.000031</td>\n",
       "      <td>0.000433</td>\n",
       "      <td>0.000061</td>\n",
       "    </tr>\n",
       "  </tbody>\n",
       "</table>\n",
       "</div>"
      ],
      "text/plain": [
       "                 id     toxic  severe_toxic   obscene    threat    insult  \\\n",
       "0  00001cee341fdb12  0.998338      0.594204  0.982572  0.049009  0.965495   \n",
       "1  0000247867823ef7  0.000130      0.000009  0.000050  0.000002  0.000030   \n",
       "2  00013b17ad220c46  0.001258      0.000106  0.000626  0.000032  0.000592   \n",
       "3  00017563c3f7919a  0.000379      0.000012  0.000097  0.000012  0.000144   \n",
       "4  00017695ad8997eb  0.003696      0.000072  0.000598  0.000031  0.000433   \n",
       "\n",
       "   identity_hate  \n",
       "0       0.469954  \n",
       "1       0.000006  \n",
       "2       0.000047  \n",
       "3       0.000007  \n",
       "4       0.000061  "
      ]
     },
     "execution_count": 45,
     "metadata": {},
     "output_type": "execute_result"
    }
   ],
   "source": [
    "submission.head()"
   ]
  },
  {
   "cell_type": "markdown",
   "metadata": {},
   "source": [
    "#### Create a generic sample submission to be overwritten by the above"
   ]
  },
  {
   "cell_type": "code",
   "execution_count": 38,
   "metadata": {
    "collapsed": true
   },
   "outputs": [],
   "source": [
    "sample_submission = test\n",
    "for _class in [\"toxic\", \"severe_toxic\", \"obscene\", \"threat\", \"insult\", \"identity_hate\"]:\n",
    "    sample_submission[_class] = 0"
   ]
  },
  {
   "cell_type": "code",
   "execution_count": 42,
   "metadata": {},
   "outputs": [
    {
     "name": "stdout",
     "output_type": "stream",
     "text": [
      "Index(['id', 'comment_text', 'toxic', 'severe_toxic', 'obscene', 'threat',\n",
      "       'insult', 'identity_hate'],\n",
      "      dtype='object')\n"
     ]
    },
    {
     "data": {
      "text/html": [
       "<div>\n",
       "<style>\n",
       "    .dataframe thead tr:only-child th {\n",
       "        text-align: right;\n",
       "    }\n",
       "\n",
       "    .dataframe thead th {\n",
       "        text-align: left;\n",
       "    }\n",
       "\n",
       "    .dataframe tbody tr th {\n",
       "        vertical-align: top;\n",
       "    }\n",
       "</style>\n",
       "<table border=\"1\" class=\"dataframe\">\n",
       "  <thead>\n",
       "    <tr style=\"text-align: right;\">\n",
       "      <th></th>\n",
       "      <th>id</th>\n",
       "      <th>toxic</th>\n",
       "      <th>severe_toxic</th>\n",
       "      <th>obscene</th>\n",
       "      <th>threat</th>\n",
       "      <th>insult</th>\n",
       "      <th>identity_hate</th>\n",
       "    </tr>\n",
       "  </thead>\n",
       "  <tbody>\n",
       "    <tr>\n",
       "      <th>0</th>\n",
       "      <td>00001cee341fdb12</td>\n",
       "      <td>0</td>\n",
       "      <td>0</td>\n",
       "      <td>0</td>\n",
       "      <td>0</td>\n",
       "      <td>0</td>\n",
       "      <td>0</td>\n",
       "    </tr>\n",
       "    <tr>\n",
       "      <th>1</th>\n",
       "      <td>0000247867823ef7</td>\n",
       "      <td>0</td>\n",
       "      <td>0</td>\n",
       "      <td>0</td>\n",
       "      <td>0</td>\n",
       "      <td>0</td>\n",
       "      <td>0</td>\n",
       "    </tr>\n",
       "    <tr>\n",
       "      <th>2</th>\n",
       "      <td>00013b17ad220c46</td>\n",
       "      <td>0</td>\n",
       "      <td>0</td>\n",
       "      <td>0</td>\n",
       "      <td>0</td>\n",
       "      <td>0</td>\n",
       "      <td>0</td>\n",
       "    </tr>\n",
       "    <tr>\n",
       "      <th>3</th>\n",
       "      <td>00017563c3f7919a</td>\n",
       "      <td>0</td>\n",
       "      <td>0</td>\n",
       "      <td>0</td>\n",
       "      <td>0</td>\n",
       "      <td>0</td>\n",
       "      <td>0</td>\n",
       "    </tr>\n",
       "    <tr>\n",
       "      <th>4</th>\n",
       "      <td>00017695ad8997eb</td>\n",
       "      <td>0</td>\n",
       "      <td>0</td>\n",
       "      <td>0</td>\n",
       "      <td>0</td>\n",
       "      <td>0</td>\n",
       "      <td>0</td>\n",
       "    </tr>\n",
       "  </tbody>\n",
       "</table>\n",
       "</div>"
      ],
      "text/plain": [
       "                 id  toxic  severe_toxic  obscene  threat  insult  \\\n",
       "0  00001cee341fdb12      0             0        0       0       0   \n",
       "1  0000247867823ef7      0             0        0       0       0   \n",
       "2  00013b17ad220c46      0             0        0       0       0   \n",
       "3  00017563c3f7919a      0             0        0       0       0   \n",
       "4  00017695ad8997eb      0             0        0       0       0   \n",
       "\n",
       "   identity_hate  \n",
       "0              0  \n",
       "1              0  \n",
       "2              0  \n",
       "3              0  \n",
       "4              0  "
      ]
     },
     "execution_count": 42,
     "metadata": {},
     "output_type": "execute_result"
    }
   ],
   "source": [
    "print(sample_submission.keys())\n",
    "\n",
    "sample_submission = sample_submission.drop([\"comment_text\"], axis=1)\n",
    "sample_submission.head()"
   ]
  },
  {
   "cell_type": "code",
   "execution_count": 43,
   "metadata": {
    "collapsed": true
   },
   "outputs": [],
   "source": [
    "sample_submission.to_csv(\"../data/sample_submission.csv\", index_label=False)"
   ]
  },
  {
   "cell_type": "code",
   "execution_count": 51,
   "metadata": {},
   "outputs": [
    {
     "data": {
      "text/plain": [
       "14.965784284662087"
      ]
     },
     "execution_count": 51,
     "metadata": {},
     "output_type": "execute_result"
    }
   ],
   "source": [
    "np.log2(32000)"
   ]
  },
  {
   "cell_type": "markdown",
   "metadata": {},
   "source": [
    "#### Plot an ROC for the model"
   ]
  },
  {
   "cell_type": "code",
   "execution_count": 138,
   "metadata": {
    "collapsed": true
   },
   "outputs": [],
   "source": [
    "val_preds = model.predict(X_val)"
   ]
  },
  {
   "cell_type": "code",
   "execution_count": 159,
   "metadata": {},
   "outputs": [
    {
     "name": "stdout",
     "output_type": "stream",
     "text": [
      "0.980406455421\n",
      "0.991695505426\n",
      "0.991088928796\n",
      "0.996982941676\n",
      "0.984796811652\n",
      "0.982311295898\n"
     ]
    },
    {
     "data": {
      "image/png": "[encoded data removed]",
      "text/plain": [
       "<matplotlib.figure.Figure at 0x7f1576a56fd0>"
      ]
     },
     "metadata": {},
     "output_type": "display_data"
    }
   ],
   "source": [
    "c_names = [\"toxic\", \"severe_toxic\", \"obscene\", \"theat\", \"insult\", \"identity_hate\"]\n",
    "\n",
    "fig, axs = plt.subplots(2, 3, figsize=(18,12))\n",
    "\n",
    "fig.set_facecolor(\"white\")\n",
    "\n",
    "for _c in range(6):\n",
    "    class_index = _c\n",
    "    class_name = c_names[_c]\n",
    "\n",
    "    result = roc_auc_score(y_val[:, class_index], val_preds[:, class_index])\n",
    "\n",
    "    fpr = {}\n",
    "    tpr = {}\n",
    "    fpr, tpr, _ = roc_curve(y_val[:, class_index], val_preds[:, class_index])\n",
    "    roc_auc = auc(fpr, tpr)\n",
    "\n",
    "    # print(fpr)\n",
    "    print(result)\n",
    "\n",
    "    ax = axs.flatten()[_c]\n",
    "\n",
    "    ax.plot(fpr, tpr, color='darkorange',\n",
    "             lw=2, label='ROC curve (area = %0.4f)' % roc_auc)\n",
    "\n",
    "\n",
    "    ax.plot([0, 1], [0, 1], color='navy', lw=2, linestyle='--')\n",
    "    ax.set_xlim([-0.005, 1.0])\n",
    "    ax.set_ylim([0.0, 1.005])\n",
    "    ax.set_xlabel('False Positive Rate', size=12)\n",
    "    ax.set_ylabel('True Positive Rate', size=12)\n",
    "    ax.set_title('Receiver Operating Characteristic: ' + class_name, size=14)\n",
    "    ax.legend(loc=\"lower right\", fontsize=12)\n",
    "    # plt.show()"
   ]
  },
  {
   "cell_type": "code",
   "execution_count": null,
   "metadata": {
    "collapsed": true
   },
   "outputs": [],
   "source": []
  }
 ],
 "metadata": {
  "kernelspec": {
   "display_name": "Python 3",
   "language": "python",
   "name": "python3"
  },
  "language_info": {
   "codemirror_mode": {
    "name": "ipython",
    "version": 3
   },
   "file_extension": ".py",
   "mimetype": "text/x-python",
   "name": "python",
   "nbconvert_exporter": "python",
   "pygments_lexer": "ipython3",
   "version": "3.6.3"
  }
 },
 "nbformat": 4,
 "nbformat_minor": 2
}

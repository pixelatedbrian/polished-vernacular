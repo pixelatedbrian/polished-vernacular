{
 "cells": [
  {
   "cell_type": "code",
   "execution_count": 1,
   "metadata": {
    "collapsed": true
   },
   "outputs": [],
   "source": [
    "import pandas as pd\n",
    "import numpy as np\n",
    "import matplotlib.pyplot as plt\n",
    "%matplotlib inline"
   ]
  },
  {
   "cell_type": "code",
   "execution_count": 2,
   "metadata": {
    "collapsed": true
   },
   "outputs": [],
   "source": [
    "train = pd.read_csv(\"../data/train.csv\")"
   ]
  },
  {
   "cell_type": "code",
   "execution_count": 3,
   "metadata": {},
   "outputs": [
    {
     "name": "stdout",
     "output_type": "stream",
     "text": [
      "<class 'pandas.core.frame.DataFrame'>\n",
      "RangeIndex: 159571 entries, 0 to 159570\n",
      "Data columns (total 8 columns):\n",
      "id               159571 non-null object\n",
      "comment_text     159571 non-null object\n",
      "toxic            159571 non-null int64\n",
      "severe_toxic     159571 non-null int64\n",
      "obscene          159571 non-null int64\n",
      "threat           159571 non-null int64\n",
      "insult           159571 non-null int64\n",
      "identity_hate    159571 non-null int64\n",
      "dtypes: int64(6), object(2)\n",
      "memory usage: 9.7+ MB\n"
     ]
    }
   ],
   "source": [
    "train.info()"
   ]
  },
  {
   "cell_type": "code",
   "execution_count": 4,
   "metadata": {},
   "outputs": [
    {
     "data": {
      "text/html": [
       "<div>\n",
       "<style scoped>\n",
       "    .dataframe tbody tr th:only-of-type {\n",
       "        vertical-align: middle;\n",
       "    }\n",
       "\n",
       "    .dataframe tbody tr th {\n",
       "        vertical-align: top;\n",
       "    }\n",
       "\n",
       "    .dataframe thead th {\n",
       "        text-align: right;\n",
       "    }\n",
       "</style>\n",
       "<table border=\"1\" class=\"dataframe\">\n",
       "  <thead>\n",
       "    <tr style=\"text-align: right;\">\n",
       "      <th></th>\n",
       "      <th>id</th>\n",
       "      <th>comment_text</th>\n",
       "      <th>toxic</th>\n",
       "      <th>severe_toxic</th>\n",
       "      <th>obscene</th>\n",
       "      <th>threat</th>\n",
       "      <th>insult</th>\n",
       "      <th>identity_hate</th>\n",
       "    </tr>\n",
       "  </thead>\n",
       "  <tbody>\n",
       "    <tr>\n",
       "      <th>0</th>\n",
       "      <td>0000997932d777bf</td>\n",
       "      <td>Explanation\\nWhy the edits made under my usern...</td>\n",
       "      <td>0</td>\n",
       "      <td>0</td>\n",
       "      <td>0</td>\n",
       "      <td>0</td>\n",
       "      <td>0</td>\n",
       "      <td>0</td>\n",
       "    </tr>\n",
       "    <tr>\n",
       "      <th>1</th>\n",
       "      <td>000103f0d9cfb60f</td>\n",
       "      <td>D'aww! He matches this background colour I'm s...</td>\n",
       "      <td>0</td>\n",
       "      <td>0</td>\n",
       "      <td>0</td>\n",
       "      <td>0</td>\n",
       "      <td>0</td>\n",
       "      <td>0</td>\n",
       "    </tr>\n",
       "    <tr>\n",
       "      <th>2</th>\n",
       "      <td>000113f07ec002fd</td>\n",
       "      <td>Hey man, I'm really not trying to edit war. It...</td>\n",
       "      <td>0</td>\n",
       "      <td>0</td>\n",
       "      <td>0</td>\n",
       "      <td>0</td>\n",
       "      <td>0</td>\n",
       "      <td>0</td>\n",
       "    </tr>\n",
       "    <tr>\n",
       "      <th>3</th>\n",
       "      <td>0001b41b1c6bb37e</td>\n",
       "      <td>\"\\nMore\\nI can't make any real suggestions on ...</td>\n",
       "      <td>0</td>\n",
       "      <td>0</td>\n",
       "      <td>0</td>\n",
       "      <td>0</td>\n",
       "      <td>0</td>\n",
       "      <td>0</td>\n",
       "    </tr>\n",
       "    <tr>\n",
       "      <th>4</th>\n",
       "      <td>0001d958c54c6e35</td>\n",
       "      <td>You, sir, are my hero. Any chance you remember...</td>\n",
       "      <td>0</td>\n",
       "      <td>0</td>\n",
       "      <td>0</td>\n",
       "      <td>0</td>\n",
       "      <td>0</td>\n",
       "      <td>0</td>\n",
       "    </tr>\n",
       "  </tbody>\n",
       "</table>\n",
       "</div>"
      ],
      "text/plain": [
       "                 id                                       comment_text  toxic  \\\n",
       "0  0000997932d777bf  Explanation\\nWhy the edits made under my usern...      0   \n",
       "1  000103f0d9cfb60f  D'aww! He matches this background colour I'm s...      0   \n",
       "2  000113f07ec002fd  Hey man, I'm really not trying to edit war. It...      0   \n",
       "3  0001b41b1c6bb37e  \"\\nMore\\nI can't make any real suggestions on ...      0   \n",
       "4  0001d958c54c6e35  You, sir, are my hero. Any chance you remember...      0   \n",
       "\n",
       "   severe_toxic  obscene  threat  insult  identity_hate  \n",
       "0             0        0       0       0              0  \n",
       "1             0        0       0       0              0  \n",
       "2             0        0       0       0              0  \n",
       "3             0        0       0       0              0  \n",
       "4             0        0       0       0              0  "
      ]
     },
     "execution_count": 4,
     "metadata": {},
     "output_type": "execute_result"
    }
   ],
   "source": [
    "train.head()"
   ]
  },
  {
   "cell_type": "code",
   "execution_count": 46,
   "metadata": {},
   "outputs": [
    {
     "name": "stdout",
     "output_type": "stream",
     "text": [
      "Percent of all comments:\n",
      "Toxic:              09.58%\n",
      "Severe Toxic:       01.00%\n",
      "Obscene:            05.29%\n",
      "Threat:             00.30%\n",
      "Insult:             04.94%\n",
      "Identity Hate:      00.88%\n"
     ]
    }
   ],
   "source": [
    "print(\"Percent of all comments:\")\n",
    "\n",
    "# how many comments are toxic?\n",
    "percent_toxic = np.sum(train[\"toxic\"] == 1) / len(train) * 100.0\n",
    "print(\"Toxic:              {:05.2f}%\".format(percent_toxic))\n",
    "\n",
    "percent_severe_toxic = np.sum(train[\"severe_toxic\"] == 1) / len(train) * 100.0\n",
    "print(\"Severe Toxic:       {:05.2f}%\".format(percent_severe_toxic))\n",
    "\n",
    "percent_obscene = np.sum(train[\"obscene\"] == 1) / len(train) * 100.0\n",
    "print(\"Obscene:            {:05.2f}%\".format(percent_obscene))\n",
    "\n",
    "percent_threat = np.sum(train[\"threat\"] == 1) / len(train) * 100.0\n",
    "print(\"Threat:             {:05.2f}%\".format(percent_threat))\n",
    "\n",
    "percent_insult = np.sum(train[\"insult\"] == 1) / len(train) * 100.0\n",
    "print(\"Insult:             {:05.2f}%\".format(percent_insult))\n",
    "\n",
    "percent_identity_hate = np.sum(train[\"identity_hate\"] == 1) / len(train) * 100.0\n",
    "print(\"Identity Hate:      {:05.2f}%\".format(percent_identity_hate))"
   ]
  },
  {
   "cell_type": "markdown",
   "metadata": {},
   "source": [
    "#### Look more closely at some 'Threat' comments to see if there's something obvious going on (since that's the smallest cohort of the classes)"
   ]
  },
  {
   "cell_type": "code",
   "execution_count": 56,
   "metadata": {},
   "outputs": [
    {
     "name": "stdout",
     "output_type": "stream",
     "text": [
      "Hi! I am back again!\n",
      "Last warning!\n",
      "Stop undoing my edits or die!\n",
      ">>>>>>>>>>>>>>>>>>>>>>>>>>>>>>>>>>>>>>>>>>>>>>>>>>>>>>>>>>>>>>>>>>>>>>>>>>>>>>\n",
      "I think that your a Fagget get a oife and burn in Hell I hate you 'm sorry we cant have any more sex i'm running out of conndoms\n",
      ">>>>>>>>>>>>>>>>>>>>>>>>>>>>>>>>>>>>>>>>>>>>>>>>>>>>>>>>>>>>>>>>>>>>>>>>>>>>>>\n",
      "I'm also a sock puppet of this account...SUPRISE!!\n",
      "-sincerely,\n",
      "            The man that will track you down from the Internet and kill you\n",
      ">>>>>>>>>>>>>>>>>>>>>>>>>>>>>>>>>>>>>>>>>>>>>>>>>>>>>>>>>>>>>>>>>>>>>>>>>>>>>>\n",
      "Fuck you, Smith. Please have me notified when you die. I want to dance on your grave.\n",
      ">>>>>>>>>>>>>>>>>>>>>>>>>>>>>>>>>>>>>>>>>>>>>>>>>>>>>>>>>>>>>>>>>>>>>>>>>>>>>>\n",
      "WOULDN'T BE THE FIRST TIME BITCH. FUCK YOU I'LL FIND OUT WHERE YOU LIVE, SODOMIZE YOUR WIFE AND THEN BURN YOUR HOUSE DOWN. FUCK YOU YOU FUCKING QUEER.\n",
      ">>>>>>>>>>>>>>>>>>>>>>>>>>>>>>>>>>>>>>>>>>>>>>>>>>>>>>>>>>>>>>>>>>>>>>>>>>>>>>\n",
      "Whoever put a notices on my page. I will kill u\n",
      ">>>>>>>>>>>>>>>>>>>>>>>>>>>>>>>>>>>>>>>>>>>>>>>>>>>>>>>>>>>>>>>>>>>>>>>>>>>>>>\n",
      "SHUT UP, YOU FAT POOP, OR I WILL KICK YOUR ASS!!!\n",
      ">>>>>>>>>>>>>>>>>>>>>>>>>>>>>>>>>>>>>>>>>>>>>>>>>>>>>>>>>>>>>>>>>>>>>>>>>>>>>>\n",
      "Demonte Morton \n",
      "\n",
      "U bastard stop deletin' my shit u white trash cracker muthafucker. Fuck u u racist bitch. I hope u die.\n",
      ">>>>>>>>>>>>>>>>>>>>>>>>>>>>>>>>>>>>>>>>>>>>>>>>>>>>>>>>>>>>>>>>>>>>>>>>>>>>>>\n",
      "Aaron Swartz \n",
      "\n",
      "Stop fucking reverting my goddamn edits!!! I think Aaron Swartz is a dumb-ass, and he should have been\n",
      "killed a long time ago.  I know where you live; I WILL KILL YOU IF YOU REVERT ANY MORE PAGES!!!!!\n",
      ">>>>>>>>>>>>>>>>>>>>>>>>>>>>>>>>>>>>>>>>>>>>>>>>>>>>>>>>>>>>>>>>>>>>>>>>>>>>>>\n",
      "You are a gay homo. I hope you choke on your penis and die. I am sending a big bleck guy to jizz in your face.\n",
      ">>>>>>>>>>>>>>>>>>>>>>>>>>>>>>>>>>>>>>>>>>>>>>>>>>>>>>>>>>>>>>>>>>>>>>>>>>>>>>\n",
      "Go kill yourself \n",
      "\n",
      "You should be ashamed of yourself. Twoofers like you are scumbags that deserve to die. You anti-scientific assholes are destroying America.\n",
      ">>>>>>>>>>>>>>>>>>>>>>>>>>>>>>>>>>>>>>>>>>>>>>>>>>>>>>>>>>>>>>>>>>>>>>>>>>>>>>\n",
      "important \n",
      "\n",
      "you and your family shall burn! you have been warned, if you do troll muzemikes talk page i will slaughter you in your sleep. bye...\n",
      ">>>>>>>>>>>>>>>>>>>>>>>>>>>>>>>>>>>>>>>>>>>>>>>>>>>>>>>>>>>>>>>>>>>>>>>>>>>>>>\n",
      "go to  die \n",
      "\n",
      "son of  bich\n",
      ">>>>>>>>>>>>>>>>>>>>>>>>>>>>>>>>>>>>>>>>>>>>>>>>>>>>>>>>>>>>>>>>>>>>>>>>>>>>>>\n",
      "WHAT'S WRONG WITH YOU?\n",
      "GO KILL YOURSELF, YOU VILE CREATURE!!!!!!!!!!!\n",
      ">>>>>>>>>>>>>>>>>>>>>>>>>>>>>>>>>>>>>>>>>>>>>>>>>>>>>>>>>>>>>>>>>>>>>>>>>>>>>>\n",
      "mothafucka! \n",
      "\n",
      "You son of a bitch, shup up!\n",
      "\n",
      "otherwise I will kill you!\n",
      ">>>>>>>>>>>>>>>>>>>>>>>>>>>>>>>>>>>>>>>>>>>>>>>>>>>>>>>>>>>>>>>>>>>>>>>>>>>>>>\n",
      "Please stop. If you continue to ignore our policies by introducing inappropriate pages to Wikipedia, you will be blocked.\n",
      ">>>>>>>>>>>>>>>>>>>>>>>>>>>>>>>>>>>>>>>>>>>>>>>>>>>>>>>>>>>>>>>>>>>>>>>>>>>>>>\n",
      "Last warning, Mark! Anymore defiant arguments and I will be subduing you with my merciless wrath!\n",
      ">>>>>>>>>>>>>>>>>>>>>>>>>>>>>>>>>>>>>>>>>>>>>>>>>>>>>>>>>>>>>>>>>>>>>>>>>>>>>>\n",
      "do go fuck off bastard\n",
      "Do Yyou Have a life?\n",
      "go fuck off bastard and yank your cock through your ass. I hate you and hope you go away forever. lame is you fuck your mom. die die die and all that crap. this is for mahy mahonerz\n",
      "ass. I ass. I ass. I ass. I ass. I ass. I ass. I ass. I ass. I ass. I ass. I ass. I ass. I ass. I ass. I ass. I ass. I ass. I ass. I ass. I ass. I ass. I ass. I ass. I ass. I ass. I ass. I ass. I ass. I ass. I ass. I ass. I ass. I ass. I ass. I ass. I ass. I ass. I ass. I ass. I ass. I ass. I ass. I ass. I ass. I ass. I ass. I ass. I ass. I ass. I ass. I ass. I ass. I ass. I ass. I ass. I ass. I ass. I ass. I ass. I ass. I ass. I ass. I ass. I ass. I ass. I ass. I ass. I ass. I ass. I ass. I ass. I ass. I ass. I ass. I ass. I ass. I ass. I ass. I ass. I ass. I ass. I ass. I ass. I ass. I ass. I ass. I ass. I ass. I ass. I ass. I ass. I ass. I ass. I ass. I ass. I ass. I ass. I ass. I ass. I ass. I ass. I ass. I ass. I ass. I ass. I ass. I ass. I ass. I ass. I ass. I ass. I ass. I ass. I ass. I ass. I ass. I ass. I ass. I ass. I ass. I ass. I ass. I ass. I ass. I ass. I ass. I ass. I ass. I ass. I ass. I ass. I ass. I ass. I ass. I ass. I ass. I ass. I ass. I ass. I ass. I ass. I ass. I ass. I ass. I ass. I ass. I ass. I ass. I ass. I ass. I ass. I ass. I ass. I ass. I ass. I ass. I ass. I ass. I ass. I ass. I ass. I ass. I ass. I ass. I ass. I ass. I ass. I ass. I ass. I ass. I ass. I ass. I ass. I ass. I ass. I ass. I ass. I ass. I ass. I ass. I ass. I ass. I ass. I ass. I ass. I ass. I ass. I ass. I ass. I ass. I ass. I ass. I ass. I ass. I ass. I ass. I ass. I ass. I ass. I ass. I ass. I ass. I ass. I ass. I ass. I ass. I ass. I ass. I ass. I ass. I ass. I ass. I ass. I ass. I ass. I ass. I ass. I ass. I ass. I ass. I ass. I ass. I ass. I ass. I ass. I ass. I ass. I ass. I ass. I ass. I ass. I ass. I ass. I ass. I ass. I ass. I ass. I ass. I ass. I ass. I ass. I ass. I ass. I ass. I ass. I ass. I ass. I ass. I ass. I ass. I ass. I ass. I ass. I ass. I ass. I ass. I ass. I ass. I ass. I ass. I ass. I ass. I ass. I ass. I ass. I ass. I ass. I ass. I ass. I ass. I ass. I ass. I ass. I ass. I ass. I ass. I ass. I ass. I ass. I ass. I ass. I ass. I ass. I ass. I ass. I ass. I ass. I ass. I ass. I ass. I ass. I ass. I ass. I ass. I ass. I ass. I ass. I ass. I ass. I ass. I ass. I ass. I ass. I ass. I ass. I ass. I ass. I ass. I ass. I ass. I ass. I ass. I ass. I ass. I ass. I ass. I ass. I ass. I ass. I ass. I ass. I ass. I ass. I ass. I ass. I ass. I ass. I ass. I ass. I ass. I ass. I ass. I ass. I ass. I ass. I ass. I ass. I ass. I ass. I ass. I ass. I ass. I ass. I ass. I ass. I ass. I ass. I ass. I ass. I ass. I ass. I ass. I ass. I ass. I ass. I ass. I ass. I ass. I ass. I ass. I ass. I ass. I ass. I ass. I ass. I ass. I ass. I ass. I ass. I ass. I ass. I ass. I ass. I ass. I ass. I ass. I ass. I ass. I ass. I ass. I ass. I ass. I ass. I ass. I ass. I ass. I ass. I ass. I ass. I ass. I ass. I ass. I ass. I ass. I ass. I ass. I ass. I ass. I ass. I ass. I ass. I ass. I ass. I ass. I ass. I ass. I ass. I ass. I ass. I ass. I ass. I ass. I ass. I ass. I ass. I ass. I ass. I ass. I ass. I ass. I ass. I ass. I ass. I ass. I ass. I ass. I ass. I ass. I ass. I ass. I ass. I ass. I ass. I ass. I ass. I ass. I ass. I ass. I ass. I ass. I ass. I ass. I ass. I ass. I ass. I ass. I ass. I ass. I ass. I ass. I ass. I ass. I ass. I ass. I ass. I ass. I ass. I ass. I ass. I ass. I ass. I ass. I ass. I ass. I ass. I ass. I ass. I ass. I ass. I ass. I ass. I ass. I ass. I ass. I ass. I ass. I ass. I ass. I ass. I ass. I ass. I ass. I ass. I ass. I ass. I ass. I ass. I ass. I ass. I ass. I ass. I ass. I ass. I ass. I ass. I ass. I ass. I ass. I ass. I ass. I ass. I ass. I ass. I ass. I ass. I ass. I ass. I ass. I ass. I ass. I ass. I ass. I ass. I ass. I ass. I ass. I ass. I ass. I ass. I ass. I ass. I ass. I ass. I ass. I ass. I ass. I ass. I ass. I ass. I ass. I ass. I ass. I ass. I ass. I ass. I ass. I ass. I ass. I ass. I ass. I ass. I ass. I ass. I ass. I ass. I ass. I ass. I ass. I ass. I ass. I ass. I ass. I ass. I ass. I ass. I ass. I ass. I ass. I ass. I ass. I ass. I ass. I ass. I ass. I ass. I ass. I ass. I ass. I ass. I ass. I ass. I ass. I ass. I ass. I ass. I ass. I ass. I ass. I ass. I ass. I ass. I ass. I ass. I ass. I ass. I ass. I ass. I ass. I ass. I ass. I ass. I ass. I ass. I ass. I ass. I ass. I ass. I ass. I ass. I ass. I ass. I ass. I ass. I ass. I ass. I ass. I ass. I ass. I ass. I ass. I ass. I ass. I ass. I ass. I ass. I ass. I ass. I ass. I ass. I ass. I ass. I ass. I ass. I ass. I ass. I ass. I ass. I ass. I ass. I ass. I ass. I ass. I ass. I ass. I ass. I ass. I ass. I ass. I ass. I ass. I ass. I ass. I ass. I ass. I ass. I ass. I ass. I ass. I ass. I ass. I ass. I ass. I ass. I ass. I ass. I ass. I ass. I ass. I ass. I ass. I ass. I ass. I ass. I ass. I ass. I ass. I ass. I ass. I ass. I ass. I ass. I ass. I ass. I ass. I ass. I ass. I ass.\n",
      ">>>>>>>>>>>>>>>>>>>>>>>>>>>>>>>>>>>>>>>>>>>>>>>>>>>>>>>>>>>>>>>>>>>>>>>>>>>>>>\n",
      "Why are you still here? Can you not find anything more important to do, like killing yourself?\n",
      ">>>>>>>>>>>>>>>>>>>>>>>>>>>>>>>>>>>>>>>>>>>>>>>>>>>>>>>>>>>>>>>>>>>>>>>>>>>>>>\n",
      "\"\n",
      " Ain't bothering me, I'm not required to sign my posts/edit. I didn't specifically threaten anyone and your blowing it out of control. It was a snide comment. If I said \"\"I'm going to kill him in a fire\"\" thats different; saying \"\"I'm going to church to pray that he gets cancer or dies in a fire\"\" is more of a sarchastic tone. Pity you can't see that. No matter. Bump it up to 2 weeks now, just cause you can. \"\n",
      ">>>>>>>>>>>>>>>>>>>>>>>>>>>>>>>>>>>>>>>>>>>>>>>>>>>>>>>>>>>>>>>>>>>>>>>>>>>>>>\n"
     ]
    }
   ],
   "source": [
    "threats = train.loc[train[\"threat\"] == True]\n",
    "\n",
    "for item in threats['comment_text'].values[:20]:\n",
    "    print(item)\n",
    "    print(\">>>>>>>>>>>>>>>>>>>>>>>>>>>>>>>>>>>>>>>>>>>>>>>>>>>>>>>>>>>>>>>>>>>>>>>>>>>>>>\")"
   ]
  },
  {
   "cell_type": "code",
   "execution_count": null,
   "metadata": {
    "collapsed": true
   },
   "outputs": [],
   "source": []
  }
 ],
 "metadata": {
  "kernelspec": {
   "display_name": "Python 3",
   "language": "python",
   "name": "python3"
  },
  "language_info": {
   "codemirror_mode": {
    "name": "ipython",
    "version": 3
   },
   "file_extension": ".py",
   "mimetype": "text/x-python",
   "name": "python",
   "nbconvert_exporter": "python",
   "pygments_lexer": "ipython3",
   "version": "3.6.3"
  }
 },
 "nbformat": 4,
 "nbformat_minor": 2
}
